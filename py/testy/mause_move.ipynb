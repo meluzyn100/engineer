{
 "cells": [
  {
   "cell_type": "code",
   "execution_count": 1,
   "metadata": {},
   "outputs": [
    {
     "name": "stdout",
     "output_type": "stream",
     "text": [
      "Collecting numpy==1.23.5\n",
      "  Downloading numpy-1.23.5-cp310-cp310-win_amd64.whl (14.6 MB)\n",
      "     ---------------------------------------- 14.6/14.6 MB 8.3 MB/s eta 0:00:00\n",
      "Collecting pandas==1.5.2\n",
      "  Downloading pandas-1.5.2-cp310-cp310-win_amd64.whl (10.4 MB)\n",
      "     ---------------------------------------- 10.4/10.4 MB 8.6 MB/s eta 0:00:00\n",
      "Collecting mpire==2.6.0\n",
      "  Downloading mpire-2.6.0-py3-none-any.whl (291 kB)\n",
      "     -------------------------------------- 291.4/291.4 kB 6.0 MB/s eta 0:00:00\n",
      "Requirement already satisfied: Cython==0.29.32 in c:\\users\\ajakobcz\\appdata\\local\\packages\\pythonsoftwarefoundation.python.3.10_qbz5n2kfra8p0\\localcache\\local-packages\\python310\\site-packages (from -r C:\\Users\\ajakobcz\\Desktop\\my_personal\\engineer\\requirements\\base.txt (line 4)) (0.29.32)\n",
      "Collecting pylint==2.15.7\n",
      "  Downloading pylint-2.15.7-py3-none-any.whl (509 kB)\n",
      "     -------------------------------------- 509.2/509.2 kB 6.4 MB/s eta 0:00:00\n",
      "Collecting pytest==7.2.0\n",
      "  Downloading pytest-7.2.0-py3-none-any.whl (316 kB)\n",
      "     -------------------------------------- 316.8/316.8 kB 3.9 MB/s eta 0:00:00\n",
      "Collecting autopep8==2.0.0\n",
      "  Downloading autopep8-2.0.0-py2.py3-none-any.whl (45 kB)\n",
      "     ---------------------------------------- 45.4/45.4 kB 1.1 MB/s eta 0:00:00\n",
      "Collecting pytz>=2020.1\n",
      "  Downloading pytz-2022.6-py2.py3-none-any.whl (498 kB)\n",
      "     -------------------------------------- 498.1/498.1 kB 6.3 MB/s eta 0:00:00\n",
      "Requirement already satisfied: python-dateutil>=2.8.1 in c:\\users\\ajakobcz\\appdata\\local\\packages\\pythonsoftwarefoundation.python.3.10_qbz5n2kfra8p0\\localcache\\local-packages\\python310\\site-packages (from pandas==1.5.2->-r C:\\Users\\ajakobcz\\Desktop\\my_personal\\engineer\\requirements\\base.txt (line 2)) (2.8.2)\n",
      "Requirement already satisfied: pygments>=2.0 in c:\\users\\ajakobcz\\appdata\\local\\packages\\pythonsoftwarefoundation.python.3.10_qbz5n2kfra8p0\\localcache\\local-packages\\python310\\site-packages (from mpire==2.6.0->-r C:\\Users\\ajakobcz\\Desktop\\my_personal\\engineer\\requirements\\base.txt (line 3)) (2.13.0)\n",
      "Collecting tqdm>=4.27\n",
      "  Downloading tqdm-4.64.1-py2.py3-none-any.whl (78 kB)\n",
      "     ---------------------------------------- 78.5/78.5 kB 4.5 MB/s eta 0:00:00\n",
      "Requirement already satisfied: pywin32>=301 in c:\\users\\ajakobcz\\appdata\\local\\packages\\pythonsoftwarefoundation.python.3.10_qbz5n2kfra8p0\\localcache\\local-packages\\python310\\site-packages (from mpire==2.6.0->-r C:\\Users\\ajakobcz\\Desktop\\my_personal\\engineer\\requirements\\base.txt (line 3)) (305)\n",
      "Collecting isort<6,>=4.2.5\n",
      "  Downloading isort-5.11.2-py3-none-any.whl (118 kB)\n",
      "     -------------------------------------- 118.6/118.6 kB 7.2 MB/s eta 0:00:00\n",
      "Requirement already satisfied: colorama>=0.4.5 in c:\\users\\ajakobcz\\appdata\\local\\packages\\pythonsoftwarefoundation.python.3.10_qbz5n2kfra8p0\\localcache\\local-packages\\python310\\site-packages (from pylint==2.15.7->-r C:\\Users\\ajakobcz\\Desktop\\my_personal\\engineer\\requirements\\dev.txt (line 2)) (0.4.6)\n",
      "Requirement already satisfied: platformdirs>=2.2.0 in c:\\users\\ajakobcz\\appdata\\local\\packages\\pythonsoftwarefoundation.python.3.10_qbz5n2kfra8p0\\localcache\\local-packages\\python310\\site-packages (from pylint==2.15.7->-r C:\\Users\\ajakobcz\\Desktop\\my_personal\\engineer\\requirements\\dev.txt (line 2)) (2.6.0)\n",
      "Collecting mccabe<0.8,>=0.6\n",
      "  Downloading mccabe-0.7.0-py2.py3-none-any.whl (7.3 kB)\n",
      "Collecting astroid<=2.14.0-dev0,>=2.12.13\n",
      "  Downloading astroid-2.12.13-py3-none-any.whl (264 kB)\n",
      "     -------------------------------------- 264.8/264.8 kB 8.2 MB/s eta 0:00:00\n",
      "Collecting tomli>=1.1.0\n",
      "  Downloading tomli-2.0.1-py3-none-any.whl (12 kB)\n",
      "Collecting tomlkit>=0.10.1\n",
      "  Downloading tomlkit-0.11.6-py3-none-any.whl (35 kB)\n",
      "Collecting dill>=0.2\n",
      "  Downloading dill-0.3.6-py3-none-any.whl (110 kB)\n",
      "     -------------------------------------- 110.5/110.5 kB 6.3 MB/s eta 0:00:00\n",
      "Requirement already satisfied: packaging in c:\\users\\ajakobcz\\appdata\\local\\packages\\pythonsoftwarefoundation.python.3.10_qbz5n2kfra8p0\\localcache\\local-packages\\python310\\site-packages (from pytest==7.2.0->-r C:\\Users\\ajakobcz\\Desktop\\my_personal\\engineer\\requirements\\dev.txt (line 3)) (22.0)\n",
      "Collecting pluggy<2.0,>=0.12\n",
      "  Downloading pluggy-1.0.0-py2.py3-none-any.whl (13 kB)\n",
      "Collecting iniconfig\n",
      "  Downloading iniconfig-1.1.1-py2.py3-none-any.whl (5.0 kB)\n",
      "Collecting attrs>=19.2.0\n",
      "  Downloading attrs-22.1.0-py2.py3-none-any.whl (58 kB)\n",
      "     ---------------------------------------- 58.8/58.8 kB ? eta 0:00:00\n",
      "Collecting exceptiongroup>=1.0.0rc8\n",
      "  Downloading exceptiongroup-1.0.4-py3-none-any.whl (14 kB)\n",
      "Collecting pycodestyle>=2.9.1\n",
      "  Downloading pycodestyle-2.10.0-py2.py3-none-any.whl (41 kB)\n",
      "     ---------------------------------------- 41.3/41.3 kB ? eta 0:00:00\n",
      "Collecting lazy-object-proxy>=1.4.0\n",
      "  Downloading lazy_object_proxy-1.8.0-cp310-cp310-win_amd64.whl (22 kB)\n",
      "Collecting wrapt<2,>=1.11\n",
      "  Downloading wrapt-1.14.1-cp310-cp310-win_amd64.whl (35 kB)\n",
      "Requirement already satisfied: six>=1.5 in c:\\users\\ajakobcz\\appdata\\local\\packages\\pythonsoftwarefoundation.python.3.10_qbz5n2kfra8p0\\localcache\\local-packages\\python310\\site-packages (from python-dateutil>=2.8.1->pandas==1.5.2->-r C:\\Users\\ajakobcz\\Desktop\\my_personal\\engineer\\requirements\\base.txt (line 2)) (1.16.0)\n",
      "Installing collected packages: pytz, iniconfig, wrapt, tqdm, tomlkit, tomli, pycodestyle, pluggy, numpy, mccabe, lazy-object-proxy, isort, exceptiongroup, dill, attrs, pytest, pandas, mpire, autopep8, astroid, pylint\n",
      "Successfully installed astroid-2.12.13 attrs-22.1.0 autopep8-2.0.0 dill-0.3.6 exceptiongroup-1.0.4 iniconfig-1.1.1 isort-5.11.2 lazy-object-proxy-1.8.0 mccabe-0.7.0 mpire-2.6.0 numpy-1.23.5 pandas-1.5.2 pluggy-1.0.0 pycodestyle-2.10.0 pylint-2.15.7 pytest-7.2.0 pytz-2022.6 tomli-2.0.1 tomlkit-0.11.6 tqdm-4.64.1 wrapt-1.14.1\n",
      "Note: you may need to restart the kernel to use updated packages.\n"
     ]
    },
    {
     "name": "stderr",
     "output_type": "stream",
     "text": [
      "  WARNING: The script tqdm.exe is installed in 'C:\\Users\\ajakobcz\\AppData\\Local\\Packages\\PythonSoftwareFoundation.Python.3.10_qbz5n2kfra8p0\\LocalCache\\local-packages\\Python310\\Scripts' which is not on PATH.\n",
      "  Consider adding this directory to PATH or, if you prefer to suppress this warning, use --no-warn-script-location.\n",
      "  WARNING: The script pycodestyle.exe is installed in 'C:\\Users\\ajakobcz\\AppData\\Local\\Packages\\PythonSoftwareFoundation.Python.3.10_qbz5n2kfra8p0\\LocalCache\\local-packages\\Python310\\Scripts' which is not on PATH.\n",
      "  Consider adding this directory to PATH or, if you prefer to suppress this warning, use --no-warn-script-location.\n",
      "  WARNING: The script f2py.exe is installed in 'C:\\Users\\ajakobcz\\AppData\\Local\\Packages\\PythonSoftwareFoundation.Python.3.10_qbz5n2kfra8p0\\LocalCache\\local-packages\\Python310\\Scripts' which is not on PATH.\n",
      "  Consider adding this directory to PATH or, if you prefer to suppress this warning, use --no-warn-script-location.\n",
      "  WARNING: The scripts isort-identify-imports.exe and isort.exe are installed in 'C:\\Users\\ajakobcz\\AppData\\Local\\Packages\\PythonSoftwareFoundation.Python.3.10_qbz5n2kfra8p0\\LocalCache\\local-packages\\Python310\\Scripts' which is not on PATH.\n",
      "  Consider adding this directory to PATH or, if you prefer to suppress this warning, use --no-warn-script-location.\n",
      "  WARNING: The scripts py.test.exe and pytest.exe are installed in 'C:\\Users\\ajakobcz\\AppData\\Local\\Packages\\PythonSoftwareFoundation.Python.3.10_qbz5n2kfra8p0\\LocalCache\\local-packages\\Python310\\Scripts' which is not on PATH.\n",
      "  Consider adding this directory to PATH or, if you prefer to suppress this warning, use --no-warn-script-location.\n",
      "  WARNING: The script autopep8.exe is installed in 'C:\\Users\\ajakobcz\\AppData\\Local\\Packages\\PythonSoftwareFoundation.Python.3.10_qbz5n2kfra8p0\\LocalCache\\local-packages\\Python310\\Scripts' which is not on PATH.\n",
      "  Consider adding this directory to PATH or, if you prefer to suppress this warning, use --no-warn-script-location.\n",
      "  WARNING: The scripts epylint.exe, pylint-config.exe, pylint.exe, pyreverse.exe and symilar.exe are installed in 'C:\\Users\\ajakobcz\\AppData\\Local\\Packages\\PythonSoftwareFoundation.Python.3.10_qbz5n2kfra8p0\\LocalCache\\local-packages\\Python310\\Scripts' which is not on PATH.\n",
      "  Consider adding this directory to PATH or, if you prefer to suppress this warning, use --no-warn-script-location.\n"
     ]
    }
   ],
   "source": [
    "pip install -r C:\\Users\\ajakobcz\\Desktop\\my_personal\\engineer\\requirements\\dev.txt"
   ]
  },
  {
   "cell_type": "code",
   "execution_count": 9,
   "metadata": {},
   "outputs": [
    {
     "name": "stdout",
     "output_type": "stream",
     "text": [
      "Size(width=1920, height=1080)\n",
      "1397 544\n",
      "1257 550\n",
      "1208 573\n",
      "1362 518\n",
      "1118 590\n",
      "857 522\n",
      "1187 571\n",
      "1194 532\n",
      "1285 594\n",
      "1329 593\n",
      "1052 529\n",
      "879 530\n",
      "1010 564\n",
      "861 569\n",
      "813 512\n",
      "1203 581\n",
      "1210 573\n",
      "878 578\n",
      "1068 511\n",
      "896 574\n",
      "897 597\n",
      "912 549\n",
      "1104 517\n",
      "1385 520\n",
      "1391 533\n",
      "1385 596\n",
      "895 531\n",
      "1140 507\n",
      "1114 513\n",
      "825 504\n",
      "1114 533\n",
      "1266 528\n",
      "1014 510\n",
      "1383 573\n",
      "1043 574\n",
      "1248 569\n",
      "1105 543\n"
     ]
    },
    {
     "ename": "KeyboardInterrupt",
     "evalue": "",
     "output_type": "error",
     "traceback": [
      "\u001b[1;31m---------------------------------------------------------------------------\u001b[0m",
      "\u001b[1;31mKeyboardInterrupt\u001b[0m                         Traceback (most recent call last)",
      "Cell \u001b[1;32mIn[9], line 14\u001b[0m\n\u001b[0;32m     12\u001b[0m pyautogui\u001b[39m.\u001b[39mmoveTo(x, y)\n\u001b[0;32m     13\u001b[0m \u001b[39mprint\u001b[39m(x, y)\n\u001b[1;32m---> 14\u001b[0m sleep(\u001b[39m20\u001b[39;49m)\n\u001b[0;32m     15\u001b[0m count\u001b[39m+\u001b[39m\u001b[39m=\u001b[39m\u001b[39m1\u001b[39m\n",
      "\u001b[1;31mKeyboardInterrupt\u001b[0m: "
     ]
    }
   ],
   "source": [
    "from time import sleep\n",
    "import pyautogui\n",
    "import numpy as np\n",
    "\n",
    "# Check your screen size\n",
    "print(pyautogui.size())\n",
    "\n",
    "count=0\n",
    "while 1:\n",
    "     x=np.random.randint(800,1400)\n",
    "     y=np.random.randint(500,600)\n",
    "     pyautogui.moveTo(x, y)\n",
    "     print(x, y)\n",
    "     sleep(20)\n",
    "     count+=1"
   ]
  },
  {
   "cell_type": "code",
   "execution_count": null,
   "metadata": {},
   "outputs": [
    {
     "name": "stdout",
     "output_type": "stream",
     "text": [
      "Size(width=1920, height=1080)\n",
      "1397 544\n",
      "1257 550\n",
      "1208 573\n",
      "1362 518\n",
      "1118 590\n",
      "857 522\n",
      "1187 571\n",
      "1194 532\n",
      "1285 594\n",
      "1329 593\n",
      "1052 529\n",
      "879 530\n",
      "1010 564\n",
      "861 569\n",
      "813 512\n",
      "1203 581\n",
      "1210 573\n",
      "878 578\n",
      "1068 511\n",
      "896 574\n",
      "897 597\n",
      "912 549\n",
      "1104 517\n",
      "1385 520\n",
      "1391 533\n",
      "1385 596\n",
      "895 531\n",
      "1140 507\n",
      "1114 513\n",
      "825 504\n",
      "1114 533\n",
      "1266 528\n",
      "1014 510\n",
      "1383 573\n",
      "1043 574\n",
      "1248 569\n",
      "1105 543\n"
     ]
    }
   ],
   "source": [
    "from time import sleep\n",
    "import pyautogui\n",
    "import numpy as np\n",
    "\n",
    "# Check your screen size\n",
    "print(pyautogui.size())\n",
    "\n",
    "count=0\n",
    "while 1:\n",
    "     x=np.random.randint(800,1400)\n",
    "     y=np.random.randint(500,600)\n",
    "     pyautogui.moveTo(x, y)\n",
    "     print(x, y)\n",
    "     sleep(20)\n",
    "     count+=1"
   ]
  },
  {
   "cell_type": "code",
   "execution_count": 5,
   "metadata": {},
   "outputs": [
    {
     "name": "stdout",
     "output_type": "stream",
     "text": [
      "Collecting pyautoguiNote: you may need to restart the kernel to use updated packages.\n"
     ]
    },
    {
     "name": "stderr",
     "output_type": "stream",
     "text": [
      "  DEPRECATION: PyTweening is being installed using the legacy 'setup.py install' method, because it does not have a 'pyproject.toml' and the 'wheel' package is not installed. pip 23.1 will enforce this behaviour change. A possible replacement is to enable the '--use-pep517' option. Discussion can be found at https://github.com/pypa/pip/issues/8559\n",
      "  DEPRECATION: pyrect is being installed using the legacy 'setup.py install' method, because it does not have a 'pyproject.toml' and the 'wheel' package is not installed. pip 23.1 will enforce this behaviour change. A possible replacement is to enable the '--use-pep517' option. Discussion can be found at https://github.com/pypa/pip/issues/8559\n",
      "  DEPRECATION: pyperclip is being installed using the legacy 'setup.py install' method, because it does not have a 'pyproject.toml' and the 'wheel' package is not installed. pip 23.1 will enforce this behaviour change. A possible replacement is to enable the '--use-pep517' option. Discussion can be found at https://github.com/pypa/pip/issues/8559\n",
      "  DEPRECATION: pygetwindow is being installed using the legacy 'setup.py install' method, because it does not have a 'pyproject.toml' and the 'wheel' package is not installed. pip 23.1 will enforce this behaviour change. A possible replacement is to enable the '--use-pep517' option. Discussion can be found at https://github.com/pypa/pip/issues/8559\n",
      "  DEPRECATION: mouseinfo is being installed using the legacy 'setup.py install' method, because it does not have a 'pyproject.toml' and the 'wheel' package is not installed. pip 23.1 will enforce this behaviour change. A possible replacement is to enable the '--use-pep517' option. Discussion can be found at https://github.com/pypa/pip/issues/8559\n",
      "  DEPRECATION: pyautogui is being installed using the legacy 'setup.py install' method, because it does not have a 'pyproject.toml' and the 'wheel' package is not installed. pip 23.1 will enforce this behaviour change. A possible replacement is to enable the '--use-pep517' option. Discussion can be found at https://github.com/pypa/pip/issues/8559\n"
     ]
    },
    {
     "name": "stdout",
     "output_type": "stream",
     "text": [
      "\n",
      "  Downloading PyAutoGUI-0.9.53.tar.gz (59 kB)\n",
      "     ---------------------------------------- 59.0/59.0 kB 3.0 MB/s eta 0:00:00\n",
      "  Preparing metadata (setup.py): started\n",
      "  Preparing metadata (setup.py): finished with status 'done'\n",
      "Collecting pymsgbox\n",
      "  Downloading PyMsgBox-1.0.9.tar.gz (18 kB)\n",
      "  Installing build dependencies: started\n",
      "  Installing build dependencies: finished with status 'done'\n",
      "  Getting requirements to build wheel: started\n",
      "  Getting requirements to build wheel: finished with status 'done'\n",
      "  Preparing metadata (pyproject.toml): started\n",
      "  Preparing metadata (pyproject.toml): finished with status 'done'\n",
      "Collecting PyTweening>=1.0.1\n",
      "  Downloading pytweening-1.0.4.tar.gz (14 kB)\n",
      "  Preparing metadata (setup.py): started\n",
      "  Preparing metadata (setup.py): finished with status 'done'\n",
      "Collecting pyscreeze>=0.1.21\n",
      "  Downloading PyScreeze-0.1.28.tar.gz (25 kB)\n",
      "  Installing build dependencies: started\n",
      "  Installing build dependencies: finished with status 'done'\n",
      "  Getting requirements to build wheel: started\n",
      "  Getting requirements to build wheel: finished with status 'done'\n",
      "  Preparing metadata (pyproject.toml): started\n",
      "  Preparing metadata (pyproject.toml): finished with status 'done'\n",
      "Collecting pygetwindow>=0.0.5\n",
      "  Downloading PyGetWindow-0.0.9.tar.gz (9.7 kB)\n",
      "  Preparing metadata (setup.py): started\n",
      "  Preparing metadata (setup.py): finished with status 'done'\n",
      "Collecting mouseinfo\n",
      "  Downloading MouseInfo-0.1.3.tar.gz (10 kB)\n",
      "  Preparing metadata (setup.py): started\n",
      "  Preparing metadata (setup.py): finished with status 'done'\n",
      "Collecting pyrect\n",
      "  Downloading PyRect-0.2.0.tar.gz (17 kB)\n",
      "  Preparing metadata (setup.py): started\n",
      "  Preparing metadata (setup.py): finished with status 'done'\n",
      "Collecting pyperclip\n",
      "  Downloading pyperclip-1.8.2.tar.gz (20 kB)\n",
      "  Preparing metadata (setup.py): started\n",
      "  Preparing metadata (setup.py): finished with status 'done'\n",
      "Building wheels for collected packages: pyscreeze, pymsgbox\n",
      "  Building wheel for pyscreeze (pyproject.toml): started\n",
      "  Building wheel for pyscreeze (pyproject.toml): finished with status 'done'\n",
      "  Created wheel for pyscreeze: filename=PyScreeze-0.1.28-py3-none-any.whl size=13027 sha256=4b724c8d5c9577e2ebe311d8b9214154b42a3af9ae8e18aeb37d3a8aa9fc1776\n",
      "  Stored in directory: c:\\users\\ajakobcz\\appdata\\local\\packages\\pythonsoftwarefoundation.python.3.10_qbz5n2kfra8p0\\localcache\\local\\pip\\cache\\wheels\\f7\\3c\\82\\2e45b77cc2efeb7db09eb00bae84c0b3f6d80683c20e98394b\n",
      "  Building wheel for pymsgbox (pyproject.toml): started\n",
      "  Building wheel for pymsgbox (pyproject.toml): finished with status 'done'\n",
      "  Created wheel for pymsgbox: filename=PyMsgBox-1.0.9-py3-none-any.whl size=7416 sha256=5f716438f4600427e424f0e90b70eb719bdf14fa9154448396309dbb20d2a39c\n",
      "  Stored in directory: c:\\users\\ajakobcz\\appdata\\local\\packages\\pythonsoftwarefoundation.python.3.10_qbz5n2kfra8p0\\localcache\\local\\pip\\cache\\wheels\\97\\61\\22\\1a0de2324b204d675c5bfb28b944101eb48dcf1a1fe87bcce7\n",
      "Successfully built pyscreeze pymsgbox\n",
      "Installing collected packages: PyTweening, pyscreeze, pyrect, pyperclip, pymsgbox, pygetwindow, mouseinfo, pyautogui\n",
      "  Running setup.py install for PyTweening: started\n",
      "  Running setup.py install for PyTweening: finished with status 'done'\n",
      "  Running setup.py install for pyrect: started\n",
      "  Running setup.py install for pyrect: finished with status 'done'\n",
      "  Running setup.py install for pyperclip: started\n",
      "  Running setup.py install for pyperclip: finished with status 'done'\n",
      "  Running setup.py install for pygetwindow: started\n",
      "  Running setup.py install for pygetwindow: finished with status 'done'\n",
      "  Running setup.py install for mouseinfo: started\n",
      "  Running setup.py install for mouseinfo: finished with status 'done'\n",
      "  Running setup.py install for pyautogui: started\n",
      "  Running setup.py install for pyautogui: finished with status 'done'\n",
      "Successfully installed PyTweening-1.0.4 mouseinfo-0.1.3 pyautogui-0.9.53 pygetwindow-0.0.9 pymsgbox-1.0.9 pyperclip-1.8.2 pyrect-0.2.0 pyscreeze-0.1.28\n"
     ]
    }
   ],
   "source": [
    "pip install pyautogui"
   ]
  },
  {
   "cell_type": "code",
   "execution_count": 3,
   "metadata": {},
   "outputs": [
    {
     "ename": "ArgumentError",
     "evalue": "argument 2: TypeError: Don't know how to convert parameter 2",
     "output_type": "error",
     "traceback": [
      "\u001b[1;31m---------------------------------------------------------------------------\u001b[0m",
      "\u001b[1;31mArgumentError\u001b[0m                             Traceback (most recent call last)",
      "Cell \u001b[1;32mIn[3], line 1\u001b[0m\n\u001b[1;32m----> 1\u001b[0m random_movement((\u001b[39m300\u001b[39;49m,\u001b[39m300\u001b[39;49m),(\u001b[39m600\u001b[39;49m,\u001b[39m600\u001b[39;49m))\n",
      "Cell \u001b[1;32mIn[2], line 33\u001b[0m, in \u001b[0;36mrandom_movement\u001b[1;34m(top_left_corner, bottom_right_corner, min_speed, max_speed)\u001b[0m\n\u001b[0;32m     31\u001b[0m steps_per_second \u001b[39m=\u001b[39m \u001b[39m35.0\u001b[39m\n\u001b[0;32m     32\u001b[0m \u001b[39mwhile\u001b[39;00m \u001b[39mTrue\u001b[39;00m:\n\u001b[1;32m---> 33\u001b[0m     move_mouse(pos)\n\u001b[0;32m     34\u001b[0m     time\u001b[39m.\u001b[39msleep(\u001b[39m1.0\u001b[39m\u001b[39m/\u001b[39msteps_per_second) \n\u001b[0;32m     36\u001b[0m     speed \u001b[39m=\u001b[39m get_new_val(min_speed, max_speed, speed)\n",
      "Cell \u001b[1;32mIn[2], line 11\u001b[0m, in \u001b[0;36mmove_mouse\u001b[1;34m(pos)\u001b[0m\n\u001b[0;32m      9\u001b[0m x \u001b[39m=\u001b[39m \u001b[39m65536\u001b[39m \u001b[39m*\u001b[39m x_pos \u001b[39m/\u001b[39m screen_size[\u001b[39m0\u001b[39m] \u001b[39m+\u001b[39m \u001b[39m1\u001b[39m\n\u001b[0;32m     10\u001b[0m y \u001b[39m=\u001b[39m \u001b[39m65536\u001b[39m \u001b[39m*\u001b[39m y_pos \u001b[39m/\u001b[39m screen_size[\u001b[39m1\u001b[39m] \u001b[39m+\u001b[39m \u001b[39m1\u001b[39m\n\u001b[1;32m---> 11\u001b[0m \u001b[39mreturn\u001b[39;00m ctypes\u001b[39m.\u001b[39;49mwindll\u001b[39m.\u001b[39;49muser32\u001b[39m.\u001b[39;49mmouse_event(\u001b[39m32769\u001b[39;49m, x, y, \u001b[39m0\u001b[39;49m, \u001b[39m0\u001b[39;49m)\n",
      "\u001b[1;31mArgumentError\u001b[0m: argument 2: TypeError: Don't know how to convert parameter 2"
     ]
    }
   ],
   "source": []
  }
 ],
 "metadata": {
  "kernelspec": {
   "display_name": "Python 3",
   "language": "python",
   "name": "python3"
  },
  "language_info": {
   "codemirror_mode": {
    "name": "ipython",
    "version": 3
   },
   "file_extension": ".py",
   "mimetype": "text/x-python",
   "name": "python",
   "nbconvert_exporter": "python",
   "pygments_lexer": "ipython3",
   "version": "3.10.9"
  },
  "orig_nbformat": 4,
  "vscode": {
   "interpreter": {
    "hash": "5527b7c5797bf0fcc5f215c4e9fce1253ac0393f30f4ebc1a01e3a2c922a179a"
   }
  }
 },
 "nbformat": 4,
 "nbformat_minor": 2
}
