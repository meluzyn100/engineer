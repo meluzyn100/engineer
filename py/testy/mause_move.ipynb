{
 "cells": [
  {
   "cell_type": "code",
   "execution_count": 1,
   "metadata": {},
   "outputs": [
    {
     "name": "stdout",
     "output_type": "stream",
     "text": [
      "Size(width=1920, height=1080)\n",
      "1290 513\n",
      "1308 597\n",
      "1225 594\n",
      "1071 572\n"
     ]
    }
   ],
   "source": [
    "from time import sleep\n",
    "import pyautogui\n",
    "import numpy as np\n",
    "\n",
    "# Check your screen size\n",
    "print(pyautogui.size())\n",
    "\n",
    "count=0\n",
    "while 1:\n",
    "     x=np.random.randint(800,1400)\n",
    "     y=np.random.randint(500,600)\n",
    "     pyautogui.moveTo(x, y)\n",
    "     print(x, y)\n",
    "     sleep(20)\n",
    "     count+=1"
   ]
  }
 ],
 "metadata": {
  "kernelspec": {
   "display_name": "Python 3",
   "language": "python",
   "name": "python3"
  },
  "language_info": {
   "codemirror_mode": {
    "name": "ipython",
    "version": 3
   },
   "file_extension": ".py",
   "mimetype": "text/x-python",
   "name": "python",
   "nbconvert_exporter": "python",
   "pygments_lexer": "ipython3",
   "version": "3.10.9"
  },
  "orig_nbformat": 4,
  "vscode": {
   "interpreter": {
    "hash": "5527b7c5797bf0fcc5f215c4e9fce1253ac0393f30f4ebc1a01e3a2c922a179a"
   }
  }
 },
 "nbformat": 4,
 "nbformat_minor": 2
}
