{
 "cells": [
  {
   "cell_type": "code",
   "execution_count": 10,
   "metadata": {},
   "outputs": [],
   "source": [
    "import numpy as np\n",
    "import collections\n",
    "import multiprocessing\n",
    "from collections import deque\n",
    "from mpire import WorkerPool\n",
    "from war import war3_player, symulation"
   ]
  },
  {
   "cell_type": "code",
   "execution_count": 11,
   "metadata": {},
   "outputs": [],
   "source": [
    "deck = [2, 3, 4, 5, 6, 7, 8, 9, 10, 11, 12, 13, 14]*4  # deck of 52 cards\n",
    "deck_len = len(deck)\n",
    "parameters_0 = [1, 1, 1]"
   ]
  },
  {
   "cell_type": "code",
   "execution_count": 12,
   "metadata": {},
   "outputs": [],
   "source": [
    "random.shuffle(deck)\n",
    "player_1 = war3_player(parameters_0, deck[0:int(deck_len/2)])\n",
    "player_2 = war3_player(parameters_0, deck[int(deck_len/2):deck_len])\n",
    "\n",
    "games_to_play = 100000\n",
    "# cdef double x[100][2][3]\n",
    "x = [[player_1, player_2]]*games_to_play\n",
    "\n",
    "def test(symulation, x):\n",
    "    # with WorkerPool(n_jobs=5) as pool:\n",
    "    pool = WorkerPool(n_jobs=5)\n",
    "    return pool.map(symulation, x)"
   ]
  },
  {
   "cell_type": "code",
   "execution_count": 15,
   "metadata": {},
   "outputs": [
    {
     "name": "stdout",
     "output_type": "stream",
     "text": [
      "927 ns ± 45.7 ns per loop (mean ± std. dev. of 7 runs, 1,000,000 loops each)\n"
     ]
    }
   ],
   "source": [
    "%%timeit\n",
    "symulation(player_1, player_2)"
   ]
  }
 ],
 "metadata": {
  "kernelspec": {
   "display_name": "Python 3.10.6 64-bit",
   "language": "python",
   "name": "python3"
  },
  "language_info": {
   "codemirror_mode": {
    "name": "ipython",
    "version": 3
   },
   "file_extension": ".py",
   "mimetype": "text/x-python",
   "name": "python",
   "nbconvert_exporter": "python",
   "pygments_lexer": "ipython3",
   "version": "3.10.6"
  },
  "orig_nbformat": 4,
  "vscode": {
   "interpreter": {
    "hash": "31f2aee4e71d21fbe5cf8b01ff0e069b9275f58929596ceb00d14d90e3e16cd6"
   }
  }
 },
 "nbformat": 4,
 "nbformat_minor": 2
}
