{
 "cells": [
  {
   "cell_type": "code",
   "execution_count": 86,
   "metadata": {},
   "outputs": [
    {
     "name": "stdout",
     "output_type": "stream",
     "text": [
      "The cython extension is already loaded. To reload it, use:\n",
      "  %reload_ext cython\n"
     ]
    }
   ],
   "source": [
    "%load_ext cython"
   ]
  },
  {
   "cell_type": "code",
   "execution_count": 93,
   "metadata": {},
   "outputs": [],
   "source": [
    "import sys\n",
    "sys.path.append(\"/home/olek/semestr_7/engineer/py\")"
   ]
  },
  {
   "cell_type": "markdown",
   "metadata": {},
   "source": [
    "# Naive algorithm"
   ]
  },
  {
   "cell_type": "code",
   "execution_count": 94,
   "metadata": {},
   "outputs": [],
   "source": [
    "%%cython\n",
    "import numpy as np\n",
    "import random \n",
    "from datetime import datetime\n",
    "\n",
    "from bernstein_race.IEBLR import IEBLR\n",
    "\n",
    "cdef float epsilon, delta, sig\n",
    "cdef int n_max, n_jobs, i_max\n",
    "\n",
    "epsilon = 0.01\n",
    "delta = 0.05\n",
    "\n",
    "def alg1(x0, symulation, delta = 0.01, epsilon = 0.05, n_max = 208, n_jobs = 4, i_max = None):\n",
    "    cdef int n, i, iterations \n",
    "    sig = 1\n",
    "    x0 = np.array(x0)\n",
    "    x = x0\n",
    "    n = len(x0)\n",
    "    i = 0\n",
    "    iterations = 0\n",
    "    if not i_max:\n",
    "        i_max = 0\n",
    "    with open(\"x_history\", \"w+\") as file:\n",
    "        while 1:\n",
    "            child = [min(700, x_i + sig * np.random.normal()) for x_i in x] #python limitation\n",
    "            race1 = IEBLR(symulation, x, x0, \n",
    "                            delta = delta, epsilon = epsilon, n_max = n_max, n_jobs = n_jobs)\n",
    "            race2 = IEBLR(symulation, child, x0, \n",
    "                            delta = delta, epsilon = epsilon, n_max = n_max, n_jobs = n_jobs)\n",
    "            if race2 > race1:\n",
    "                x = child\n",
    "                sig = min(10, 2*sig) #\n",
    "                today = datetime.now()\n",
    "                ps = np.exp(x)/np.sum(np.exp(x))\n",
    "                i+=1\n",
    "                file.write(f\"{i}, {x}, {today} \\n\")\n",
    "            else:\n",
    "                sig = 0.84*sig\n",
    "            iterations+=1\n",
    "            if iterations > i_max:\n",
    "                break   "
   ]
  },
  {
   "cell_type": "code",
   "execution_count": null,
   "metadata": {},
   "outputs": [],
   "source": []
  },
  {
   "cell_type": "code",
   "execution_count": 89,
   "metadata": {},
   "outputs": [],
   "source": [
    "from games.war3par.war import symulation\n",
    "alg1([1,1,1], symulation, i_max = 50)"
   ]
  },
  {
   "cell_type": "code",
   "execution_count": 90,
   "metadata": {},
   "outputs": [
    {
     "data": {
      "text/plain": [
       "array([2.02078612e-04, 9.99797921e-01, 3.51234685e-12])"
      ]
     },
     "execution_count": 90,
     "metadata": {},
     "output_type": "execute_result"
    }
   ],
   "source": [
    "test = [17.539342257734507, 26.04599392479185, -0.32854065948368616]\n",
    "np.exp(test)/np.sum(np.exp(test))"
   ]
  },
  {
   "cell_type": "markdown",
   "metadata": {},
   "source": [
    "# iterative"
   ]
  },
  {
   "cell_type": "code",
   "execution_count": 95,
   "metadata": {},
   "outputs": [],
   "source": [
    "%%cython\n",
    "import numpy as np\n",
    "import random \n",
    "from datetime import datetime\n",
    "\n",
    "from bernstein_race.IEBLR import IEBLR2\n",
    "\n",
    "cdef float epsilon, delta, sig\n",
    "cdef int n_max, n_jobs, i_max\n",
    "\n",
    "epsilon = 0.01\n",
    "delta = 0.05\n",
    "\n",
    "def alg2(x0, symulation, delta = 0.01, epsilon = 0.05, n_max = 208, n_jobs = 4, i_max = None):\n",
    "    cdef int n, i, iterations \n",
    "    sig = 1\n",
    "    x0 = np.array(x0)\n",
    "    x = x0\n",
    "    n = len(x0)\n",
    "    i = 0\n",
    "    iterations = 0\n",
    "    if not i_max:\n",
    "        i_max = 0\n",
    "    with open(\"x_history_alg_2\", \"w+\") as file:\n",
    "        while 1:\n",
    "            child = [min(700, x_i + sig * np.random.normal()) for x_i in x] #python limitation\n",
    "            race = IEBLR2(symulation, child, x, \n",
    "                            delta = delta, epsilon = epsilon, n_max = n_max, n_jobs = n_jobs)\n",
    "            if race == 1:\n",
    "                x = child\n",
    "                sig = min(10, 2*sig) #ograniczamy wariancje\n",
    "                today = datetime.now()\n",
    "                ps = np.exp(x)/np.sum(np.exp(x))\n",
    "                i+=1\n",
    "                file.write(f\"{i}, {x}, {today} \\n\")\n",
    "            else:\n",
    "                sig = 0.84*sig\n",
    "            iterations+=1\n",
    "            if iterations > i_max:\n",
    "                break   "
   ]
  },
  {
   "cell_type": "code",
   "execution_count": 96,
   "metadata": {},
   "outputs": [],
   "source": [
    "from games.war3par.war import symulation\n",
    "alg2([1,1,1], symulation, i_max = 50)"
   ]
  },
  {
   "cell_type": "markdown",
   "metadata": {},
   "source": [
    "# cov"
   ]
  },
  {
   "cell_type": "code",
   "execution_count": 80,
   "metadata": {},
   "outputs": [],
   "source": [
    "%%cython\n",
    "import numpy as np\n",
    "import random \n",
    "from datetime import datetime\n",
    "\n",
    "from bernstein_race.IEBLR import IEBLR2\n",
    "\n",
    "cdef float epsilon, delta, sig\n",
    "cdef int n_max, n_jobs, i_max\n",
    "\n",
    "epsilon = 0.01\n",
    "delta = 0.05\n",
    "\n",
    "def alg3(x0, symulation, delta = 0.01, epsilon = 0.05, n_max = 208, n_jobs = 4, i_max = None):\n",
    "    cdef int n, i, iterations \n",
    "    sig = 1\n",
    "    x0 = np.array(x0)\n",
    "    P = [x0]\n",
    "    n = len(x0)\n",
    "    i = 0\n",
    "    iterations = 0\n",
    "    if not i_max:\n",
    "        i_max = 0\n",
    "    with open(\"x_history_alg_3\", \"w+\") as file:\n",
    "        while 1:\n",
    "            for ancestor in P:\n",
    "                child = [min(700, x_i + sig * np.random.normal()) for x_i in ancestor] #python limitation\n",
    "                race = IEBLR2(symulation, child, ancestor, \n",
    "                            delta = delta, epsilon = epsilon, n_max = n_max, n_jobs = n_jobs)\n",
    "                if race == 2:\n",
    "                    break\n",
    "            if race == 1:\n",
    "                P.append(child)\n",
    "                sig = min(10, 2*sig) #ograniczamy wariancje\n",
    "                today = datetime.now()\n",
    "                i+=1\n",
    "                file.write(f\"{i}, {child}, {today} \\n\")\n",
    "            else:\n",
    "                sig = 0.84*sig\n",
    "            iterations+=1\n",
    "            if iterations > i_max:\n",
    "                break   \n",
    "\n",
    "    "
   ]
  },
  {
   "cell_type": "code",
   "execution_count": 79,
   "metadata": {},
   "outputs": [
    {
     "ename": "TypeError",
     "evalue": "Expected list, got numpy.ndarray",
     "output_type": "error",
     "traceback": [
      "\u001b[0;31m---------------------------------------------------------------------------\u001b[0m",
      "\u001b[0;31mTypeError\u001b[0m                                 Traceback (most recent call last)",
      "Cell \u001b[0;32mIn [79], line 2\u001b[0m\n\u001b[1;32m      1\u001b[0m \u001b[39mfrom\u001b[39;00m \u001b[39mgames\u001b[39;00m\u001b[39m.\u001b[39;00m\u001b[39mwar3par\u001b[39;00m\u001b[39m.\u001b[39;00m\u001b[39mwar\u001b[39;00m \u001b[39mimport\u001b[39;00m symulation\n\u001b[0;32m----> 2\u001b[0m alg3([\u001b[39m1\u001b[39;49m,\u001b[39m1\u001b[39;49m,\u001b[39m1\u001b[39;49m], symulation, i_max \u001b[39m=\u001b[39;49m \u001b[39m20\u001b[39;49m)\n",
      "File \u001b[0;32m_cython_magic_d2245b145c6cf59f04f0a2d956227e07.pyx:24\u001b[0m, in \u001b[0;36m_cython_magic_d2245b145c6cf59f04f0a2d956227e07.alg3\u001b[0;34m()\u001b[0m\n",
      "File \u001b[0;32m_cython_magic_d2245b145c6cf59f04f0a2d956227e07.pyx:26\u001b[0m, in \u001b[0;36m_cython_magic_d2245b145c6cf59f04f0a2d956227e07.alg3\u001b[0;34m()\u001b[0m\n",
      "\u001b[0;31mTypeError\u001b[0m: Expected list, got numpy.ndarray"
     ]
    }
   ],
   "source": [
    "from games.war3par.war import symulation\n",
    "alg3([1,1,1], symulation, i_max = 20)"
   ]
  },
  {
   "cell_type": "markdown",
   "metadata": {},
   "source": [
    "# aprox cov"
   ]
  },
  {
   "cell_type": "code",
   "execution_count": 82,
   "metadata": {},
   "outputs": [],
   "source": [
    "%%cython\n",
    "import numpy as np\n",
    "import random \n",
    "from datetime import datetime\n",
    "\n",
    "from bernstein_race.IEBLR import IEBLR2\n",
    "\n",
    "cdef float epsilon, delta, sig\n",
    "cdef int n_max, n_jobs, i_max\n",
    "\n",
    "epsilon = 0.01\n",
    "delta = 0.05\n",
    "\n",
    "def alg4(x0, symulation, delta = 0.01, epsilon = 0.05, n_max = 208, n_jobs = 4, i_max = None):\n",
    "    cdef int n, i, iterations \n",
    "    sig = 1\n",
    "    x0 = np.array(x0)\n",
    "    P = [x0]\n",
    "    n = len(x0)\n",
    "    i = 0\n",
    "    iterations = 0\n",
    "    if not i_max:\n",
    "        i_max = 0\n",
    "    with open(\"x_history_alg_4\", \"w+\") as file:\n",
    "        while 1:\n",
    "            ancestor = random.choice(P)\n",
    "            child = [min(700, x_i + sig * np.random.normal()) for x_i in ancestor] #python limitation\n",
    "            race = IEBLR2(symulation, child, ancestor, \n",
    "                        delta = delta, epsilon = epsilon, n_max = n_max, n_jobs = n_jobs)\n",
    "            if race == 1:\n",
    "                P.append(child)\n",
    "                sig = min(10, 2*sig) #ograniczamy wariancje\n",
    "                today = datetime.now()\n",
    "                i+=1\n",
    "                file.write(f\"{i}, {child}, {today} \\n\")\n",
    "            else:\n",
    "                sig = 0.84*sig\n",
    "            iterations+=1\n",
    "            if iterations > i_max:\n",
    "                break   \n",
    "\n",
    "    "
   ]
  },
  {
   "cell_type": "code",
   "execution_count": 84,
   "metadata": {},
   "outputs": [
    {
     "ename": "KeyboardInterrupt",
     "evalue": "",
     "output_type": "error",
     "traceback": [
      "\u001b[0;31m---------------------------------------------------------------------------\u001b[0m",
      "\u001b[0;31mException\u001b[0m                                 Traceback (most recent call last)",
      "\u001b[0;31mException\u001b[0m: \n",
      "\nThe above exception was the direct cause of the following exception:\n",
      "\u001b[0;31mKeyboardInterrupt\u001b[0m                         Traceback (most recent call last)",
      "Cell \u001b[0;32mIn [84], line 2\u001b[0m\n\u001b[1;32m      1\u001b[0m \u001b[39mfrom\u001b[39;00m \u001b[39mgames\u001b[39;00m\u001b[39m.\u001b[39;00m\u001b[39mwar3par\u001b[39;00m\u001b[39m.\u001b[39;00m\u001b[39mwar\u001b[39;00m \u001b[39mimport\u001b[39;00m symulation\n\u001b[0;32m----> 2\u001b[0m alg4([\u001b[39m1\u001b[39;49m,\u001b[39m1\u001b[39;49m,\u001b[39m1\u001b[39;49m], symulation, i_max \u001b[39m=\u001b[39;49m \u001b[39m1000\u001b[39;49m)\n",
      "File \u001b[0;32m_cython_magic_ddcaf3ba83754976d04fcb68596e6743.pyx:23\u001b[0m, in \u001b[0;36m_cython_magic_ddcaf3ba83754976d04fcb68596e6743.alg4\u001b[0;34m()\u001b[0m\n",
      "File \u001b[0;32m_cython_magic_ddcaf3ba83754976d04fcb68596e6743.pyx:27\u001b[0m, in \u001b[0;36m_cython_magic_ddcaf3ba83754976d04fcb68596e6743.alg4\u001b[0;34m()\u001b[0m\n",
      "File \u001b[0;32mIEBLR.pyx:44\u001b[0m, in \u001b[0;36mIEBLR.IEBLR2\u001b[0;34m()\u001b[0m\n",
      "File \u001b[0;32mIEBLR.pyx:47\u001b[0m, in \u001b[0;36mIEBLR.IEBLR2\u001b[0;34m()\u001b[0m\n",
      "File \u001b[0;32m~/.local/lib/python3.10/site-packages/mpire/pool.py:370\u001b[0m, in \u001b[0;36mWorkerPool.map\u001b[0;34m(self, func, iterable_of_args, iterable_len, max_tasks_active, chunk_size, n_splits, worker_lifespan, progress_bar, progress_bar_position, concatenate_numpy_output, worker_init, worker_exit, task_timeout, worker_init_timeout, worker_exit_timeout, progress_bar_options)\u001b[0m\n\u001b[1;32m    368\u001b[0m \u001b[39mif\u001b[39;00m iterable_len \u001b[39mis\u001b[39;00m \u001b[39mNone\u001b[39;00m \u001b[39mand\u001b[39;00m \u001b[39mhasattr\u001b[39m(iterable_of_args, \u001b[39m'\u001b[39m\u001b[39m__len__\u001b[39m\u001b[39m'\u001b[39m):\n\u001b[1;32m    369\u001b[0m     iterable_len \u001b[39m=\u001b[39m \u001b[39mlen\u001b[39m(iterable_of_args)\n\u001b[0;32m--> 370\u001b[0m results \u001b[39m=\u001b[39m \u001b[39mself\u001b[39;49m\u001b[39m.\u001b[39;49mmap_unordered(func, ((args_idx, args) \u001b[39mfor\u001b[39;49;00m args_idx, args \u001b[39min\u001b[39;49;00m \u001b[39menumerate\u001b[39;49m(iterable_of_args)),\n\u001b[1;32m    371\u001b[0m                              iterable_len, max_tasks_active, chunk_size, n_splits, worker_lifespan,\n\u001b[1;32m    372\u001b[0m                              progress_bar, progress_bar_position, worker_init, worker_exit, task_timeout,\n\u001b[1;32m    373\u001b[0m                              worker_init_timeout, worker_exit_timeout, progress_bar_options)\n\u001b[1;32m    375\u001b[0m \u001b[39m# Notify workers to forget about order\u001b[39;00m\n\u001b[1;32m    376\u001b[0m \u001b[39mself\u001b[39m\u001b[39m.\u001b[39m_worker_comms\u001b[39m.\u001b[39mclear_keep_order()\n",
      "File \u001b[0;32m~/.local/lib/python3.10/site-packages/mpire/pool.py:439\u001b[0m, in \u001b[0;36mWorkerPool.map_unordered\u001b[0;34m(self, func, iterable_of_args, iterable_len, max_tasks_active, chunk_size, n_splits, worker_lifespan, progress_bar, progress_bar_position, worker_init, worker_exit, task_timeout, worker_init_timeout, worker_exit_timeout, progress_bar_options)\u001b[0m\n\u001b[1;32m    393\u001b[0m \u001b[39m\"\"\"\u001b[39;00m\n\u001b[1;32m    394\u001b[0m \u001b[39mSame as ``multiprocessing.map()``, but unordered. Also allows a user to set the maximum number of tasks\u001b[39;00m\n\u001b[1;32m    395\u001b[0m \u001b[39mavailable in the queue.\u001b[39;00m\n\u001b[0;32m   (...)\u001b[0m\n\u001b[1;32m    436\u001b[0m \u001b[39m:return: List with unordered results\u001b[39;00m\n\u001b[1;32m    437\u001b[0m \u001b[39m\"\"\"\u001b[39;00m\n\u001b[1;32m    438\u001b[0m \u001b[39m# Simply call imap and cast it to a list. This make sure all elements are there before returning\u001b[39;00m\n\u001b[0;32m--> 439\u001b[0m \u001b[39mreturn\u001b[39;00m \u001b[39mlist\u001b[39;49m(\u001b[39mself\u001b[39;49m\u001b[39m.\u001b[39;49mimap_unordered(func, iterable_of_args, iterable_len, max_tasks_active, chunk_size,\n\u001b[1;32m    440\u001b[0m                                 n_splits, worker_lifespan, progress_bar, progress_bar_position, worker_init,\n\u001b[1;32m    441\u001b[0m                                 worker_exit, task_timeout, worker_init_timeout, worker_exit_timeout,\n\u001b[1;32m    442\u001b[0m                                 progress_bar_options))\n",
      "File \u001b[0;32m~/.local/lib/python3.10/site-packages/mpire/pool.py:693\u001b[0m, in \u001b[0;36mWorkerPool.imap_unordered\u001b[0;34m(self, func, iterable_of_args, iterable_len, max_tasks_active, chunk_size, n_splits, worker_lifespan, progress_bar, progress_bar_position, worker_init, worker_exit, task_timeout, worker_init_timeout, worker_exit_timeout, progress_bar_options)\u001b[0m\n\u001b[1;32m    690\u001b[0m         \u001b[39mself\u001b[39m\u001b[39m.\u001b[39mstop_and_join(progress_bar_handler, keep_alive\u001b[39m=\u001b[39m\u001b[39mself\u001b[39m\u001b[39m.\u001b[39mpool_params\u001b[39m.\u001b[39mkeep_alive)\n\u001b[1;32m    692\u001b[0m     \u001b[39mexcept\u001b[39;00m \u001b[39mKeyboardInterrupt\u001b[39;00m:\n\u001b[0;32m--> 693\u001b[0m         \u001b[39mself\u001b[39;49m\u001b[39m.\u001b[39;49m_handle_exception(progress_bar_handler)\n\u001b[1;32m    695\u001b[0m \u001b[39m# Join exception queue, if it hasn't already\u001b[39;00m\n\u001b[1;32m    696\u001b[0m logger\u001b[39m.\u001b[39mdebug(\u001b[39m\"\u001b[39m\u001b[39mJoining exception queue\u001b[39m\u001b[39m\"\u001b[39m)\n",
      "File \u001b[0;32m~/.local/lib/python3.10/site-packages/mpire/pool.py:756\u001b[0m, in \u001b[0;36mWorkerPool._handle_exception\u001b[0;34m(self, progress_bar_handler)\u001b[0m\n\u001b[1;32m    754\u001b[0m traceback_err \u001b[39m=\u001b[39m \u001b[39mException\u001b[39;00m(highlight_traceback(traceback_str))\n\u001b[1;32m    755\u001b[0m logger\u001b[39m.\u001b[39mdebug(\u001b[39m\"\u001b[39m\u001b[39mRe-raising obtained exception\u001b[39m\u001b[39m\"\u001b[39m)\n\u001b[0;32m--> 756\u001b[0m \u001b[39mraise\u001b[39;00m err \u001b[39mfrom\u001b[39;00m \u001b[39mtraceback_err\u001b[39;00m\n",
      "\u001b[0;31mKeyboardInterrupt\u001b[0m: "
     ]
    }
   ],
   "source": [
    "from games.war3par.war import symulation\n",
    "alg4([1,1,1], symulation, i_max = 1000)"
   ]
  },
  {
   "cell_type": "code",
   "execution_count": 85,
   "metadata": {},
   "outputs": [
    {
     "data": {
      "text/plain": [
       "(32400, 18225)"
      ]
     },
     "execution_count": 85,
     "metadata": {},
     "output_type": "execute_result"
    }
   ],
   "source": [
    "180**2,135**2"
   ]
  }
 ],
 "metadata": {
  "kernelspec": {
   "display_name": "Python 3.10.6 64-bit",
   "language": "python",
   "name": "python3"
  },
  "language_info": {
   "codemirror_mode": {
    "name": "ipython",
    "version": 3
   },
   "file_extension": ".py",
   "mimetype": "text/x-python",
   "name": "python",
   "nbconvert_exporter": "python",
   "pygments_lexer": "ipython3",
   "version": "3.10.6"
  },
  "orig_nbformat": 4,
  "vscode": {
   "interpreter": {
    "hash": "31f2aee4e71d21fbe5cf8b01ff0e069b9275f58929596ceb00d14d90e3e16cd6"
   }
  }
 },
 "nbformat": 4,
 "nbformat_minor": 2
}
