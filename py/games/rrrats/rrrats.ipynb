{
 "cells": [
  {
   "cell_type": "code",
   "execution_count": 1,
   "metadata": {},
   "outputs": [],
   "source": [
    "%load_ext cython"
   ]
  },
  {
   "cell_type": "code",
   "execution_count": 2,
   "metadata": {},
   "outputs": [],
   "source": [
    "import random\n",
    "import collections\n",
    "import itertools\n",
    "import numpy as np"
   ]
  },
  {
   "cell_type": "code",
   "execution_count": 6,
   "metadata": {},
   "outputs": [
    {
     "data": {
      "text/plain": [
       "array([[ 0,  0,  0],\n",
       "       [ 0,  0,  1],\n",
       "       [ 0,  0,  2],\n",
       "       ...,\n",
       "       [30, 30, 28],\n",
       "       [30, 30, 29],\n",
       "       [30, 30, 30]])"
      ]
     },
     "execution_count": 6,
     "metadata": {},
     "output_type": "execute_result"
    }
   ],
   "source": [
    "x = np.array(list(itertools.product(range(31),range(31),range(31))))\n",
    "x"
   ]
  },
  {
   "cell_type": "code",
   "execution_count": 7,
   "metadata": {},
   "outputs": [],
   "source": [
    "x2 = x[np.sum(x, 1 ) == 31]"
   ]
  },
  {
   "cell_type": "code",
   "execution_count": 8,
   "metadata": {},
   "outputs": [
    {
     "data": {
      "text/plain": [
       "(525, 3)"
      ]
     },
     "execution_count": 8,
     "metadata": {},
     "output_type": "execute_result"
    }
   ],
   "source": [
    "x2.shape"
   ]
  },
  {
   "cell_type": "code",
   "execution_count": 15,
   "metadata": {},
   "outputs": [
    {
     "data": {
      "text/plain": [
       "0.5"
      ]
     },
     "execution_count": 15,
     "metadata": {},
     "output_type": "execute_result"
    }
   ],
   "source": [
    "1*1/2"
   ]
  },
  {
   "cell_type": "code",
   "execution_count": 16,
   "metadata": {},
   "outputs": [
    {
     "data": {
      "text/plain": [
       "0.875"
      ]
     },
     "execution_count": 16,
     "metadata": {},
     "output_type": "execute_result"
    }
   ],
   "source": [
    "(1/4,4/16*3/4)*2"
   ]
  },
  {
   "cell_type": "code",
   "execution_count": 17,
   "metadata": {},
   "outputs": [
    {
     "data": {
      "text/plain": [
       "0.7734375"
      ]
     },
     "execution_count": 17,
     "metadata": {},
     "output_type": "execute_result"
    }
   ],
   "source": [
    "(4/16*3/4,8/64*3/4*3/4)*3"
   ]
  },
  {
   "cell_type": "code",
   "execution_count": 14,
   "metadata": {},
   "outputs": [
    {
     "data": {
      "text/plain": [
       "0.4375"
      ]
     },
     "execution_count": 14,
     "metadata": {},
     "output_type": "execute_result"
    }
   ],
   "source": [
    "1/4,4/16*3/4, 2"
   ]
  },
  {
   "cell_type": "code",
   "execution_count": 12,
   "metadata": {},
   "outputs": [
    {
     "name": "stdout",
     "output_type": "stream",
     "text": [
      "[[0 0 1 1 1 0]\n",
      " [1 1 1 0 1 0]\n",
      " [0 0 0 1 0 1]\n",
      " ...\n",
      " [1 0 0 1 0 1]\n",
      " [0 1 1 0 0 1]\n",
      " [0 0 0 1 0 0]] \n",
      "\n"
     ]
    },
    {
     "data": {
      "text/plain": [
       "1.6872415"
      ]
     },
     "execution_count": 12,
     "metadata": {},
     "output_type": "execute_result"
    }
   ],
   "source": [
    "n,m = 20000000, 3*2\n",
    "x = np.random.randint(0,2,[n, m])\n",
    "print(x,\"\\n\")\n",
    "for i in range(0,m-1, 2):\n",
    "    # print(i,i,2)\n",
    "    x[np.sum(x[:,i:i,2], 1) == 0] = np.zeros(m)\n",
    "# print(x)\n",
    "np.mean(np.sum(x,1))"
   ]
  },
  {
   "attachments": {},
   "cell_type": "markdown",
   "metadata": {},
   "source": [
    "# old"
   ]
  },
  {
   "cell_type": "code",
   "execution_count": 10,
   "metadata": {},
   "outputs": [
    {
     "name": "stderr",
     "output_type": "stream",
     "text": [
      "/tmp/ipykernel_87605/2427049164.py:94: VisibleDeprecationWarning: Creating an ndarray from ragged nested sequences (which is a list-or-tuple of lists-or-tuples-or ndarrays with different lengths or shapes) is deprecated. If you meant to do this, you must specify 'dtype=object' when creating the ndarray.\n",
      "  par = np.array([[0,1,2,3,4,5,6],\n"
     ]
    },
    {
     "name": "stdout",
     "output_type": "stream",
     "text": [
      "pile:  31\n"
     ]
    },
    {
     "ename": "IndexError",
     "evalue": "too many indices for array: array is 1-dimensional, but 2 were indexed",
     "output_type": "error",
     "traceback": [
      "\u001b[0;31m---------------------------------------------------------------------------\u001b[0m",
      "\u001b[0;31mIndexError\u001b[0m                                Traceback (most recent call last)",
      "Cell \u001b[0;32mIn [10], line 99\u001b[0m\n\u001b[1;32m     92\u001b[0m         \u001b[39mbreak\u001b[39;00m\n\u001b[1;32m     94\u001b[0m par \u001b[39m=\u001b[39m np\u001b[39m.\u001b[39marray([[\u001b[39m0\u001b[39m,\u001b[39m1\u001b[39m,\u001b[39m2\u001b[39m,\u001b[39m3\u001b[39m,\u001b[39m4\u001b[39m,\u001b[39m5\u001b[39m,\u001b[39m6\u001b[39m],\n\u001b[1;32m     95\u001b[0m                 [\u001b[39m1\u001b[39m,\u001b[39m0\u001b[39m,\u001b[39m0\u001b[39m,\u001b[39m0\u001b[39m,\u001b[39m0\u001b[39m,\u001b[39m0\u001b[39m,\u001b[39m0\u001b[39m], \n\u001b[1;32m     96\u001b[0m                 [\u001b[39m1\u001b[39m,\u001b[39m0\u001b[39m,\u001b[39m0\u001b[39m,\u001b[39m0\u001b[39m,\u001b[39m0\u001b[39m,\u001b[39m0\u001b[39m,\u001b[39m0\u001b[39m],\n\u001b[1;32m     97\u001b[0m                 [\u001b[39m10\u001b[39m,\u001b[39m0\u001b[39m,\u001b[39m0\u001b[39m,\u001b[39m0\u001b[39m,\u001b[39m0\u001b[39m,\u001b[39m0\u001b[39m,]])\n\u001b[0;32m---> 99\u001b[0m symulation(par, par)\n\u001b[1;32m    100\u001b[0m \u001b[39mpass\u001b[39;00m\n",
      "Cell \u001b[0;32mIn [10], line 81\u001b[0m, in \u001b[0;36msymulation\u001b[0;34m(parameters1, parameters2)\u001b[0m\n\u001b[1;32m     78\u001b[0m \u001b[39mprint\u001b[39m(\u001b[39m\"\u001b[39m\u001b[39mpile: \u001b[39m\u001b[39m\"\u001b[39m, pile)\n\u001b[1;32m     80\u001b[0m \u001b[39mwhile\u001b[39;00m \u001b[39mTrue\u001b[39;00m:\n\u001b[0;32m---> 81\u001b[0m     tour_results \u001b[39m=\u001b[39m tour(player_1, player_2, pile)\n\u001b[1;32m     82\u001b[0m     player_1_hand \u001b[39m=\u001b[39m player_1\u001b[39m.\u001b[39mget_hand()\n\u001b[1;32m     83\u001b[0m     \u001b[39mif\u001b[39;00m player_1\u001b[39m.\u001b[39mget_hand() \u001b[39m>\u001b[39m \u001b[39m4\u001b[39m:\n",
      "Cell \u001b[0;32mIn [10], line 52\u001b[0m, in \u001b[0;36mtour\u001b[0;34m(player_1, player_2, pile)\u001b[0m\n\u001b[1;32m     50\u001b[0m \u001b[39mdef\u001b[39;00m \u001b[39mtour\u001b[39m(player_1, player_2, pile):\n\u001b[1;32m     51\u001b[0m     \u001b[39mfor\u001b[39;00m i \u001b[39min\u001b[39;00m \u001b[39mrange\u001b[39m(\u001b[39m4\u001b[39m):\n\u001b[0;32m---> 52\u001b[0m         tour_results \u001b[39m=\u001b[39m player_1\u001b[39m.\u001b[39;49mmake_decision_about_throw(player_2\u001b[39m.\u001b[39;49mget_points(), pile)\n\u001b[1;32m     53\u001b[0m         \u001b[39mprint\u001b[39m(\u001b[39m\"\u001b[39m\u001b[39mtour_results: \u001b[39m\u001b[39m\"\u001b[39m,tour_results)\n\u001b[1;32m     54\u001b[0m         \u001b[39mif\u001b[39;00m tour_results \u001b[39m==\u001b[39m \u001b[39m1\u001b[39m:\n",
      "Cell \u001b[0;32mIn [10], line 43\u001b[0m, in \u001b[0;36mrrrats4_player.make_decision_about_throw\u001b[0;34m(self, oponent_points, pile)\u001b[0m\n\u001b[1;32m     42\u001b[0m \u001b[39mdef\u001b[39;00m \u001b[39mmake_decision_about_throw\u001b[39m(\u001b[39mself\u001b[39m, oponent_points, pile):\n\u001b[0;32m---> 43\u001b[0m     weights \u001b[39m=\u001b[39m \u001b[39mself\u001b[39m\u001b[39m.\u001b[39mget_p(\u001b[39mself\u001b[39;49m\u001b[39m.\u001b[39;49mstrategy[:\u001b[39m4\u001b[39;49m,:], oponent_points, pile)\n\u001b[1;32m     44\u001b[0m     choice \u001b[39m=\u001b[39m random\u001b[39m.\u001b[39mchoices([\u001b[39m1\u001b[39m, \u001b[39m2\u001b[39m, \u001b[39m3\u001b[39m, \u001b[39m4\u001b[39m], weights \u001b[39m=\u001b[39m weights)[\u001b[39m0\u001b[39m]\n\u001b[1;32m     45\u001b[0m     \u001b[39mif\u001b[39;00m \u001b[39mself\u001b[39m\u001b[39m.\u001b[39mhand \u001b[39m<\u001b[39m choice:\n",
      "\u001b[0;31mIndexError\u001b[0m: too many indices for array: array is 1-dimensional, but 2 were indexed"
     ]
    }
   ],
   "source": [
    "import random\n",
    "import numpy as np\n",
    "import collections\n",
    "from mpire import WorkerPool\n",
    "max_points = 31\n",
    "\n",
    "class Player():\n",
    "    def __init__(self, parameters) -> None:\n",
    "        self.hand = 0\n",
    "        self.points = 0\n",
    "        self.strategy = parameters\n",
    "\n",
    "    def set_hand(self, n):\n",
    "        self.hand = n\n",
    "    \n",
    "    def add_to_hand(self, n):\n",
    "        self.hand += n\n",
    "        \n",
    "    def get_points(self):\n",
    "        return self.points\n",
    "    \n",
    "    def get_hand(self):\n",
    "        return self.hand\n",
    "    \n",
    "    def add_points(self, n):\n",
    "        self.points += n\n",
    "        \n",
    "    def sub_points(self, n):\n",
    "        self.points -=n\n",
    "    \n",
    "    def calc_weights(self, x, n, k, gamma, delta):\n",
    "        return np.exp(x[0] + x[1]*delta + x[2]*delta**2/n + x[3]*delta**3/n**2 + x[4]*gamma + x[5]*gamma**2/n + x[6]*gamma**3/n**2 , dtype = np.float128)\n",
    "    \n",
    "    def get_p(self, strategy, oponent_points, pile):\n",
    "        n =  max_points - self.points\n",
    "        gamma = min(n-oponent_points, 0)\n",
    "        delta = max(n-oponent_points, 0)\n",
    "        weights = np.apply_along_axis(self.calc_weights, 1, strategy, n, pile, gamma, delta)\n",
    "        return weights/np.sum(weights)\n",
    "\n",
    "class rrrats4_player(Player):\n",
    "    def make_decision_about_throw(self, oponent_points, pile):\n",
    "        weights = self.get_p(self.strategy[:4,:], oponent_points, pile)\n",
    "        choice = random.choices([1, 2, 3, 4], weights = weights)[0]\n",
    "        if self.hand < choice:\n",
    "            return 1 #play next move\n",
    "        else:\n",
    "            return 0\n",
    "        \n",
    "def tour(player_1, player_2, pile):\n",
    "    for i in range(4):\n",
    "        tour_results = player_1.make_decision_about_throw(player_2.get_points(), pile)\n",
    "        print(\"tour_results: \",tour_results)\n",
    "        if tour_results == 1:\n",
    "            draw = [random.randint(0,1), random.randint(0,1)]\n",
    "            if i == 0:\n",
    "                draw = [1,0]\n",
    "            if i == 1:\n",
    "                draw = [1,0]\n",
    "            if i == 2:\n",
    "                draw = [1,0]\n",
    "            if i == 3:\n",
    "                draw = [1,1]\n",
    "            print(\"draw: \",draw)\n",
    "            if draw == [0,0]:\n",
    "                player_1.set_hand(0)\n",
    "                break\n",
    "            else:\n",
    "                player_1.add_to_hand(sum(draw))\n",
    "        else:\n",
    "            break\n",
    "\n",
    "def symulation(parameters1, parameters2):\n",
    "    np.random.seed()\n",
    "    pile = max_points\n",
    "    player_1 = rrrats4_player(parameters1)\n",
    "    player_2 = rrrats4_player(parameters2)\n",
    "    print(\"pile: \", pile)\n",
    "\n",
    "    while True:\n",
    "        tour_results = tour(player_1, player_2, pile)\n",
    "        player_1_hand = player_1.get_hand()\n",
    "        if player_1.get_hand() > 4:\n",
    "            pile += player_1.get_hand() - 4\n",
    "            player_1.set_hand(4)\n",
    "        print(\"pile: \", pile)\n",
    "\n",
    "        pile -= player_1.get_hand()\n",
    "        print(\"player_1.get_hand(): \",player_1.get_hand())\n",
    "        print(\"pile: \", pile)\n",
    "\n",
    "        break\n",
    "    \n",
    "par = np.array([[0,1,2,3,4,5,6],\n",
    "                [1,0,0,0,0,0,0], \n",
    "                [1,0,0,0,0,0,0],\n",
    "                [10,0,0,0,0,0,]])\n",
    "\n",
    "symulation(par, par)\n",
    "pass"
   ]
  },
  {
   "attachments": {},
   "cell_type": "markdown",
   "metadata": {},
   "source": [
    "# new"
   ]
  },
  {
   "cell_type": "code",
   "execution_count": 137,
   "metadata": {},
   "outputs": [
    {
     "ename": "TypeError",
     "evalue": "_reshape_dispatcher() got an unexpected keyword argument 'dtype'",
     "output_type": "error",
     "traceback": [
      "\u001b[0;31m---------------------------------------------------------------------------\u001b[0m",
      "\u001b[0;31mTypeError\u001b[0m                                 Traceback (most recent call last)",
      "Cell \u001b[0;32mIn [137], line 158\u001b[0m\n\u001b[1;32m    149\u001b[0m         \u001b[39mreturn\u001b[39;00m \u001b[39m0\u001b[39m\n\u001b[1;32m    151\u001b[0m par \u001b[39m=\u001b[39m np\u001b[39m.\u001b[39marray([[\u001b[39m100\u001b[39m,\u001b[39m100\u001b[39m,\u001b[39m100\u001b[39m,\u001b[39m100\u001b[39m,\u001b[39m100\u001b[39m,\n\u001b[1;32m    152\u001b[0m                 \u001b[39m1\u001b[39m,\u001b[39m0\u001b[39m,\u001b[39m0\u001b[39m,\u001b[39m0\u001b[39m,\u001b[39m0\u001b[39m, \n\u001b[1;32m    153\u001b[0m                 \u001b[39m1\u001b[39m,\u001b[39m0\u001b[39m,\u001b[39m0\u001b[39m,\u001b[39m0\u001b[39m,\u001b[39m0\u001b[39m,\n\u001b[1;32m    154\u001b[0m                 \u001b[39m1\u001b[39m,\u001b[39m0\u001b[39m,\u001b[39m0\u001b[39m,\u001b[39m0\u001b[39m,\u001b[39m0\u001b[39m,\n\u001b[1;32m    155\u001b[0m                 \u001b[39m1\u001b[39m,\u001b[39m0\u001b[39m,\u001b[39m0\u001b[39m,\u001b[39m0\u001b[39m,\u001b[39m0\u001b[39m,\n\u001b[1;32m    156\u001b[0m                 \u001b[39m1\u001b[39m,\u001b[39m0\u001b[39m,\u001b[39m0\u001b[39m,\u001b[39m0\u001b[39m,\u001b[39m0\u001b[39m]])\n\u001b[0;32m--> 158\u001b[0m \u001b[39mprint\u001b[39m(\u001b[39m\"\u001b[39m\u001b[39mwinner: \u001b[39m\u001b[39m\"\u001b[39m, symulation(par, par))\n\u001b[1;32m    159\u001b[0m \u001b[39mpass\u001b[39;00m\n",
      "Cell \u001b[0;32mIn [137], line 124\u001b[0m, in \u001b[0;36msymulation\u001b[0;34m(parameters1, parameters2)\u001b[0m\n\u001b[1;32m    123\u001b[0m \u001b[39mdef\u001b[39;00m \u001b[39msymulation\u001b[39m(parameters1, parameters2):\n\u001b[0;32m--> 124\u001b[0m     parameters1 \u001b[39m=\u001b[39m np\u001b[39m.\u001b[39;49mreshape(parameters1, (\u001b[39m6\u001b[39;49m,\u001b[39m5\u001b[39;49m), dtype \u001b[39m=\u001b[39;49m np\u001b[39m.\u001b[39;49mfloat128)\n\u001b[1;32m    125\u001b[0m     parameters2 \u001b[39m=\u001b[39m np\u001b[39m.\u001b[39mreshape(parameters2, (\u001b[39m6\u001b[39m,\u001b[39m5\u001b[39m), dtype \u001b[39m=\u001b[39m np\u001b[39m.\u001b[39mfloat128)\n\u001b[1;32m    126\u001b[0m     np\u001b[39m.\u001b[39mrandom\u001b[39m.\u001b[39mseed()\n",
      "File \u001b[0;32m<__array_function__ internals>:179\u001b[0m, in \u001b[0;36mreshape\u001b[0;34m(*args, **kwargs)\u001b[0m\n",
      "\u001b[0;31mTypeError\u001b[0m: _reshape_dispatcher() got an unexpected keyword argument 'dtype'"
     ]
    }
   ],
   "source": [
    "import random\n",
    "import numpy as np\n",
    "import collections\n",
    "from mpire import WorkerPool\n",
    "max_points = 31\n",
    "\n",
    "class Player():\n",
    "    def __init__(self, strategy) -> None:\n",
    "        self.hand = 0\n",
    "        self.points = 0\n",
    "        self.strategy = strategy\n",
    "\n",
    "    def set_hand(self, n):\n",
    "        self.hand = n\n",
    "    \n",
    "    def add_to_hand(self, n):\n",
    "        self.hand += n\n",
    "        \n",
    "    def get_points(self):\n",
    "        return self.points\n",
    "    \n",
    "    def get_hand(self):\n",
    "        return self.hand\n",
    "    \n",
    "    def add_points(self, n):\n",
    "        self.points += n\n",
    "        \n",
    "    def sub_points(self, n):\n",
    "        self.points -=n\n",
    "    \n",
    "    def calc_weights(self, x, n, pile, gamma, delta):\n",
    "        # return np.exp(x[0] + x[1]*delta + x[2]*delta**2/n + x[3]*delta**3/n**2 + x[4]*gamma + x[5]*gamma**2/n + x[6]*gamma**3/n**2 , dtype = np.float128)\n",
    "        return np.exp(x[0] + x[1]*delta/pile + x[2]*delta**2/pile**2 + x[3]*gamma/pile + x[4]*gamma**2/pile**2  , dtype = np.float128)\n",
    "\n",
    "        \n",
    "    def get_p(self, strategy, oponent_points, pile):\n",
    "        n =  max_points - self.points\n",
    "        gamma = min(n-oponent_points, 0)\n",
    "        delta = max(n-oponent_points, 0)\n",
    "        weights = np.apply_along_axis(self.calc_weights, 1, strategy, n, pile, gamma, delta)\n",
    "        print(\"pile: \", pile, \"weights: \", weights)\n",
    "        # return weights/np.sum(weights)\n",
    "        return weights\n",
    "    \n",
    "class rrrats4_player(Player):\n",
    "    # def make_decision_about_throw(self, oponent_points, pile):\n",
    "    #     weights = self.get_p(self.strategy, oponent_points, pile)\n",
    "    #     choice = random.choices([1, 2, 3, 4], weights = weights)[0]\n",
    "    #     print(\"choice :\", choice)\n",
    "    #     if self.hand < choice:\n",
    "    #         return 1 #play next move\n",
    "    #     else:\n",
    "    #         return 0\n",
    "    def make_decision_about_throw(self, oponent_points, pile):\n",
    "        hand = self.hand\n",
    "        if hand == 0:\n",
    "            return 1\n",
    "        elif hand == 1:\n",
    "            weights = self.get_p(self.strategy[:2, :], oponent_points, pile)\n",
    "            choice = random.choices([1, 0], weights = weights)[0]\n",
    "        elif hand == 2:\n",
    "            weights = self.get_p(self.strategy[2:4, :], oponent_points, pile)\n",
    "            choice = random.choices([1, 0], weights = weights)[0]\n",
    "        else:\n",
    "            weights = self.get_p(self.strategy[4:, :], oponent_points, pile)\n",
    "            choice = random.choices([1, 0], weights = weights)[0]    \n",
    "        print(\"choice :\", choice, \"weights: \", weights, \"hand: \", hand)\n",
    "        return choice\n",
    "\n",
    "def tour(player_1, player_2, pile):\n",
    "    for i in range(4):\n",
    "        tour_results = player_1.make_decision_about_throw(player_2.get_points(), pile)\n",
    "        print(\"Play next move: \", tour_results)\n",
    "        if tour_results == 1:\n",
    "            draw = [random.choices([0, 1, 2], weights = [3, 2, 1])[0], random.choices([0, 1, 2], weights = [3, 2, 1])[0]]\n",
    "            print(\"Drow: \", draw)\n",
    "            \n",
    "            if draw == [0,0]:\n",
    "                pile += player_1.get_hand()\n",
    "                player_1.set_hand(0)\n",
    "                break\n",
    "            \n",
    "            if draw[0] == 1:\n",
    "                player_1.add_to_hand(1)\n",
    "                pile -= 1\n",
    "            elif draw[0] == 2:\n",
    "                if player_2.get_points() > 0: #still from oponent\n",
    "                    player_2.sub_points(1)\n",
    "                    player_1.add_to_hand(1)\n",
    "                else:\n",
    "                    player_1.add_to_hand(1)\n",
    "                    pile -= 1\n",
    "            else:\n",
    "                pass\n",
    "            \n",
    "            if draw[1] == 1:\n",
    "                player_1.add_to_hand(1)\n",
    "                pile -= 1\n",
    "            elif draw[1] == 2:\n",
    "                if player_2.get_points() > 0: #still from oponent\n",
    "                    player_2.sub_points(1)\n",
    "                    player_1.add_to_hand(1)\n",
    "                else:\n",
    "                    player_1.add_to_hand(1)\n",
    "                    pile -= 1\n",
    "            else:\n",
    "                pass\n",
    "            \n",
    "            print(\"pile:\", pile, \"after: \", i)\n",
    "            print(\"player_1 hand: \", player_1.get_hand(), \"player_2 hand: \", player_2.get_hand())\n",
    "            if pile < 1:\n",
    "                break\n",
    "        else:\n",
    "            break\n",
    "    print(\"player_1 hand end: \", player_1.get_hand())\n",
    "    if player_1.get_hand() > 4:\n",
    "        pile +=  player_1.get_hand() - 4\n",
    "        player_1.set_hand(4)\n",
    "    player_1.add_points(player_1.get_hand())\n",
    "    player_1.set_hand(0)\n",
    "    return pile\n",
    "\n",
    "def symulation(parameters1, parameters2):\n",
    "    parameters1 = np.reshape(parameters1, (6,5))\n",
    "    parameters2 = np.reshape(parameters2, (6,5))\n",
    "    np.random.seed()\n",
    "    pile = max_points\n",
    "    player_1 = rrrats4_player(parameters1)\n",
    "    player_2 = rrrats4_player(parameters2)\n",
    "\n",
    "    while True:\n",
    "        # try:\n",
    "            print(\"Player 1 tour\")\n",
    "            pile = tour(player_1, player_2, pile)\n",
    "            print(\"piel: \", pile)\n",
    "            print(\"new_pile after 1: \", pile, \"player_1 points: \", player_1.get_points(), \"player_2 points: \", player_2.get_points())\n",
    "            \n",
    "            print(\"Player 2 tour\")\n",
    "            pile = tour(player_2, player_1, pile)\n",
    "            print(\"new_pile after 1: \", pile, \"player_1 points: \", player_1.get_points(), \"player_2 points: \", player_2.get_points())\n",
    "            if pile < 1:\n",
    "                break\n",
    "        # except ValueError: \n",
    "            # print(\"hahahahah\")\n",
    "            # break\n",
    "    if player_1.get_points() > player_2.get_points():\n",
    "        return 1\n",
    "    else:\n",
    "        return 0\n",
    "    \n",
    "par = np.array([[100,100,100,100,100,\n",
    "                1,0,0,0,0, \n",
    "                1,0,0,0,0,\n",
    "                1,0,0,0,0,\n",
    "                1,0,0,0,0,\n",
    "                1,0,0,0,0]])\n",
    "\n",
    "print(\"winner: \", symulation(par, par))\n",
    "pass"
   ]
  },
  {
   "cell_type": "code",
   "execution_count": null,
   "metadata": {},
   "outputs": [],
   "source": []
  },
  {
   "cell_type": "code",
   "execution_count": null,
   "metadata": {},
   "outputs": [],
   "source": []
  },
  {
   "attachments": {},
   "cell_type": "markdown",
   "metadata": {},
   "source": [
    "# end preper"
   ]
  },
  {
   "cell_type": "code",
   "execution_count": 142,
   "metadata": {},
   "outputs": [
    {
     "name": "stdout",
     "output_type": "stream",
     "text": [
      "winner:  0\n"
     ]
    }
   ],
   "source": [
    "import random\n",
    "import numpy as np\n",
    "import collections\n",
    "from mpire import WorkerPool\n",
    "max_points = 31\n",
    "\n",
    "class Player():\n",
    "    def __init__(self, strategy) -> None:\n",
    "        self.hand = 0\n",
    "        self.points = 0\n",
    "        self.strategy = strategy\n",
    "\n",
    "    def set_hand(self, n):\n",
    "        self.hand = n\n",
    "    \n",
    "    def add_to_hand(self, n):\n",
    "        self.hand += n\n",
    "        \n",
    "    def get_points(self):\n",
    "        return self.points\n",
    "    \n",
    "    def get_hand(self):\n",
    "        return self.hand\n",
    "    \n",
    "    def add_points(self, n):\n",
    "        self.points += n\n",
    "        \n",
    "    def sub_points(self, n):\n",
    "        self.points -=n\n",
    "    \n",
    "    def calc_weights(self, x, n, pile, gamma, delta):\n",
    "        # return np.exp(x[0] + x[1]*delta + x[2]*delta**2/n + x[3]*delta**3/n**2 + x[4]*gamma + x[5]*gamma**2/n + x[6]*gamma**3/n**2 , dtype = np.float128)\n",
    "        return np.exp(x[0] + x[1]*delta/pile + x[2]*delta**2/pile**2 + x[3]*gamma/pile + x[4]*gamma**2/pile**2  , dtype = np.float128)\n",
    "\n",
    "        \n",
    "    def get_p(self, strategy, oponent_points, pile):\n",
    "        n =  max_points - self.points\n",
    "        gamma = min(n-oponent_points, 0)\n",
    "        delta = max(n-oponent_points, 0)\n",
    "        weights = np.apply_along_axis(self.calc_weights, 1, strategy, n, pile, gamma, delta)\n",
    "        # return weights/np.sum(weights)\n",
    "        return weights\n",
    "    \n",
    "class rrrats4_player(Player):\n",
    "    def make_decision_about_throw(self, oponent_points, pile):\n",
    "        hand = self.hand\n",
    "        if hand == 0:\n",
    "            return 1\n",
    "        elif hand == 1:\n",
    "            weights = self.get_p(self.strategy[:2, :], oponent_points, pile)\n",
    "            choice = random.choices([1, 0], weights = weights)[0]\n",
    "        elif hand == 2:\n",
    "            weights = self.get_p(self.strategy[2:4, :], oponent_points, pile)\n",
    "            choice = random.choices([1, 0], weights = weights)[0]\n",
    "        else:\n",
    "            weights = self.get_p(self.strategy[4:, :], oponent_points, pile)\n",
    "            choice = random.choices([1, 0], weights = weights)[0]    \n",
    "        return choice\n",
    "\n",
    "def tour(player_1, player_2, pile):\n",
    "    for i in range(4):\n",
    "        tour_results = player_1.make_decision_about_throw(player_2.get_points(), pile)\n",
    "        if tour_results == 1:\n",
    "            draw = [random.choices([0, 1, 2], weights = [3, 2, 1])[0], random.choices([0, 1, 2], weights = [3, 2, 1])[0]]\n",
    "            \n",
    "            if draw == [0,0]:\n",
    "                pile += player_1.get_hand()\n",
    "                player_1.set_hand(0)\n",
    "                break\n",
    "            \n",
    "            if draw[0] == 1:\n",
    "                player_1.add_to_hand(1)\n",
    "                pile -= 1\n",
    "            elif draw[0] == 2:\n",
    "                if player_2.get_points() > 0: #still from oponent\n",
    "                    player_2.sub_points(1)\n",
    "                    player_1.add_to_hand(1)\n",
    "                else:\n",
    "                    player_1.add_to_hand(1)\n",
    "                    pile -= 1\n",
    "            else:\n",
    "                pass\n",
    "            \n",
    "            if draw[1] == 1:\n",
    "                player_1.add_to_hand(1)\n",
    "                pile -= 1\n",
    "            elif draw[1] == 2:\n",
    "                if player_2.get_points() > 0: #still from oponent\n",
    "                    player_2.sub_points(1)\n",
    "                    player_1.add_to_hand(1)\n",
    "                else:\n",
    "                    player_1.add_to_hand(1)\n",
    "                    pile -= 1\n",
    "            else:\n",
    "                pass\n",
    "            if pile < 1:\n",
    "                break\n",
    "        else:\n",
    "            break\n",
    "    if player_1.get_hand() > 4:\n",
    "        pile +=  player_1.get_hand() - 4\n",
    "        player_1.set_hand(4)\n",
    "    player_1.add_points(player_1.get_hand())\n",
    "    player_1.set_hand(0)\n",
    "    return pile\n",
    "\n",
    "def symulation(parameters1, parameters2):\n",
    "    parameters1 = np.reshape(parameters1, (6,5))\n",
    "    parameters2 = np.reshape(parameters2, (6,5))\n",
    "    np.random.seed()\n",
    "    pile = max_points\n",
    "    player_1 = rrrats4_player(parameters1)\n",
    "    player_2 = rrrats4_player(parameters2)\n",
    "\n",
    "    while True:\n",
    "        # try:\n",
    "\n",
    "            pile = tour(player_1, player_2, pile)\n",
    "            pile = tour(player_2, player_1, pile)\n",
    "            if pile < 1:\n",
    "                break\n",
    "        # except ValueError: \n",
    "            # print(\"hahahahah\")\n",
    "            # break\n",
    "    if player_1.get_points() > player_2.get_points():\n",
    "        return 1\n",
    "    else:\n",
    "        return 0\n",
    "    \n",
    "par = np.array([[100,100,100,100,100,\n",
    "                1,0,0,0,0, \n",
    "                1,0,0,0,0,\n",
    "                1,0,0,0,0,\n",
    "                1,0,0,0,0,\n",
    "                1,0,0,0,0]])\n",
    "\n",
    "print(\"winner: \", symulation(par, par))\n",
    "pass"
   ]
  },
  {
   "cell_type": "code",
   "execution_count": 143,
   "metadata": {},
   "outputs": [
    {
     "name": "stdout",
     "output_type": "stream",
     "text": [
      "3.04 ms ± 288 µs per loop (mean ± std. dev. of 7 runs, 100 loops each)\n"
     ]
    }
   ],
   "source": [
    "%%timeit\n",
    "symulation(par, par)"
   ]
  },
  {
   "attachments": {},
   "cell_type": "markdown",
   "metadata": {},
   "source": [
    "# cython\n"
   ]
  },
  {
   "cell_type": "markdown",
   "metadata": {},
   "source": []
  },
  {
   "cell_type": "code",
   "execution_count": 6,
   "metadata": {},
   "outputs": [],
   "source": [
    "%%cython\n",
    "import random\n",
    "import numpy as np\n",
    "cimport numpy as np\n",
    "np.import_array()\n",
    "\n",
    "import collections\n",
    "from mpire import WorkerPool\n",
    "cdef short max_points\n",
    "max_points = 31\n",
    "\n",
    "# cdef double parameters_0[3]\n",
    "# cdef int games_to_play\n",
    "cdef class Player():\n",
    "    cdef short hand, points\n",
    "    cdef np.ndarray strategy\n",
    "    def __init__(self, strategy) -> None:\n",
    "        self.hand = 0\n",
    "        self.points = 0\n",
    "        self.strategy = strategy\n",
    "\n",
    "    def set_hand(self, n):\n",
    "        self.hand = n\n",
    "    \n",
    "    def add_to_hand(self, n):\n",
    "        self.hand += n\n",
    "        \n",
    "    def get_points(self):\n",
    "        return self.points\n",
    "    \n",
    "    def get_hand(self):\n",
    "        return self.hand\n",
    "    \n",
    "    def add_points(self, n):\n",
    "        self.points += n\n",
    "        \n",
    "    def sub_points(self, n):\n",
    "        self.points -=n\n",
    "    \n",
    "    def calc_weights(self, x, n, pile, gamma, delta):\n",
    "        # return np.exp(x[0] + x[1]*delta + x[2]*delta**2/n + x[3]*delta**3/n**2 + x[4]*gamma + x[5]*gamma**2/n + x[6]*gamma**3/n**2 , dtype = np.float128)\n",
    "        return np.exp(x[0] + x[1]*delta/pile + x[2]*delta**2/pile**2 + x[3]*gamma/pile + x[4]*gamma**2/pile**2  , dtype = np.float128)\n",
    "\n",
    "        \n",
    "    def get_p(self, strategy, oponent_points, pile):\n",
    "        n =  max_points - self.points\n",
    "        gamma = min(n-oponent_points, 0)\n",
    "        delta = max(n-oponent_points, 0)\n",
    "        weights = np.apply_along_axis(self.calc_weights, 1, strategy, n, pile, gamma, delta)\n",
    "        return weights\n",
    "    \n",
    "cdef class rrrats4_player(Player):\n",
    "    def make_decision_about_throw(self, oponent_points, pile):\n",
    "        if self.hand == 0:\n",
    "            return 1\n",
    "        elif self.hand == 1:\n",
    "            weights = self.get_p(self.strategy[:2, :], oponent_points, pile)\n",
    "            choice = random.choices([1, 0], weights = weights)[0]\n",
    "        elif self.hand == 2:\n",
    "            weights = self.get_p(self.strategy[2:4, :], oponent_points, pile)\n",
    "            choice = random.choices([1, 0], weights = weights)[0]\n",
    "        else:\n",
    "            weights = self.get_p(self.strategy[4:, :], oponent_points, pile)\n",
    "            choice = random.choices([1, 0], weights = weights)[0]    \n",
    "        return choice\n",
    "\n",
    "def tour(player_1, player_2, pile):\n",
    "    for i in range(4):\n",
    "        tour_results = player_1.make_decision_about_throw(player_2.get_points(), pile)\n",
    "        if tour_results == 1:\n",
    "            draw = [random.choices([0, 1, 2], weights = [3, 2, 1])[0], random.choices([0, 1, 2], weights = [3, 2, 1])[0]]            \n",
    "            if draw == [0,0]:\n",
    "                pile += player_1.get_hand()\n",
    "                player_1.set_hand(0)\n",
    "                break\n",
    "            \n",
    "            if draw[0] == 1:\n",
    "                player_1.add_to_hand(1)\n",
    "                pile -= 1\n",
    "            elif draw[0] == 2:\n",
    "                if player_2.get_points() > 0: #still from oponent\n",
    "                    player_2.sub_points(1)\n",
    "                    player_1.add_to_hand(1)\n",
    "                else:\n",
    "                    player_1.add_to_hand(1)\n",
    "                    pile -= 1\n",
    "            else:\n",
    "                pass\n",
    "            \n",
    "            if draw[1] == 1:\n",
    "                player_1.add_to_hand(1)\n",
    "                pile -= 1\n",
    "            elif draw[1] == 2:\n",
    "                if player_2.get_points() > 0: #still from oponent\n",
    "                    player_2.sub_points(1)\n",
    "                    player_1.add_to_hand(1)\n",
    "                else:\n",
    "                    player_1.add_to_hand(1)\n",
    "                    pile -= 1\n",
    "            else:\n",
    "                pass\n",
    "\n",
    "            if pile < 1:\n",
    "                break\n",
    "        else:\n",
    "            break\n",
    "        \n",
    "    if player_1.get_hand() > 4:\n",
    "        pile +=  player_1.get_hand() - 4\n",
    "        player_1.set_hand(4)\n",
    "    player_1.add_points(player_1.get_hand())\n",
    "    player_1.set_hand(0)\n",
    "    return pile\n",
    "\n",
    "def symulation(parameters1, parameters2):\n",
    "    cdef short pile\n",
    "    np.random.seed()\n",
    "    \n",
    "    parameters1 = np.reshape(parameters1, (6,5))\n",
    "    parameters2 = np.reshape(parameters2, (6,5))\n",
    "    \n",
    "    pile = max_points\n",
    "    player_1 = rrrats4_player(parameters1)\n",
    "    player_2 = rrrats4_player(parameters2)\n",
    "\n",
    "    while True:\n",
    "        # try:\n",
    "            pile = tour(player_1, player_2, pile)\n",
    "            pile = tour(player_2, player_1, pile)\n",
    "            if pile < 1:\n",
    "                break\n",
    "        # except ValueError: \n",
    "            # print(\"hahahahah\")\n",
    "            # break\n",
    "    if player_1.get_points() > player_2.get_points():\n",
    "        return 1\n",
    "    else:\n",
    "        return 0\n",
    "    \n"
   ]
  },
  {
   "cell_type": "code",
   "execution_count": 6,
   "metadata": {},
   "outputs": [
    {
     "data": {
      "text/plain": [
       "0"
      ]
     },
     "execution_count": 6,
     "metadata": {},
     "output_type": "execute_result"
    }
   ],
   "source": []
  },
  {
   "cell_type": "code",
   "execution_count": null,
   "metadata": {},
   "outputs": [],
   "source": []
  },
  {
   "cell_type": "code",
   "execution_count": null,
   "metadata": {},
   "outputs": [],
   "source": []
  },
  {
   "cell_type": "code",
   "execution_count": null,
   "metadata": {},
   "outputs": [],
   "source": []
  },
  {
   "cell_type": "code",
   "execution_count": null,
   "metadata": {},
   "outputs": [],
   "source": []
  },
  {
   "cell_type": "markdown",
   "metadata": {},
   "source": []
  },
  {
   "cell_type": "code",
   "execution_count": 247,
   "metadata": {},
   "outputs": [],
   "source": [
    "%%cython\n",
    "import random\n",
    "import numpy as np\n",
    "cimport numpy as np\n",
    "np.import_array()\n",
    "\n",
    "import collections\n",
    "from mpire import WorkerPool\n",
    "cdef short max_points\n",
    "max_points = 31\n",
    "\n",
    "\n",
    "cdef class Player():\n",
    "    cdef short hand, points\n",
    "    cdef np.ndarray strategy\n",
    "    def __init__(self, strategy) -> None:\n",
    "        self.hand = 0\n",
    "        self.points = 0\n",
    "        self.strategy = strategy\n",
    "\n",
    "    def set_hand(self, n):\n",
    "        self.hand = n\n",
    "    \n",
    "    def add_to_hand(self, n):\n",
    "        self.hand += n\n",
    "        \n",
    "    def get_points(self):\n",
    "        return self.points\n",
    "    \n",
    "    def get_hand(self):\n",
    "        return self.hand\n",
    "    \n",
    "    def add_points(self, n):\n",
    "        self.points += n\n",
    "        \n",
    "    def sub_points(self, n):\n",
    "        self.points -=n\n",
    "    \n",
    "    def calc_weights(self, x, n, pile, gamma, delta):\n",
    "        # return np.exp(x[0] + x[1]*delta + x[2]*delta**2/n + x[3]*delta**3/n**2 + x[4]*gamma + x[5]*gamma**2/n + x[6]*gamma**3/n**2 , dtype = np.float128)\n",
    "        return np.exp(x[0] + x[1]*delta/pile + x[2]*delta**2/pile**2 + x[3]*gamma/pile + x[4]*gamma**2/pile**2  , dtype = np.float128)\n",
    "\n",
    "        \n",
    "    def get_p(self, strategy, oponent_points, pile):\n",
    "        n =  max_points - self.points\n",
    "        gamma = min(n-oponent_points, 0)\n",
    "        delta = max(n-oponent_points, 0)\n",
    "        weights = np.apply_along_axis(self.calc_weights, 1, strategy, n, pile, gamma, delta)\n",
    "        return weights\n",
    "    \n",
    "cdef class rrrats4_player(Player):\n",
    "    def make_decision_about_throw(self, oponent_points, pile):\n",
    "        if self.hand == 0:\n",
    "            return 1\n",
    "        elif self.hand == 1:\n",
    "            weights = self.get_p(self.strategy[:2, :], oponent_points, pile)\n",
    "            choice = random.choices([1, 0], weights = weights)[0]\n",
    "        elif self.hand == 2:\n",
    "            weights = self.get_p(self.strategy[2:4, :], oponent_points, pile)\n",
    "            choice = random.choices([1, 0], weights = weights)[0]\n",
    "        else:\n",
    "            weights = self.get_p(self.strategy[4:, :], oponent_points, pile)\n",
    "            choice = random.choices([1, 0], weights = weights)[0]    \n",
    "        return choice\n",
    "\n",
    "def tour(player_1, player_2, pile):\n",
    "    for i in range(4):\n",
    "        tour_results = player_1.make_decision_about_throw(player_2.get_points(), pile)\n",
    "        if tour_results == 1:\n",
    "            draw = [random.choices([0, 1, 2], weights = [3, 2, 1])[0], random.choices([0, 1, 2], weights = [3, 2, 1])[0]]            \n",
    "            if draw == [0,0]:\n",
    "                pile += player_1.get_hand()\n",
    "                player_1.set_hand(0)\n",
    "                break\n",
    "            \n",
    "            if draw[0] == 1:\n",
    "                player_1.add_to_hand(1)\n",
    "                pile -= 1\n",
    "            elif draw[0] == 2:\n",
    "                if player_2.get_points() > 0: #still from oponent\n",
    "                    player_2.sub_points(1)\n",
    "                    player_1.add_to_hand(1)\n",
    "                else:\n",
    "                    player_1.add_to_hand(1)\n",
    "                    pile -= 1\n",
    "            else:\n",
    "                pass\n",
    "            if pile < 1:\n",
    "                break\n",
    "            if draw[1] == 1:\n",
    "                player_1.add_to_hand(1)\n",
    "                pile -= 1\n",
    "            elif draw[1] == 2:\n",
    "                if player_2.get_points() > 0: #still from oponent\n",
    "                    player_2.sub_points(1)\n",
    "                    player_1.add_to_hand(1)\n",
    "                else:\n",
    "                    player_1.add_to_hand(1)\n",
    "                    pile -= 1\n",
    "            else:\n",
    "                pass\n",
    "\n",
    "            if pile < 1:\n",
    "                break\n",
    "        else:\n",
    "            break\n",
    "        \n",
    "    if player_1.get_hand() > 4:\n",
    "        pile +=  player_1.get_hand() - 4\n",
    "        player_1.set_hand(4)\n",
    "    player_1.add_points(player_1.get_hand())\n",
    "    player_1.set_hand(0)\n",
    "    return pile\n",
    "\n",
    "def symulation(parameters1, parameters2):\n",
    "    cdef short pile\n",
    "    np.random.seed()\n",
    "    parameters1 = np.reshape(parameters1, (6,5))\n",
    "    parameters2 = np.reshape(parameters2, (6,5))\n",
    "    \n",
    "    pile = max_points\n",
    "    player_1 = rrrats4_player(parameters1)\n",
    "    player_2 = rrrats4_player(parameters2)\n",
    "    \n",
    "    while True:\n",
    "        # try:\n",
    "            pile = tour(player_1, player_2, pile)\n",
    "            if pile < 1:\n",
    "                break\n",
    "            pile = tour(player_2, player_1, pile)\n",
    "            if pile < 1:\n",
    "                break\n",
    "\n",
    "        # except ValueError: \n",
    "            # print(\"hahahahah\")\n",
    "            # break\n",
    "    if player_1.get_points() > player_2.get_points():\n",
    "        return 1\n",
    "    else:\n",
    "        return 0\n",
    "    \n"
   ]
  },
  {
   "cell_type": "code",
   "execution_count": 248,
   "metadata": {},
   "outputs": [],
   "source": [
    "def calc_weights(x, n, pile, gamma, delta):\n",
    "        # return np.exp(x[0] + x[1]*delta + x[2]*delta**2/n + x[3]*delta**3/n**2 + x[4]*gamma + x[5]*gamma**2/n + x[6]*gamma**3/n**2 , dtype = np.float128)\n",
    "        return np.exp(x[0] + x[1]*delta/pile + x[2]*delta**2/pile**2 + x[3]*gamma/pile + x[4]*gamma**2/pile**2  , dtype = np.float128)\n",
    "\n",
    "def get_p(strategy, points, oponent_points, pile):\n",
    "        n =  31 - points\n",
    "        gamma = min(n-oponent_points, 0)\n",
    "        delta = max(n-oponent_points, 0)\n",
    "        weights = np.apply_along_axis(calc_weights, 1, strategy, n, pile, gamma, delta)\n",
    "        return weights"
   ]
  },
  {
   "cell_type": "code",
   "execution_count": null,
   "metadata": {},
   "outputs": [],
   "source": [
    "\n"
   ]
  },
  {
   "cell_type": "code",
   "execution_count": 256,
   "metadata": {},
   "outputs": [
    {
     "name": "stdout",
     "output_type": "stream",
     "text": [
      "0.9999546021312975656 0.9999546021312975656 0.26894142136999512076\n",
      "0.9999546021312975656 0.9999546021312975656 4.5397868702434394504e-05\n"
     ]
    },
    {
     "data": {
      "text/plain": [
       "0.516"
      ]
     },
     "execution_count": 256,
     "metadata": {},
     "output_type": "execute_result"
    }
   ],
   "source": [
    "n,m = 0, 0\n",
    "k = 31 - n-m\n",
    "par1 = np.array([[10,0,0,0,0,\n",
    "                0,0,0,0,0, \n",
    "                10,0,0,0,0,\n",
    "                0,0,0,0,0,\n",
    "                0,0,0,0,0,\n",
    "                1,0,0,0,0]], dtype=np.float128)\n",
    "par1 = np.reshape(par1,((6,5)))\n",
    "ps = get_p(par1, n, m, k)\n",
    "print(ps[0]/(ps[0]+ps[1]), ps[2]/(ps[2]+ps[3]), ps[4]/(ps[4]+ps[5]))\n",
    "\n",
    "par2 = np.array([[10,0,0,0,0,\n",
    "                0,0,0,0,0, \n",
    "                10,0,0,0,0,\n",
    "                0,0,0,0,0,\n",
    "                0,0,0,0,0,\n",
    "                10,0,0,0,0]], dtype=np.float128)\n",
    "par2 = np.reshape(par2,((6,5)))\n",
    "ps = get_p(par2, n, m, k)\n",
    "print(ps[0]/(ps[0]+ps[1]), ps[2]/(ps[2]+ps[3]), ps[4]/(ps[4]+ps[5]))\n",
    "np.mean([symulation(par1, par2) for i in range(2000)])\n"
   ]
  },
  {
   "cell_type": "code",
   "execution_count": 211,
   "metadata": {},
   "outputs": [
    {
     "data": {
      "text/plain": [
       "0.75"
      ]
     },
     "execution_count": 211,
     "metadata": {},
     "output_type": "execute_result"
    }
   ],
   "source": []
  },
  {
   "cell_type": "code",
   "execution_count": 153,
   "metadata": {},
   "outputs": [
    {
     "data": {
      "text/plain": [
       "(0, 13, 18)"
      ]
     },
     "execution_count": 153,
     "metadata": {},
     "output_type": "execute_result"
    }
   ],
   "source": [
    "symulation(par1, par2)"
   ]
  },
  {
   "cell_type": "code",
   "execution_count": 145,
   "metadata": {},
   "outputs": [
    {
     "data": {
      "text/plain": [
       "(1, 18, 13)"
      ]
     },
     "execution_count": 145,
     "metadata": {},
     "output_type": "execute_result"
    }
   ],
   "source": [
    "symulation(par1, par1)\n"
   ]
  },
  {
   "cell_type": "code",
   "execution_count": 84,
   "metadata": {},
   "outputs": [
    {
     "name": "stdout",
     "output_type": "stream",
     "text": [
      "2.54 ms ± 155 µs per loop (mean ± std. dev. of 7 runs, 100 loops each)\n"
     ]
    }
   ],
   "source": [
    "%%timeit\n",
    "symulation(par,par)"
   ]
  },
  {
   "attachments": {},
   "cell_type": "markdown",
   "metadata": {},
   "source": [
    "# actual "
   ]
  },
  {
   "attachments": {},
   "cell_type": "markdown",
   "metadata": {},
   "source": []
  },
  {
   "cell_type": "code",
   "execution_count": 227,
   "metadata": {},
   "outputs": [
    {
     "name": "stdout",
     "output_type": "stream",
     "text": [
      "The cython extension is already loaded. To reload it, use:\n",
      "  %reload_ext cython\n"
     ]
    }
   ],
   "source": [
    "%load_ext cython"
   ]
  },
  {
   "cell_type": "code",
   "execution_count": 228,
   "metadata": {},
   "outputs": [
    {
     "name": "stderr",
     "output_type": "stream",
     "text": [
      "UsageError: %%cython is a cell magic, but the cell body is empty.\n"
     ]
    }
   ],
   "source": []
  },
  {
   "cell_type": "code",
   "execution_count": 242,
   "metadata": {},
   "outputs": [
    {
     "name": "stderr",
     "output_type": "stream",
     "text": [
      "In file included from /home/olek/.local/lib/python3.10/site-packages/numpy/core/include/numpy/ndarraytypes.h:1948,\n",
      "                 from /home/olek/.local/lib/python3.10/site-packages/numpy/core/include/numpy/ndarrayobject.h:12,\n",
      "                 from /home/olek/.local/lib/python3.10/site-packages/numpy/core/include/numpy/arrayobject.h:5,\n",
      "                 from /home/olek/.cache/ipython/cython/_cython_magic_feaead3dd09770b58bfc6f3a099dad14.c:794:\n",
      "/home/olek/.local/lib/python3.10/site-packages/numpy/core/include/numpy/npy_1_7_deprecated_api.h:17:2: warning: #warning \"Using deprecated NumPy API, disable it with \" \"#define NPY_NO_DEPRECATED_API NPY_1_7_API_VERSION\" [-Wcpp]\n",
      "   17 | #warning \"Using deprecated NumPy API, disable it with \" \\\n",
      "      |  ^~~~~~~\n"
     ]
    }
   ],
   "source": [
    "%%cython\n",
    "import random\n",
    "import numpy as np\n",
    "cimport numpy as np\n",
    "np.import_array()\n",
    "\n",
    "import collections\n",
    "from mpire import WorkerPool\n",
    "cdef short max_points\n",
    "max_points = 31\n",
    "\n",
    "\n",
    "cdef class Player():\n",
    "    cdef short hand, points\n",
    "    cdef np.ndarray strategy\n",
    "    def __init__(self, strategy) -> None:\n",
    "        self.hand = 0\n",
    "        self.points = 0\n",
    "        self.strategy = np.exp(strategy, dtype = np.float128)\n",
    "\n",
    "    def set_hand(self, n):\n",
    "        self.hand = n\n",
    "    \n",
    "    def add_to_hand(self, n):\n",
    "        self.hand += n\n",
    "        \n",
    "    def get_points(self):\n",
    "        return self.points\n",
    "    \n",
    "    def get_hand(self):\n",
    "        return self.hand\n",
    "    \n",
    "    def add_points(self, n):\n",
    "        self.points += n\n",
    "        \n",
    "    def sub_points(self, n):\n",
    "        self.points -=n\n",
    "    \n",
    "    def calc_weights(self, x, n, pile, gamma, delta):\n",
    "        # return np.exp(x[0] + x[1]*delta + x[2]*delta**2/n + x[3]*delta**3/n**2 + x[4]*gamma + x[5]*gamma**2/n + x[6]*gamma**3/n**2 , dtype = np.float128)\n",
    "        # return np.exp(x[0] + x[1]*delta/pile + x[2]*delta**2/pile**2 + x[3]*gamma/pile + x[4]*gamma**2/pile**2  , dtype = np.float128)\n",
    "        return np.exp(x[0], dtype = np.float128)\n",
    "\n",
    "\n",
    "    def get_p(self, strategy, oponent_points, pile):\n",
    "        n =  max_points - self.points\n",
    "        gamma = min(n-oponent_points, 0)\n",
    "        delta = max(n-oponent_points, 0)\n",
    "        weights = np.apply_along_axis(self.calc_weights, 1, strategy, n, pile, gamma, delta)\n",
    "        return weights\n",
    "    \n",
    "cdef class rrrats4_player(Player):\n",
    "    def make_decision_about_throw(self, oponent_points, pile):\n",
    "        if self.hand == 0:\n",
    "            return 1\n",
    "        elif self.hand == 1:\n",
    "            choice = random.choices([1, 0], weights = self.strategy[:2])[0]\n",
    "        elif self.hand == 2:\n",
    "            choice = random.choices([1, 0], weights = self.strategy[2:4])[0]\n",
    "        else:\n",
    "            choice = random.choices([1, 0], weights = self.strategy[4:])[0]\n",
    "        return choice\n",
    "\n",
    "def tour(player_1, player_2, pile):\n",
    "    for i in range(4):\n",
    "        tour_results = player_1.make_decision_about_throw(player_2.get_points(), pile)\n",
    "        if tour_results == 1:\n",
    "            draw = [random.choices([0, 1, 2], weights = [3, 2, 1])[0], random.choices([0, 1, 2], weights = [3, 2, 1])[0]]            \n",
    "            if draw == [0,0]:\n",
    "                pile += player_1.get_hand()\n",
    "                player_1.set_hand(0)\n",
    "                break\n",
    "            \n",
    "            if draw[0] == 1:\n",
    "                player_1.add_to_hand(1)\n",
    "                pile -= 1\n",
    "            elif draw[0] == 2:\n",
    "                if player_2.get_points() > 0: #still from oponent\n",
    "                    player_2.sub_points(1)\n",
    "                    player_1.add_to_hand(1)\n",
    "                else:\n",
    "                    player_1.add_to_hand(1)\n",
    "                    pile -= 1\n",
    "            else:\n",
    "                pass\n",
    "            if pile < 1:\n",
    "                break\n",
    "            if draw[1] == 1:\n",
    "                player_1.add_to_hand(1)\n",
    "                pile -= 1\n",
    "            elif draw[1] == 2:\n",
    "                if player_2.get_points() > 0: #still from oponent\n",
    "                    player_2.sub_points(1)\n",
    "                    player_1.add_to_hand(1)\n",
    "                else:\n",
    "                    player_1.add_to_hand(1)\n",
    "                    pile -= 1\n",
    "            else:\n",
    "                pass\n",
    "\n",
    "            if pile < 1:\n",
    "                break\n",
    "        else:\n",
    "            break\n",
    "        \n",
    "    if player_1.get_hand() > 4:\n",
    "        pile +=  player_1.get_hand() - 4\n",
    "        player_1.set_hand(4)\n",
    "    player_1.add_points(player_1.get_hand())\n",
    "    player_1.set_hand(0)\n",
    "    return pile\n",
    "\n",
    "def symulation(parameters1, parameters2):\n",
    "    cdef short pile\n",
    "    np.random.seed()\n",
    "    \n",
    "    pile = max_points\n",
    "    player_1 = rrrats4_player(parameters1)\n",
    "    player_2 = rrrats4_player(parameters2)\n",
    "    \n",
    "    while True:\n",
    "        # try:\n",
    "            pile = tour(player_1, player_2, pile)\n",
    "            if pile < 1:\n",
    "                break\n",
    "            pile = tour(player_2, player_1, pile)\n",
    "            if pile < 1:\n",
    "                break\n",
    "\n",
    "        # except ValueError: \n",
    "            # print(\"hahahahah\")\n",
    "            # break\n",
    "    if player_1.get_points() > player_2.get_points():\n",
    "        return 1\n",
    "    else:\n",
    "        return 0"
   ]
  },
  {
   "cell_type": "code",
   "execution_count": 244,
   "metadata": {},
   "outputs": [
    {
     "data": {
      "text/plain": [
       "0.72"
      ]
     },
     "execution_count": 244,
     "metadata": {},
     "output_type": "execute_result"
    }
   ],
   "source": [
    "par1 = np.array([10,0,0,0,0,0])\n",
    "par2 = np.array([0,0,0,0,0,0])\n",
    "np.mean([symulation(par1, par2) for i in range(100)])"
   ]
  },
  {
   "cell_type": "code",
   "execution_count": 246,
   "metadata": {},
   "outputs": [
    {
     "name": "stdout",
     "output_type": "stream",
     "text": [
      "493 µs ± 6.03 µs per loop (mean ± std. dev. of 7 runs, 1,000 loops each)\n"
     ]
    }
   ],
   "source": [
    "%%timeit \n",
    "symulation(par1, par2)"
   ]
  }
 ],
 "metadata": {
  "kernelspec": {
   "display_name": "Python 3",
   "language": "python",
   "name": "python3"
  },
  "language_info": {
   "codemirror_mode": {
    "name": "ipython",
    "version": 3
   },
   "file_extension": ".py",
   "mimetype": "text/x-python",
   "name": "python",
   "nbconvert_exporter": "python",
   "pygments_lexer": "ipython3",
   "version": "3.10.6"
  },
  "orig_nbformat": 4,
  "vscode": {
   "interpreter": {
    "hash": "31f2aee4e71d21fbe5cf8b01ff0e069b9275f58929596ceb00d14d90e3e16cd6"
   }
  }
 },
 "nbformat": 4,
 "nbformat_minor": 2
}
