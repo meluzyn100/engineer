{
 "cells": [
  {
   "cell_type": "code",
   "execution_count": 1,
   "metadata": {},
   "outputs": [],
   "source": [
    "from rrrats import symulation"
   ]
  },
  {
   "cell_type": "code",
   "execution_count": 2,
   "metadata": {},
   "outputs": [],
   "source": [
    "def calc_weights(x, n, pile, gamma, delta):\n",
    "        # return np.exp(x[0] + x[1]*delta + x[2]*delta**2/n + x[3]*delta**3/n**2 + x[4]*gamma + x[5]*gamma**2/n + x[6]*gamma**3/n**2 , dtype = np.float128)\n",
    "        return np.exp(x[0] + x[1]*delta/pile + x[2]*delta**2/pile**2 + x[3]*gamma/pile + x[4]*gamma**2/pile**2  , dtype = np.float128)\n",
    "\n",
    "def get_p(strategy, points, oponent_points, pile):\n",
    "        n =  31 - points\n",
    "        gamma = min(n-oponent_points, 0)\n",
    "        delta = max(n-oponent_points, 0)\n",
    "        weights = np.apply_along_axis(calc_weights, 1, strategy, n, pile, gamma, delta)\n",
    "        return weights"
   ]
  },
  {
   "cell_type": "code",
   "execution_count": 3,
   "metadata": {},
   "outputs": [
    {
     "ename": "NameError",
     "evalue": "name 'np' is not defined",
     "output_type": "error",
     "traceback": [
      "\u001b[0;31m---------------------------------------------------------------------------\u001b[0m",
      "\u001b[0;31mNameError\u001b[0m                                 Traceback (most recent call last)",
      "Cell \u001b[0;32mIn [3], line 1\u001b[0m\n\u001b[0;32m----> 1\u001b[0m par1 \u001b[39m=\u001b[39m par \u001b[39m=\u001b[39m np\u001b[39m.\u001b[39marray([ \u001b[39m1.64085451e+00\u001b[39m, \u001b[39m-\u001b[39m\u001b[39m3.08087133e-01\u001b[39m,  \u001b[39m1.66900667e+00\u001b[39m,  \u001b[39m1.21432588e+00\u001b[39m,\n\u001b[1;32m      2\u001b[0m         \u001b[39m1.39859510e-01\u001b[39m, \u001b[39m-\u001b[39m\u001b[39m1.35101682e+00\u001b[39m,  \u001b[39m4.90895393e-01\u001b[39m, \u001b[39m-\u001b[39m\u001b[39m1.22023503e+00\u001b[39m,\n\u001b[1;32m      3\u001b[0m        \u001b[39m-\u001b[39m\u001b[39m1.09485986e+00\u001b[39m,  \u001b[39m1.01717552e-03\u001b[39m,  \u001b[39m2.33083784e-02\u001b[39m,  \u001b[39m2.87945270e+00\u001b[39m,\n\u001b[1;32m      4\u001b[0m         \u001b[39m1.55698716e+00\u001b[39m, \u001b[39m-\u001b[39m\u001b[39m1.36737431e+00\u001b[39m,  \u001b[39m2.73961695e+00\u001b[39m,  \u001b[39m2.15210890e+00\u001b[39m,\n\u001b[1;32m      5\u001b[0m         \u001b[39m4.89976328e-01\u001b[39m, \u001b[39m-\u001b[39m\u001b[39m1.53415030e+00\u001b[39m,  \u001b[39m5.25868865e-01\u001b[39m, \u001b[39m-\u001b[39m\u001b[39m3.26828117e-02\u001b[39m,\n\u001b[1;32m      6\u001b[0m         \u001b[39m1.30481716e+00\u001b[39m,  \u001b[39m9.33538712e-01\u001b[39m,  \u001b[39m1.61467831e+00\u001b[39m,  \u001b[39m6.91094955e-01\u001b[39m,\n\u001b[1;32m      7\u001b[0m         \u001b[39m8.09473105e-02\u001b[39m,  \u001b[39m9.38286000e-01\u001b[39m, \u001b[39m-\u001b[39m\u001b[39m2.11686789e+00\u001b[39m, \u001b[39m-\u001b[39m\u001b[39m5.87506275e-01\u001b[39m,\n\u001b[1;32m      8\u001b[0m         \u001b[39m1.04114196e+00\u001b[39m, \u001b[39m-\u001b[39m\u001b[39m1.29878052e+00\u001b[39m], dtype\u001b[39m=\u001b[39mnp\u001b[39m.\u001b[39mfloat128)\n\u001b[1;32m      9\u001b[0m par2 \u001b[39m=\u001b[39m np\u001b[39m.\u001b[39marray([\u001b[39m1\u001b[39m,\u001b[39m0\u001b[39m,\u001b[39m0\u001b[39m,\u001b[39m0\u001b[39m,\u001b[39m0\u001b[39m,\n\u001b[1;32m     10\u001b[0m                 \u001b[39m2\u001b[39m,\u001b[39m0\u001b[39m,\u001b[39m0\u001b[39m,\u001b[39m0\u001b[39m,\u001b[39m0\u001b[39m,\n\u001b[1;32m     11\u001b[0m                 \u001b[39m3\u001b[39m,\u001b[39m0\u001b[39m,\u001b[39m0\u001b[39m,\u001b[39m0\u001b[39m,\u001b[39m0\u001b[39m,\n\u001b[1;32m     12\u001b[0m                 \u001b[39m4\u001b[39m,\u001b[39m0\u001b[39m,\u001b[39m0\u001b[39m,\u001b[39m0\u001b[39m,\u001b[39m0\u001b[39m,\n\u001b[1;32m     13\u001b[0m                 \u001b[39m5\u001b[39m,\u001b[39m0\u001b[39m,\u001b[39m0\u001b[39m,\u001b[39m0\u001b[39m,\u001b[39m0\u001b[39m,\n\u001b[1;32m     14\u001b[0m                 \u001b[39m6\u001b[39m,\u001b[39m0\u001b[39m,\u001b[39m0\u001b[39m,\u001b[39m0\u001b[39m,\u001b[39m0\u001b[39m], dtype\u001b[39m=\u001b[39mnp\u001b[39m.\u001b[39mfloat128)\n",
      "\u001b[0;31mNameError\u001b[0m: name 'np' is not defined"
     ]
    }
   ],
   "source": [
    "par1 = par = np.array([ 1.64085451e+00, -3.08087133e-01,  1.66900667e+00,  1.21432588e+00,\n",
    "        1.39859510e-01, -1.35101682e+00,  4.90895393e-01, -1.22023503e+00,\n",
    "       -1.09485986e+00,  1.01717552e-03,  2.33083784e-02,  2.87945270e+00,\n",
    "        1.55698716e+00, -1.36737431e+00,  2.73961695e+00,  2.15210890e+00,\n",
    "        4.89976328e-01, -1.53415030e+00,  5.25868865e-01, -3.26828117e-02,\n",
    "        1.30481716e+00,  9.33538712e-01,  1.61467831e+00,  6.91094955e-01,\n",
    "        8.09473105e-02,  9.38286000e-01, -2.11686789e+00, -5.87506275e-01,\n",
    "        1.04114196e+00, -1.29878052e+00], dtype=np.float128)\n",
    "par2 = np.array([1,0,0,0,0,\n",
    "                2,0,0,0,0,\n",
    "                3,0,0,0,0,\n",
    "                4,0,0,0,0,\n",
    "                5,0,0,0,0,\n",
    "                6,0,0,0,0], dtype=np.float128)"
   ]
  },
  {
   "cell_type": "code",
   "execution_count": null,
   "metadata": {},
   "outputs": [
    {
     "data": {
      "text/plain": [
       "0.13"
      ]
     },
     "execution_count": 73,
     "metadata": {},
     "output_type": "execute_result"
    }
   ],
   "source": [
    "np.mean([symulation(par1, par2) for i in range(100)])"
   ]
  },
  {
   "cell_type": "code",
   "execution_count": 146,
   "metadata": {},
   "outputs": [
    {
     "data": {
      "text/plain": [
       "array([[1., 0., 0., 0., 0.],\n",
       "       [2., 0., 0., 0., 0.],\n",
       "       [3., 0., 0., 0., 0.],\n",
       "       [4., 0., 0., 0., 0.],\n",
       "       [5., 0., 0., 0., 0.],\n",
       "       [6., 0., 0., 0., 0.]], dtype=float128)"
      ]
     },
     "execution_count": 146,
     "metadata": {},
     "output_type": "execute_result"
    }
   ],
   "source": [
    "import numpy as np\n",
    "par = np.array([ 1.64085451e+00, -3.08087133e-01,  1.66900667e+00,  1.21432588e+00,\n",
    "        1.39859510e-01, -1.35101682e+00,  4.90895393e-01, -1.22023503e+00,\n",
    "       -1.09485986e+00,  1.01717552e-03,  2.33083784e-02,  2.87945270e+00,\n",
    "        1.55698716e+00, -1.36737431e+00,  2.73961695e+00,  2.15210890e+00,\n",
    "        4.89976328e-01, -1.53415030e+00,  5.25868865e-01, -3.26828117e-02,\n",
    "        1.30481716e+00,  9.33538712e-01,  1.61467831e+00,  6.91094955e-01,\n",
    "        8.09473105e-02,  9.38286000e-01, -2.11686789e+00, -5.87506275e-01,\n",
    "        1.04114196e+00, -1.29878052e+00], dtype=np.float128)\n",
    "par = np.array([1,0,0,0,0,\n",
    "                2,0,0,0,0,\n",
    "                3,0,0,0,0,\n",
    "                4,0,0,0,0,\n",
    "                5,0,0,0,0,\n",
    "                6,0,0,0,0], dtype=np.float128)\n",
    "par = np.reshape(par,((6,5)))\n",
    "par\n",
    "# symulation(par, par)"
   ]
  },
  {
   "cell_type": "code",
   "execution_count": 154,
   "metadata": {},
   "outputs": [
    {
     "data": {
      "text/plain": [
       "array([[ 1.78235992,  1.30147827, -2.91435806, -2.65036668,  1.01631654],\n",
       "       [-1.58906775, -2.78728762, -1.61309514, -4.111755  , -0.66649425],\n",
       "       [ 3.72630349, -1.23934708,  0.36998959, -0.52684681, -1.96807171],\n",
       "       [-0.34148809, -3.08208472, -2.17205518,  1.15065657, -2.7358067 ],\n",
       "       [ 0.54785003,  0.5606402 ,  1.88188539, -3.19451321,  0.94931422],\n",
       "       [-0.34836479,  2.73081736,  1.76499482, -4.22762406,  4.94139368]],\n",
       "      dtype=float128)"
      ]
     },
     "execution_count": 154,
     "metadata": {},
     "output_type": "execute_result"
    }
   ],
   "source": [
    "par2 = np.array([ 1.78235992,  1.30147827, -2.91435806, -2.65036668,  1.01631654,\n",
    "       -1.58906775, -2.78728762, -1.61309514, -4.111755  , -0.66649425,\n",
    "        3.72630349, -1.23934708,  0.36998959, -0.52684681, -1.96807171,\n",
    "       -0.34148809, -3.08208472, -2.17205518,  1.15065657, -2.7358067 ,\n",
    "        0.54785003,  0.5606402 ,  1.88188539, -3.19451321,  0.94931422,\n",
    "       -0.34836479,  2.73081736,  1.76499482, -4.22762406,  4.94139368], dtype=np.float128)\n",
    "par2 = np.reshape(par2,((6,5)))\n",
    "par2"
   ]
  },
  {
   "cell_type": "code",
   "execution_count": 155,
   "metadata": {},
   "outputs": [
    {
     "name": "stdout",
     "output_type": "stream",
     "text": [
      "[1.18468881e+00 2.50504017e-03 1.74082808e+01 3.71406621e-03\n",
      " 1.98931534e+01 6.32722845e+01]\n"
     ]
    },
    {
     "data": {
      "text/plain": [
       "(0.9978899484928116656, 0.9997866949629256258, 0.23919976690754722492)"
      ]
     },
     "execution_count": 155,
     "metadata": {},
     "output_type": "execute_result"
    }
   ],
   "source": [
    "n,m = 0, 0\n",
    "k = 31 - n-m\n",
    "ps = get_p(par2, n, m, k)\n",
    "print(ps)\n",
    "ps[0]/(ps[0]+ps[1]), ps[2]/(ps[2]+ps[3]), ps[4]/(ps[4]+ps[5])"
   ]
  },
  {
   "cell_type": "code",
   "execution_count": 11,
   "metadata": {},
   "outputs": [],
   "source": [
    "%load_ext cython"
   ]
  },
  {
   "cell_type": "code",
   "execution_count": 123,
   "metadata": {},
   "outputs": [],
   "source": [
    "# %%cython\n",
    "import numpy as np\n",
    "\n",
    "# cdef float epsilon, delta, LB, UB, mu, sig\n",
    "# cdef int n_max\n",
    "# cdef int n, t\n",
    "# cdef list X_t\n",
    "\n",
    "epsilon = 0.01\n",
    "delta = 0.05\n",
    "n_max = 205\n",
    "t0=8-1\n",
    "\n",
    "def eB_n(n, sig, delta = 0.05, epsilon = 0.01):\n",
    "    return sig * np.sqrt(2*np.log(3*n_max/delta)/(n+t0)**2) + 3*np.log(3*n_max/delta)/(n+t0)**2\n",
    "\n",
    "def ILEBR_star2_test(p, delta = 0.05, epsilon = 0.01, n_max = n_max):\n",
    "    np.random.seed()\n",
    "    LB = 0\n",
    "    UB = 1\n",
    "    t = t0**2\n",
    "    # XT0 = [symulation(p1, p2) for i in range(t0)]\n",
    "    XT0 = np.random.choice([1, 0],p=[p, 1-p], size=t)\n",
    "    sumx= sum(XT0)\n",
    "    sumx2= sum(XT0**2)\n",
    "    for n in range(1, n_max+1):\n",
    "        for i in range(2*(n+t0) - 1):\n",
    "            Xt = np.random.choice([1, 0],p=[p, 1-p])\n",
    "            # Xt= symulation(p1, p2)\n",
    "            t+=1\n",
    "            sumx += Xt\n",
    "            sumx2 += Xt**2\n",
    "            mu = sumx/(t)\n",
    "            sig = np.sqrt(sumx2/t - mu**2)\n",
    "        e_n = eB_n(n, sig)\n",
    "        LB = max(LB, mu - e_n)\n",
    "        UB = min(UB, mu + e_n)\n",
    "        if UB - LB < 2*epsilon:\n",
    "            break\n",
    "        elif UB < 0.5:\n",
    "            break\n",
    "        elif LB > 0.5:\n",
    "            break\n",
    "    if LB > 0.5:\n",
    "        return 1, t\n",
    "    elif UB < 0.5:\n",
    "        return 0, t\n",
    "    elif mu > 0.5:\n",
    "        return 1, t\n",
    "    else:\n",
    "        return 0, t\n",
    "\n",
    "def ILEBR_star2(symulation, p1, p2, pool, delta = 0.05, epsilon = 0.01, n_max = n_max):\n",
    "    np.random.seed()\n",
    "    LB = 0\n",
    "    UB = 1\n",
    "    t = t0**2\n",
    "    XT0 = np.array([symulation(p1, p2) for i in range(t)])\n",
    "    sumx= np.sum(XT0)\n",
    "    sumx2= np.sum(XT0**2)\n",
    "    sumx = np.sum(XT0)\n",
    "    sumx2 = np.sum(XT0**2)\n",
    "    for n in range(1, n_max+1):\n",
    "        games_to_play = 2*(n+t0) - 1\n",
    "        X_t = np.array(pool.map(symulation, [[p1, p2]] * games_to_play))\n",
    "        sumx += np.sum(X_t)\n",
    "        sumx2 += np.sum(X_t**2)\n",
    "        t += games_to_play\n",
    "        \n",
    "        mu = sumx/(t)\n",
    "        \n",
    "        sig = np.sqrt(sumx/(t) - mu**2)\n",
    "        \n",
    "        e_n = eB_n(n, sig)\n",
    "        LB = max(LB, mu - e_n)\n",
    "        UB = min(UB, mu + e_n)\n",
    "        if UB - LB < 2*epsilon:\n",
    "            break\n",
    "        elif UB < 0.5:\n",
    "            break\n",
    "        elif LB > 0.5:\n",
    "            break\n",
    "    if LB > 0.5:\n",
    "        return 1\n",
    "    elif UB < 0.5:\n",
    "        return 0\n",
    "    elif mu > 0.5:\n",
    "        return 1\n",
    "    else:\n",
    "        return 0\n",
    "    \n",
    "def eB_n(n, sig, delta = 0.05, epsilon = 0.01):\n",
    "    return sig * np.sqrt(2*np.log(3*n_max/delta)/n**2) + 3*np.log(3*n_max/delta)/n**2\n",
    "def ILEBR_star(symulation, p1, p2, pool, delta = 0.05, epsilon = 0.01, n_max = n_max):\n",
    "    np.random.seed()\n",
    "    LB = 0\n",
    "    UB = 1\n",
    "    t = 0\n",
    "    sumx = 0\n",
    "    sumx2 = 0\n",
    "    for n in range(1, n_max+1):\n",
    "        games_to_play = 2*(n) - 1\n",
    "        Xt = np.array(pool.map(symulation, [[p1, p2]] * games_to_play))\n",
    "        sumx += sum(Xt)\n",
    "        sumx2 += sum(Xt**2)\n",
    "        t += games_to_play\n",
    "        mu = sumx/(t)\n",
    "        sig = np.sqrt(sumx2/t - mu**2)\n",
    "        e_n = eB_n(n, sig)\n",
    "        LB = max(LB, mu - e_n)\n",
    "        UB = min(UB, mu + e_n)\n",
    "        print(\"mu: \", mu, \"sig: \",sig, \"e_n:\", e_n, \"LB: \",LB, \"UB: \", UB)\n",
    "\n",
    "        if UB - LB < 2*epsilon:\n",
    "            break\n",
    "        elif UB < 0.5:\n",
    "            break\n",
    "        elif LB > 0.5:\n",
    "            break\n",
    "    if LB > 0.5:\n",
    "        return 1\n",
    "    elif UB < 0.5:\n",
    "        return 0\n",
    "    elif mu > 0.5:\n",
    "        return 1\n",
    "    else:\n",
    "        return 0\n"
   ]
  },
  {
   "cell_type": "code",
   "execution_count": 147,
   "metadata": {},
   "outputs": [],
   "source": [
    "\n",
    "par1 = np.array([ 1.16742141e+01,  5.45706345e-01, -1.45719637e+01,  1.01944650e+01,\n",
    "       -1.07142729e+01, -1.16285547e+01,  1.92552820e+00, -2.28824356e+00,\n",
    "       -7.80602635e+00, -3.30180505e+00, -2.75782847e+00,  3.71780714e+00,\n",
    "       -4.39815449e+00,  8.41668079e+00,  4.80852537e+00, -5.60668487e-03,\n",
    "       -7.07462495e-01,  2.00378646e+01,  7.70692558e+00,  2.76674949e+00,\n",
    "        3.73770467e+00, -1.44782347e+01,  5.86986619e+00, -2.02473166e+00,\n",
    "        7.35128537e+00, -6.93737191e+00,  7.66886219e+00,  1.01988794e+01,\n",
    "       -1.24879012e+01,  3.87834294e+00], dtype=np.float128)\n",
    "par2 = np.array([[2,0,0,0,0,\n",
    "                0,0,0,0,0, \n",
    "                2,0,0,0,0,\n",
    "                0,0,0,0,0,\n",
    "                0,0,0,0,0,\n",
    "                1,0,0,0,0]], dtype=np.float128)"
   ]
  },
  {
   "cell_type": "code",
   "execution_count": 144,
   "metadata": {},
   "outputs": [
    {
     "ename": "NameError",
     "evalue": "name 'n' is not defined",
     "output_type": "error",
     "traceback": [
      "\u001b[0;31m---------------------------------------------------------------------------\u001b[0m",
      "\u001b[0;31mNameError\u001b[0m                                 Traceback (most recent call last)",
      "Cell \u001b[0;32mIn [144], line 7\u001b[0m\n\u001b[1;32m      1\u001b[0m par1 \u001b[39m=\u001b[39m np\u001b[39m.\u001b[39marray([[\u001b[39m2\u001b[39m,\u001b[39m0\u001b[39m,\u001b[39m0\u001b[39m,\u001b[39m0\u001b[39m,\u001b[39m0\u001b[39m,\n\u001b[1;32m      2\u001b[0m                 \u001b[39m0\u001b[39m,\u001b[39m0\u001b[39m,\u001b[39m0\u001b[39m,\u001b[39m0\u001b[39m,\u001b[39m0\u001b[39m, \n\u001b[1;32m      3\u001b[0m                 \u001b[39m2\u001b[39m,\u001b[39m0\u001b[39m,\u001b[39m0\u001b[39m,\u001b[39m0\u001b[39m,\u001b[39m0\u001b[39m,\n\u001b[1;32m      4\u001b[0m                 \u001b[39m0\u001b[39m,\u001b[39m0\u001b[39m,\u001b[39m0\u001b[39m,\u001b[39m0\u001b[39m,\u001b[39m0\u001b[39m,\n\u001b[1;32m      5\u001b[0m                 \u001b[39m0\u001b[39m,\u001b[39m0\u001b[39m,\u001b[39m0\u001b[39m,\u001b[39m0\u001b[39m,\u001b[39m0\u001b[39m,\n\u001b[1;32m      6\u001b[0m                 \u001b[39m1\u001b[39m,\u001b[39m0\u001b[39m,\u001b[39m0\u001b[39m,\u001b[39m0\u001b[39m,\u001b[39m0\u001b[39m]], dtype\u001b[39m=\u001b[39mnp\u001b[39m.\u001b[39mfloat128)\n\u001b[0;32m----> 7\u001b[0m ps \u001b[39m=\u001b[39m get_p(par1, n, m, k)\n\u001b[1;32m      8\u001b[0m \u001b[39mprint\u001b[39m(ps[\u001b[39m0\u001b[39m]\u001b[39m/\u001b[39m(ps[\u001b[39m0\u001b[39m]\u001b[39m+\u001b[39mps[\u001b[39m1\u001b[39m]), ps[\u001b[39m2\u001b[39m]\u001b[39m/\u001b[39m(ps[\u001b[39m2\u001b[39m]\u001b[39m+\u001b[39mps[\u001b[39m3\u001b[39m]), ps[\u001b[39m4\u001b[39m]\u001b[39m/\u001b[39m(ps[\u001b[39m4\u001b[39m]\u001b[39m+\u001b[39mps[\u001b[39m5\u001b[39m]))\n\u001b[1;32m      9\u001b[0m par2 \u001b[39m=\u001b[39m np\u001b[39m.\u001b[39marray([  \u001b[39m3.19543053\u001b[39m,  \u001b[39m15.81809531\u001b[39m,   \u001b[39m9.88659834\u001b[39m,  \u001b[39m16.29902532\u001b[39m,\n\u001b[1;32m     10\u001b[0m        \u001b[39m-\u001b[39m\u001b[39m17.13854217\u001b[39m,  \u001b[39m-\u001b[39m\u001b[39m8.05264011\u001b[39m,   \u001b[39m2.81647962\u001b[39m,  \u001b[39m-\u001b[39m\u001b[39m2.35829299\u001b[39m,\n\u001b[1;32m     11\u001b[0m        \u001b[39m-\u001b[39m\u001b[39m18.94051772\u001b[39m, \u001b[39m-\u001b[39m\u001b[39m17.92603023\u001b[39m, \u001b[39m-\u001b[39m\u001b[39m43.92851882\u001b[39m,   \u001b[39m5.46632495\u001b[39m,\n\u001b[0;32m   (...)\u001b[0m\n\u001b[1;32m     15\u001b[0m         \u001b[39m21.43479795\u001b[39m,  \u001b[39m-\u001b[39m\u001b[39m2.01246249\u001b[39m,  \u001b[39m-\u001b[39m\u001b[39m2.37870253\u001b[39m,   \u001b[39m3.78944201\u001b[39m,\n\u001b[1;32m     16\u001b[0m         \u001b[39m-\u001b[39m\u001b[39m4.34193007\u001b[39m,  \u001b[39m12.60411419\u001b[39m], dtype\u001b[39m=\u001b[39mnp\u001b[39m.\u001b[39mfloat128)\n",
      "\u001b[0;31mNameError\u001b[0m: name 'n' is not defined"
     ]
    }
   ],
   "source": [
    "\n",
    "par1 = np.array([[2,0,0,0,0,\n",
    "                0,0,0,0,0, \n",
    "                2,0,0,0,0,\n",
    "                0,0,0,0,0,\n",
    "                0,0,0,0,0,\n",
    "                1,0,0,0,0]], dtype=np.float128)\n",
    "par2 = np.array([  3.19543053,  15.81809531,   9.88659834,  16.29902532,\n",
    "       -17.13854217,  -8.05264011,   2.81647962,  -2.35829299,\n",
    "       -18.94051772, -17.92603023, -43.92851882,   5.46632495,\n",
    "        32.93587164,  27.03303823,  -2.10413468,   8.91134758,\n",
    "       -10.97562224,  14.88909611,  -9.25413313, -24.5535878 ,\n",
    "        -3.66329483,  -2.52130971,  14.45632983,   7.67504021,\n",
    "        21.43479795,  -2.01246249,  -2.37870253,   3.78944201,\n",
    "        -4.34193007,  12.60411419], dtype=np.float128)"
   ]
  },
  {
   "cell_type": "code",
   "execution_count": 142,
   "metadata": {},
   "outputs": [
    {
     "data": {
      "text/plain": [
       "0.633"
      ]
     },
     "execution_count": 142,
     "metadata": {},
     "output_type": "execute_result"
    }
   ],
   "source": [
    "np.mean([symulation(par1, par2) for i in range(1000)])"
   ]
  },
  {
   "cell_type": "code",
   "execution_count": 143,
   "metadata": {},
   "outputs": [
    {
     "name": "stdout",
     "output_type": "stream",
     "text": [
      "mu:  1.0 sig:  0.0 e_n: 28.252063624081522 LB:  0 UB:  1\n",
      "mu:  0.25 sig:  0.4330127018922193 e_n: 8.002631246599996 LB:  0 UB:  1\n",
      "mu:  0.6666666666666666 sig:  0.4714045207910317 e_n: 3.8210672586495003 LB:  0 UB:  1\n",
      "mu:  0.625 sig:  0.4841229182759271 e_n: 2.2910149200645047 LB:  0 UB:  1\n",
      "mu:  0.52 sig:  0.49959983987187184 e_n: 1.5637249500413237 LB:  0 UB:  1\n",
      "mu:  0.5833333333333334 sig:  0.4930066485916346 e_n: 1.1413792537748453 LB:  0 UB:  1\n",
      "mu:  0.6122448979591837 sig:  0.48723821984952337 e_n: 0.8786532789232097 LB:  0 UB:  1\n",
      "mu:  0.59375 sig:  0.4911323014219285 e_n: 0.7078714663310252 LB:  0 UB:  1\n",
      "mu:  0.6296296296296297 sig:  0.48290388186686284 e_n: 0.5816523846443855 LB:  0.04797724498524414 UB:  1\n",
      "mu:  0.63 sig:  0.4828043081829324 e_n: 0.49205275041862495 LB:  0.13794724958137505 UB:  1\n",
      "mu:  0.6115702479338843 sig:  0.4873931470342721 e_n: 0.42578233197807913 LB:  0.18578791595580513 UB:  1\n",
      "mu:  0.6319444444444444 sig:  0.4822765426394352 e_n: 0.37061411073583905 LB:  0.26133033370860537 UB:  1\n",
      "mu:  0.650887573964497 sig:  0.47668956357687176 e_n: 0.32630918778499635 LB:  0.3245783861795007 UB:  0.9771967617494934\n",
      "mu:  0.6530612244897959 sig:  0.475996073048596 e_n: 0.2916984746199626 LB:  0.36136274986983324 UB:  0.9447596991097584\n",
      "mu:  0.6622222222222223 sig:  0.47295237669059653 e_n: 0.26240237857266846 LB:  0.3998198436495538 UB:  0.9246246007948907\n",
      "mu:  0.6484375 sig:  0.4774581747061726 e_n: 0.23986709048306024 LB:  0.4085704095169398 UB:  0.8883045904830602\n",
      "mu:  0.6539792387543253 sig:  0.47569989913036403 e_n: 0.21919851948417807 LB:  0.4347807192701472 UB:  0.8731777582385034\n",
      "mu:  0.654320987654321 sig:  0.47558914282119064 e_n: 0.20186484193944151 LB:  0.45245614571487947 UB:  0.8561858295937625\n",
      "mu:  0.6648199445983379 sig:  0.47205337183691504 e_n: 0.1860849420307913 LB:  0.47873500256754664 UB:  0.8509048866291292\n",
      "mu:  0.6475 sig:  0.47774862637165166 e_n: 0.17429915914218713 LB:  0.47873500256754664 UB:  0.8217991591421872\n",
      "mu:  0.6485260770975056 sig:  0.4774306278633848 e_n: 0.1627302992288152 LB:  0.48579577786869044 UB:  0.8112563763263209\n",
      "mu:  0.6570247933884298 sig:  0.4747032907631049 e_n: 0.1520158303573532 LB:  0.5050089630310766 UB:  0.809040623745783\n",
      "1\n"
     ]
    }
   ],
   "source": [
    "from mpire import WorkerPool\n",
    "\n",
    "with WorkerPool(n_jobs = 4) as pool:\n",
    "    print(ILEBR_star(symulation, par1, par2, pool))"
   ]
  },
  {
   "cell_type": "code",
   "execution_count": 2,
   "metadata": {},
   "outputs": [
    {
     "data": {
      "text/plain": [
       "(0.9852292515811452, 0.9912404560359758, 0.3593164124146428)"
      ]
     },
     "execution_count": 2,
     "metadata": {},
     "output_type": "execute_result"
    }
   ],
   "source": [
    "import numpy as np\n",
    "ps = np.exp([ -2.12737386,  -6.32759945, -15.51990319, -20.24871649,\n",
    "        -5.35415929,  -4.77582695])\n",
    "ps[0]/(ps[0]+ps[1]), ps[2]/(ps[2]+ps[3]), ps[4]/(ps[4]+ps[5])"
   ]
  },
  {
   "cell_type": "code",
   "execution_count": null,
   "metadata": {},
   "outputs": [],
   "source": []
  }
 ],
 "metadata": {
  "kernelspec": {
   "display_name": "Python 3",
   "language": "python",
   "name": "python3"
  },
  "language_info": {
   "codemirror_mode": {
    "name": "ipython",
    "version": 3
   },
   "file_extension": ".py",
   "mimetype": "text/x-python",
   "name": "python",
   "nbconvert_exporter": "python",
   "pygments_lexer": "ipython3",
   "version": "3.10.6"
  },
  "orig_nbformat": 4,
  "vscode": {
   "interpreter": {
    "hash": "31f2aee4e71d21fbe5cf8b01ff0e069b9275f58929596ceb00d14d90e3e16cd6"
   }
  }
 },
 "nbformat": 4,
 "nbformat_minor": 2
}
