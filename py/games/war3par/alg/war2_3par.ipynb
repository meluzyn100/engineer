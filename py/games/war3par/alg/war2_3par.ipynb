{
 "cells": [
  {
   "cell_type": "code",
   "execution_count": 2,
   "metadata": {},
   "outputs": [],
   "source": [
    "%load_ext cython"
   ]
  },
  {
   "cell_type": "code",
   "execution_count": 3,
   "metadata": {},
   "outputs": [
    {
     "name": "stderr",
     "output_type": "stream",
     "text": [
      "warning: /home/olek/.cache/ipython/cython/_cython_magic_ab9c7a6bf7d061e23f95135947e48c08.pyx:23:26: Non-trivial type declarators in shared declaration (e.g. mix of pointers and values). Each pointer declaration should be on its own line.\n",
      "warning: /home/olek/.cache/ipython/cython/_cython_magic_ab9c7a6bf7d061e23f95135947e48c08.pyx:23:39: Non-trivial type declarators in shared declaration (e.g. mix of pointers and values). Each pointer declaration should be on its own line.\n"
     ]
    }
   ],
   "source": [
    "%%cython\n",
    "\n",
    "import random\n",
    "import numpy as np\n",
    "import collections\n",
    "from mpire import WorkerPool\n",
    "\n",
    "cdef list deck\n",
    "cdef short deck_len, half_deck_len\n",
    "cdef double parameters_0[3]\n",
    "cdef int games_to_play\n",
    "\n",
    "deck = [2, 3, 4, 5, 6, 7, 8, 9, 10, 11, 12, 13, 14]*4  # deck of 52 cards\n",
    "deck_len = len(deck)\n",
    "half_deck_len = int(deck_len/2)\n",
    "parameters_0 = [1, 1, 1]\n",
    "\n",
    "cdef class Player():\n",
    "    \"\"\"\n",
    "    A class that represents a player's basic moves\n",
    "    \"\"\"\n",
    "    cdef list hand, cards\n",
    "    cdef char card\n",
    "    cdef double parameters[3], strategy[3]\n",
    "\n",
    "    def __init__(self, parameters, cards = None):\n",
    "        if cards is None:\n",
    "            self.hand = [0]*52\n",
    "        else:\n",
    "            self.hand = cards\n",
    "    \n",
    "        self.strategy = [np.exp(i) for i in parameters]\n",
    "        \n",
    "    def get_card(self) :\n",
    "        return self.hand.pop(0)\n",
    "\n",
    "    def add_card(self, card):\n",
    "        self.hand.append(card)\n",
    "\n",
    "    def add_cards(self, cards):\n",
    "        for card in cards:\n",
    "            self.add_card(card)\n",
    "\n",
    "    def get_hend_len(self):\n",
    "        return len(self.get_hand())\n",
    "    \n",
    "    def get_hand(self) -> list:\n",
    "        return self.hand\n",
    "    \n",
    "    def set_hend(self,cards):\n",
    "        self.hand = cards\n",
    "        \n",
    "cdef class war3_player(Player):\n",
    "    cdef char choice\n",
    "    def make_decision(self, cards):\n",
    "        choice = random.choices([1, 2, 3], self.strategy)[0]\n",
    "        if choice == 1: \n",
    "            cards = sorted(cards)\n",
    "        elif choice == 2:\n",
    "            cards = sorted(cards, reverse=True)\n",
    "        else:\n",
    "            random.shuffle(cards)\n",
    "            \n",
    "        self.add_cards(cards)\n",
    "        \n",
    "def battle(player_1, player_2):\n",
    "    cdef char player_1_card, player_2_card, winner, player_1_card_1, player_2_card_1, player_1_card_2, player_2_card_2\n",
    "    cdef list cards\n",
    "    \n",
    "    player_1_card = player_1.get_card()\n",
    "    player_2_card = player_2.get_card()\n",
    "    cards = [player_1_card, player_2_card]\n",
    "    if player_1_card > player_2_card:\n",
    "        winner = 1\n",
    "        return winner, cards\n",
    "    elif player_2_card > player_1_card:\n",
    "        winner = 2\n",
    "        return winner, cards\n",
    "    else:\n",
    "        while 1:\n",
    "            player_1_card_1 = player_1.get_card()\n",
    "            player_2_card_1 = player_2.get_card()\n",
    "            player_1_card_2 = player_1.get_card()\n",
    "            player_2_card_2 = player_2.get_card()\n",
    "            cards.extend([player_1_card_1, player_2_card_1,\n",
    "                        player_1_card_2,player_2_card_2])\n",
    "            if player_1_card_2 > player_2_card_2:\n",
    "                winner = 1\n",
    "                return winner, cards\n",
    "            elif player_2_card_2 > player_1_card_2:\n",
    "                winner = 2\n",
    "                return winner, cards\n",
    "            \n",
    "def symulation(parameters1, parameters2, deck = deck):\n",
    "    cdef char battle_winner\n",
    "    cdef list cards\n",
    "    cdef list shuffle_decl\n",
    "    \n",
    "    shuffle_decl = random.sample(deck, deck_len)\n",
    "    player_1 = war3_player(parameters1)\n",
    "    player_2 = war3_player(parameters2)\n",
    "    player_1.set_hend(shuffle_decl[0:half_deck_len])\n",
    "    player_2.set_hend(shuffle_decl[half_deck_len:deck_len])\n",
    "\n",
    "    while 1:\n",
    "        try:\n",
    "            battle_winner, cards = battle(player_1, player_2)\n",
    "            if battle_winner == 1:\n",
    "                player_1.make_decision(cards)\n",
    "            else:\n",
    "                player_2.make_decision(cards)\n",
    "        except:\n",
    "            if player_1.get_hend_len() == 0:\n",
    "                return 1\n",
    "            else:\n",
    "                return 2\n",
    "# from Cython.Includes.libcpp cimport deque\n",
    "            \n",
    "player_1 = war3_player(parameters_0)\n",
    "player_2 = war3_player(parameters_0)\n",
    "\n",
    "games_to_play = 10000\n",
    "x = [[player_1, player_2]]*games_to_play\n",
    "\n",
    "def test(symulation, x):\n",
    "    # with WorkerPool(n_jobs=5) as pool:\n",
    "    pool = WorkerPool(n_jobs=5)\n",
    "    return pool.map(symulation, x)"
   ]
  },
  {
   "cell_type": "code",
   "execution_count": 5,
   "metadata": {},
   "outputs": [
    {
     "name": "stdout",
     "output_type": "stream",
     "text": [
      "1.08 ms ± 50.4 µs per loop (mean ± std. dev. of 7 runs, 1,000 loops each)\n"
     ]
    }
   ],
   "source": [
    "%%timeit\n",
    "symulation([1,1,1], [1,1,1])"
   ]
  },
  {
   "cell_type": "code",
   "execution_count": 8,
   "metadata": {},
   "outputs": [
    {
     "name": "stdout",
     "output_type": "stream",
     "text": [
      "141 ms ± 41 ms per loop (mean ± std. dev. of 7 runs, 10 loops each)\n"
     ]
    }
   ],
   "source": [
    "%%timeit\n",
    "test(symulation, x = [[player_1, player_2]]*100)"
   ]
  },
  {
   "cell_type": "code",
   "execution_count": 37,
   "metadata": {},
   "outputs": [],
   "source": [
    "pool = WorkerPool(n_jobs=4)\n"
   ]
  },
  {
   "cell_type": "code",
   "execution_count": 38,
   "metadata": {},
   "outputs": [
    {
     "name": "stdout",
     "output_type": "stream",
     "text": [
      "638 ms ± 24.7 ms per loop (mean ± std. dev. of 7 runs, 1 loop each)\n"
     ]
    }
   ],
   "source": [
    "%%timeit\n",
    "pool.map(symulation, [[player_1, player_2]]*1000)"
   ]
  },
  {
   "cell_type": "code",
   "execution_count": 10,
   "metadata": {},
   "outputs": [
    {
     "name": "stdout",
     "output_type": "stream",
     "text": [
      "7.98 s ± 498 ms per loop (mean ± std. dev. of 7 runs, 1 loop each)\n"
     ]
    }
   ],
   "source": [
    "%%timeit\n",
    "test(symulation, x = [[player_1, player_2]]*10000)"
   ]
  },
  {
   "cell_type": "code",
   "execution_count": 52,
   "metadata": {},
   "outputs": [
    {
     "name": "stdout",
     "output_type": "stream",
     "text": [
      "2.32 s ± 33.2 ms per loop (mean ± std. dev. of 7 runs, 1 loop each)\n"
     ]
    }
   ],
   "source": [
    "%%timeit\n",
    "test(symulation, x)"
   ]
  },
  {
   "cell_type": "code",
   "execution_count": 39,
   "metadata": {},
   "outputs": [
    {
     "name": "stderr",
     "output_type": "stream",
     "text": [
      "\n",
      "Error compiling Cython file:\n",
      "------------------------------------------------------------\n",
      "...\n",
      "games_to_play\n",
      "^\n",
      "------------------------------------------------------------\n",
      "\n",
      "/home/olek/.cache/ipython/cython/_cython_magic_5aff6a90a17bf7c50495b0944d1247c8.pyx:1:0: undeclared name not builtin: games_to_play\n"
     ]
    }
   ],
   "source": [
    "%%cython\n",
    "games_to_play"
   ]
  }
 ],
 "metadata": {
  "kernelspec": {
   "display_name": "Python 3.10.6 64-bit",
   "language": "python",
   "name": "python3"
  },
  "language_info": {
   "codemirror_mode": {
    "name": "ipython",
    "version": 3
   },
   "file_extension": ".py",
   "mimetype": "text/x-python",
   "name": "python",
   "nbconvert_exporter": "python",
   "pygments_lexer": "ipython3",
   "version": "3.10.6"
  },
  "orig_nbformat": 4,
  "vscode": {
   "interpreter": {
    "hash": "31f2aee4e71d21fbe5cf8b01ff0e069b9275f58929596ceb00d14d90e3e16cd6"
   }
  }
 },
 "nbformat": 4,
 "nbformat_minor": 2
}
