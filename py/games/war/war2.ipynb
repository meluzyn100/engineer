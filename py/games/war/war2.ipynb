{
 "cells": [
  {
   "cell_type": "code",
   "execution_count": 3,
   "metadata": {},
   "outputs": [],
   "source": [
    "import random\n",
    "import numpy as np\n",
    "import collections"
   ]
  },
  {
   "cell_type": "code",
   "execution_count": 4,
   "metadata": {},
   "outputs": [],
   "source": [
    "deck = [2,3,4,5,6,7,8,9,10,11,12,13,14]*4 #deck of 52 cards\n",
    "games_to_play = 101\n",
    "deck_len = len(deck)\n",
    "number_to_card = {\n",
    "    2:\"2\",\n",
    "    3:\"3\",\n",
    "    4:\"4\",\n",
    "    5:\"5\",\n",
    "    6:\"6\",\n",
    "    7:\"7\",\n",
    "    8:\"8\",\n",
    "    9:\"9\",\n",
    "    10:\"10\",\n",
    "    11:\"J\",\n",
    "    12:\"Q\",\n",
    "    13:\"K\",\n",
    "    14:\"A\"\n",
    "}\n"
   ]
  },
  {
   "cell_type": "code",
   "execution_count": 6,
   "metadata": {},
   "outputs": [],
   "source": [
    "class Player():\n",
    "    def __init__(self, cards = None) -> None:\n",
    "        if cards:\n",
    "            self.hand = collections.deque(cards)\n",
    "        else:\n",
    "            self.hand = collections.deque([])\n",
    "            \n",
    "    def get_card(self) -> int:\n",
    "        card = self.hand.popleft()\n",
    "        return card\n",
    "    \n",
    "    def add_card(self, card:int) -> None:\n",
    "        self.hand.append(card)\n",
    "    \n",
    "    def add_cards(self, cards:list) -> None:\n",
    "        for card in cards:\n",
    "            self.add_card(card)\n",
    "\n",
    "    def get_hend_len(self):\n",
    "        return len(self.get_hand())\n",
    "    \n",
    "    def get_hand(self) -> collections.deque:\n",
    "        hand = self.hand\n",
    "        return hand"
   ]
  },
  {
   "cell_type": "code",
   "execution_count": 53,
   "metadata": {},
   "outputs": [],
   "source": [
    "def battle(player_1, player_2):\n",
    "    cards = []\n",
    "    if player_1.get_hend_len() == 0:\n",
    "        winner = 2\n",
    "        return cards, winner\n",
    "    elif player_2.get_hend_len() == 0:\n",
    "        winner = 1\n",
    "        return cards, winner\n",
    "    \n",
    "    player_1_card = player_1.get_card()\n",
    "    player_2_card = player_2.get_card()\n",
    "    cards.extend([player_1_card, player_2_card])\n",
    "\n",
    "    if player_1_card > player_2_card:\n",
    "        winner = 1\n",
    "        return cards, winner\n",
    "    elif player_2_card > player_1_card:\n",
    "        winner = 2\n",
    "        return cards, winner\n",
    "    else: \n",
    "        while 1:\n",
    "            if player_1.get_hend_len() == 0 or player_1.get_hend_len() == 1:\n",
    "                winner = 2\n",
    "                return cards, winner\n",
    "            if player_2.get_hend_len() == 0 or player_2.get_hend_len() == 1:\n",
    "                winner = 1\n",
    "                return cards, winner\n",
    "            player_1_card = player_1.get_card()\n",
    "            player_2_card = player_2.get_card()\n",
    "            cards.extend([player_1_card, player_2_card])\n",
    "            \n",
    "            player_1_card = player_1.get_card()\n",
    "            player_2_card = player_2.get_card()\n",
    "            cards.extend([player_1_card, player_2_card])\n",
    "\n",
    "            if player_1_card > player_2_card:\n",
    "                winner = 1\n",
    "                return cards, winner\n",
    "            elif player_2_card > player_1_card:\n",
    "                winner = 2\n",
    "                return cards, winner"
   ]
  },
  {
   "cell_type": "code",
   "execution_count": 185,
   "metadata": {},
   "outputs": [],
   "source": [
    "def strategy(cards, parameters):\n",
    "    propabilitis = [np.exp(i) for i in parameters]\n",
    "    choice = random.choices([1,2,3], propabilitis)[0]\n",
    "    if choice == 1:\n",
    "        cards = sorted(cards)\n",
    "    elif choice == 2:\n",
    "        cards = sorted(cards, reverse=True)\n",
    "    else:\n",
    "        random.shuffle(cards)\n",
    "    return cards"
   ]
  },
  {
   "cell_type": "code",
   "execution_count": 245,
   "metadata": {},
   "outputs": [],
   "source": [
    "def game(player_1, player_2, parameters):\n",
    "    while 1:\n",
    "        cards, winner = battle(player_1, player_2)\n",
    "        cards = strategy(cards, parameters)\n",
    "        if winner == 1:\n",
    "            player_1.add_cards(cards)\n",
    "        else:\n",
    "            player_2.add_cards(cards)\n",
    "\n",
    "        if player_1.get_hend_len() == 0:\n",
    "            return 2\n",
    "        elif player_2.get_hend_len() == 0:\n",
    "            return 1\n"
   ]
  },
  {
   "cell_type": "code",
   "execution_count": 248,
   "metadata": {},
   "outputs": [
    {
     "data": {
      "text/plain": [
       "{1: 45, 2: 56}"
      ]
     },
     "execution_count": 248,
     "metadata": {},
     "output_type": "execute_result"
    }
   ],
   "source": [
    "parameters = (1,1,1)\n",
    "score = {1:0, 2:0} \n",
    "for i in range(games_to_play):\n",
    "    random.shuffle(deck)\n",
    "    player_1 = Player()\n",
    "    player_2 = Player()\n",
    "    player_1.add_cards(deck[0:int(deck_len/2)])\n",
    "    player_2.add_cards(deck[int(deck_len/2):deck_len])\n",
    "    winner = game(player_1, player_2, parameters)\n",
    "    score[winner] += 1\n",
    "score"
   ]
  }
 ],
 "metadata": {
  "kernelspec": {
   "display_name": "Python 3.10.6 64-bit",
   "language": "python",
   "name": "python3"
  },
  "language_info": {
   "codemirror_mode": {
    "name": "ipython",
    "version": 3
   },
   "file_extension": ".py",
   "mimetype": "text/x-python",
   "name": "python",
   "nbconvert_exporter": "python",
   "pygments_lexer": "ipython3",
   "version": "3.10.6"
  },
  "orig_nbformat": 4,
  "vscode": {
   "interpreter": {
    "hash": "916dbcbb3f70747c44a77c7bcd40155683ae19c65e1c03b4aa3499c5328201f1"
   }
  }
 },
 "nbformat": 4,
 "nbformat_minor": 2
}
