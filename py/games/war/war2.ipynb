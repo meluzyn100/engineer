{
 "cells": [
  {
   "cell_type": "code",
   "execution_count": 10,
   "metadata": {},
   "outputs": [],
   "source": [
    "import random\n",
    "import numpy as np\n",
    "import collections\n",
    "import multiprocessing"
   ]
  },
  {
   "cell_type": "code",
   "execution_count": 11,
   "metadata": {},
   "outputs": [],
   "source": [
    "deck = [2,3,4,5,6,7,8,9,10,11,12,13,14]*4 #deck of 52 cards\n",
    "games_to_play = 1\n",
    "deck_len = len(deck)\n",
    "number_to_card = {\n",
    "    2:\"2\",\n",
    "    3:\"3\",\n",
    "    4:\"4\",\n",
    "    5:\"5\",\n",
    "    6:\"6\",\n",
    "    7:\"7\",\n",
    "    8:\"8\",\n",
    "    9:\"9\",\n",
    "    10:\"10\",\n",
    "    11:\"J\",\n",
    "    12:\"Q\",\n",
    "    13:\"K\",\n",
    "    14:\"A\"\n",
    "}\n",
    "parameters = [1,1,1]"
   ]
  },
  {
   "cell_type": "code",
   "execution_count": 12,
   "metadata": {},
   "outputs": [],
   "source": [
    "class Player():\n",
    "    def __init__(self, cards = None) -> None:\n",
    "        if cards:\n",
    "            self.hand = collections.deque(cards)\n",
    "        else:\n",
    "            self.hand = collections.deque([])\n",
    "            \n",
    "    def get_card(self) -> int:\n",
    "        card = self.hand.popleft()\n",
    "        return card\n",
    "    \n",
    "    def add_card(self, card:int) -> None:\n",
    "        self.hand.append(card)\n",
    "    \n",
    "    def add_cards(self, cards:list) -> None:\n",
    "        for card in cards:\n",
    "            self.add_card(card)\n",
    "\n",
    "    def get_hend_len(self):\n",
    "        return len(self.get_hand())\n",
    "    \n",
    "    def get_hand(self) -> collections.deque:\n",
    "        hand = self.hand\n",
    "        return hand\n",
    "    \n",
    "    def discard_hand(self) -> None:\n",
    "        self.hand = []"
   ]
  },
  {
   "cell_type": "code",
   "execution_count": 13,
   "metadata": {},
   "outputs": [],
   "source": [
    "def battle(player_1, player_2):\n",
    "    cards = []\n",
    "    if player_1.get_hend_len() == 0:\n",
    "        winner = 2\n",
    "        return cards, winner\n",
    "    elif player_2.get_hend_len() == 0:\n",
    "        winner = 1\n",
    "        return cards, winner\n",
    "    \n",
    "    player_1_card = player_1.get_card()\n",
    "    player_2_card = player_2.get_card()\n",
    "    cards.extend([player_1_card, player_2_card])\n",
    "\n",
    "    if player_1_card > player_2_card:\n",
    "        winner = 1\n",
    "        return cards, winner\n",
    "    elif player_2_card > player_1_card:\n",
    "        winner = 2\n",
    "        return cards, winner\n",
    "    else: \n",
    "        while 1:\n",
    "            if player_1.get_hend_len() == 0 or player_1.get_hend_len() == 1:\n",
    "                winner = 2\n",
    "                return cards, winner\n",
    "            if player_2.get_hend_len() == 0 or player_2.get_hend_len() == 1:\n",
    "                winner = 1\n",
    "                return cards, winner\n",
    "            player_1_card = player_1.get_card()\n",
    "            player_2_card = player_2.get_card()\n",
    "            cards.extend([player_1_card, player_2_card])\n",
    "            \n",
    "            player_1_card = player_1.get_card()\n",
    "            player_2_card = player_2.get_card()\n",
    "            cards.extend([player_1_card, player_2_card])\n",
    "\n",
    "            if player_1_card > player_2_card:\n",
    "                winner = 1\n",
    "                return cards, winner\n",
    "            elif player_2_card > player_1_card:\n",
    "                winner = 2\n",
    "                return cards, winner"
   ]
  },
  {
   "cell_type": "code",
   "execution_count": 14,
   "metadata": {},
   "outputs": [],
   "source": [
    "def strategy(cards, parameters):\n",
    "    propabilitis = [np.exp(i) for i in parameters]\n",
    "    choice = random.choices([1,2,3], propabilitis)[0]\n",
    "    if choice == 1:\n",
    "        cards = sorted(cards)\n",
    "    elif choice == 2:\n",
    "        cards = sorted(cards, reverse=True)\n",
    "    else:\n",
    "        random.shuffle(cards)\n",
    "    return cards"
   ]
  },
  {
   "cell_type": "code",
   "execution_count": 15,
   "metadata": {},
   "outputs": [],
   "source": [
    "def game(player_1, player_2, parameters):\n",
    "    while 1:\n",
    "        cards, winner = battle(player_1, player_2)\n",
    "        cards = strategy(cards, parameters)\n",
    "        if winner == 1:\n",
    "            player_1.add_cards(cards)\n",
    "        else:\n",
    "            player_2.add_cards(cards)\n",
    "\n",
    "        if player_1.get_hend_len() == 0:\n",
    "            return 2\n",
    "        elif player_2.get_hend_len() == 0:\n",
    "            return 1\n"
   ]
  },
  {
   "cell_type": "code",
   "execution_count": 16,
   "metadata": {},
   "outputs": [],
   "source": [
    "def symulation(parameters):\n",
    "    random.shuffle(deck)\n",
    "    player_1 = Player()\n",
    "    player_2 = Player()\n",
    "    player_1.add_cards(deck[0:int(deck_len/2)])\n",
    "    player_2.add_cards(deck[int(deck_len/2):deck_len])\n",
    "    winner = game(player_1, player_2, parameters)\n",
    "    return winner\n"
   ]
  },
  {
   "cell_type": "code",
   "execution_count": 17,
   "metadata": {},
   "outputs": [
    {
     "data": {
      "text/plain": [
       "2"
      ]
     },
     "execution_count": 17,
     "metadata": {},
     "output_type": "execute_result"
    }
   ],
   "source": [
    "symulation(parameters)"
   ]
  },
  {
   "cell_type": "code",
   "execution_count": 21,
   "metadata": {},
   "outputs": [
    {
     "data": {
      "text/plain": [
       "{1: 1, 2: 0}"
      ]
     },
     "execution_count": 21,
     "metadata": {},
     "output_type": "execute_result"
    }
   ],
   "source": [
    "parameters = [1,1,1]\n",
    "score = {1:0, 2:0} \n",
    "for i in range(games_to_play):\n",
    "    random.shuffle(deck)\n",
    "    player_1 = Player()\n",
    "    player_2 = Player()\n",
    "    player_1.add_cards(deck[0:int(deck_len/2)])\n",
    "    player_2.add_cards(deck[int(deck_len/2):deck_len])\n",
    "    winner = game(player_1, player_2, parameters)\n",
    "    score[winner] += 1\n",
    "\n",
    "score"
   ]
  },
  {
   "cell_type": "code",
   "execution_count": null,
   "metadata": {},
   "outputs": [],
   "source": []
  },
  {
   "cell_type": "code",
   "execution_count": 22,
   "metadata": {},
   "outputs": [],
   "source": [
    "p = multiprocessing.Pool()\n",
    "# p.map(f,[1,2,3,4])"
   ]
  },
  {
   "cell_type": "code",
   "execution_count": 23,
   "metadata": {},
   "outputs": [],
   "source": [
    "par = [parameters]*games_to_play\n"
   ]
  },
  {
   "cell_type": "code",
   "execution_count": 24,
   "metadata": {},
   "outputs": [
    {
     "name": "stdout",
     "output_type": "stream",
     "text": [
      "3.94 ms ± 234 µs per loop (mean ± std. dev. of 7 runs, 100 loops each)\n"
     ]
    }
   ],
   "source": [
    "%timeit results = p.map(symulation, par); results = [i for i in results if i == 1];results_1 =len(results);results_1, games_to_play - results_1"
   ]
  },
  {
   "cell_type": "code",
   "execution_count": 25,
   "metadata": {},
   "outputs": [
    {
     "name": "stdout",
     "output_type": "stream",
     "text": [
      "4.01 ms ± 180 µs per loop (mean ± std. dev. of 7 runs, 100 loops each)\n"
     ]
    }
   ],
   "source": [
    "%timeit results = p.map(symulation, par)"
   ]
  },
  {
   "cell_type": "code",
   "execution_count": 26,
   "metadata": {},
   "outputs": [
    {
     "ename": "NameError",
     "evalue": "name 'lview' is not defined",
     "output_type": "error",
     "traceback": [
      "\u001b[0;31m---------------------------------------------------------------------------\u001b[0m",
      "\u001b[0;31mNameError\u001b[0m                                 Traceback (most recent call last)",
      "Cell \u001b[0;32mIn [26], line 1\u001b[0m\n\u001b[0;32m----> 1\u001b[0m \u001b[43mget_ipython\u001b[49m\u001b[43m(\u001b[49m\u001b[43m)\u001b[49m\u001b[38;5;241;43m.\u001b[39;49m\u001b[43mrun_line_magic\u001b[49m\u001b[43m(\u001b[49m\u001b[38;5;124;43m'\u001b[39;49m\u001b[38;5;124;43mtimeit\u001b[39;49m\u001b[38;5;124;43m'\u001b[39;49m\u001b[43m,\u001b[49m\u001b[43m \u001b[49m\u001b[38;5;124;43m'\u001b[39;49m\u001b[38;5;124;43mlview.map(symulation, par)\u001b[39;49m\u001b[38;5;124;43m'\u001b[39;49m\u001b[43m)\u001b[49m\n",
      "File \u001b[0;32m~/.local/lib/python3.10/site-packages/IPython/core/interactiveshell.py:2309\u001b[0m, in \u001b[0;36mInteractiveShell.run_line_magic\u001b[0;34m(self, magic_name, line, _stack_depth)\u001b[0m\n\u001b[1;32m   2307\u001b[0m     kwargs[\u001b[39m'\u001b[39m\u001b[39mlocal_ns\u001b[39m\u001b[39m'\u001b[39m] \u001b[39m=\u001b[39m \u001b[39mself\u001b[39m\u001b[39m.\u001b[39mget_local_scope(stack_depth)\n\u001b[1;32m   2308\u001b[0m \u001b[39mwith\u001b[39;00m \u001b[39mself\u001b[39m\u001b[39m.\u001b[39mbuiltin_trap:\n\u001b[0;32m-> 2309\u001b[0m     result \u001b[39m=\u001b[39m fn(\u001b[39m*\u001b[39;49margs, \u001b[39m*\u001b[39;49m\u001b[39m*\u001b[39;49mkwargs)\n\u001b[1;32m   2310\u001b[0m \u001b[39mreturn\u001b[39;00m result\n",
      "File \u001b[0;32m~/.local/lib/python3.10/site-packages/IPython/core/magics/execution.py:1162\u001b[0m, in \u001b[0;36mExecutionMagics.timeit\u001b[0;34m(self, line, cell, local_ns)\u001b[0m\n\u001b[1;32m   1160\u001b[0m \u001b[39mfor\u001b[39;00m index \u001b[39min\u001b[39;00m \u001b[39mrange\u001b[39m(\u001b[39m0\u001b[39m, \u001b[39m10\u001b[39m):\n\u001b[1;32m   1161\u001b[0m     number \u001b[39m=\u001b[39m \u001b[39m10\u001b[39m \u001b[39m*\u001b[39m\u001b[39m*\u001b[39m index\n\u001b[0;32m-> 1162\u001b[0m     time_number \u001b[39m=\u001b[39m timer\u001b[39m.\u001b[39;49mtimeit(number)\n\u001b[1;32m   1163\u001b[0m     \u001b[39mif\u001b[39;00m time_number \u001b[39m>\u001b[39m\u001b[39m=\u001b[39m \u001b[39m0.2\u001b[39m:\n\u001b[1;32m   1164\u001b[0m         \u001b[39mbreak\u001b[39;00m\n",
      "File \u001b[0;32m~/.local/lib/python3.10/site-packages/IPython/core/magics/execution.py:156\u001b[0m, in \u001b[0;36mTimer.timeit\u001b[0;34m(self, number)\u001b[0m\n\u001b[1;32m    154\u001b[0m gc\u001b[39m.\u001b[39mdisable()\n\u001b[1;32m    155\u001b[0m \u001b[39mtry\u001b[39;00m:\n\u001b[0;32m--> 156\u001b[0m     timing \u001b[39m=\u001b[39m \u001b[39mself\u001b[39;49m\u001b[39m.\u001b[39;49minner(it, \u001b[39mself\u001b[39;49m\u001b[39m.\u001b[39;49mtimer)\n\u001b[1;32m    157\u001b[0m \u001b[39mfinally\u001b[39;00m:\n\u001b[1;32m    158\u001b[0m     \u001b[39mif\u001b[39;00m gcold:\n",
      "File \u001b[0;32m<magic-timeit>:1\u001b[0m, in \u001b[0;36minner\u001b[0;34m(_it, _timer)\u001b[0m\n",
      "\u001b[0;31mNameError\u001b[0m: name 'lview' is not defined"
     ]
    }
   ],
   "source": [
    "%timeit lview.map(symulation, par)"
   ]
  },
  {
   "cell_type": "code",
   "execution_count": 27,
   "metadata": {},
   "outputs": [
    {
     "name": "stdout",
     "output_type": "stream",
     "text": [
      "3.28 ms ± 258 µs per loop (mean ± std. dev. of 7 runs, 100 loops each)\n"
     ]
    }
   ],
   "source": [
    "%timeit [symulation(parameters) for i in range(games_to_play)]"
   ]
  },
  {
   "cell_type": "code",
   "execution_count": 28,
   "metadata": {},
   "outputs": [
    {
     "name": "stdout",
     "output_type": "stream",
     "text": [
      "4.19 ms ± 265 µs per loop (mean ± std. dev. of 7 runs, 100 loops each)\n"
     ]
    }
   ],
   "source": [
    "%timeit p.map(symulation, par)"
   ]
  }
 ],
 "metadata": {
  "kernelspec": {
   "display_name": "Python 3.10.6 64-bit",
   "language": "python",
   "name": "python3"
  },
  "language_info": {
   "codemirror_mode": {
    "name": "ipython",
    "version": 3
   },
   "file_extension": ".py",
   "mimetype": "text/x-python",
   "name": "python",
   "nbconvert_exporter": "python",
   "pygments_lexer": "ipython3",
   "version": "3.10.6"
  },
  "orig_nbformat": 4,
  "vscode": {
   "interpreter": {
    "hash": "916dbcbb3f70747c44a77c7bcd40155683ae19c65e1c03b4aa3499c5328201f1"
   }
  }
 },
 "nbformat": 4,
 "nbformat_minor": 2
}
