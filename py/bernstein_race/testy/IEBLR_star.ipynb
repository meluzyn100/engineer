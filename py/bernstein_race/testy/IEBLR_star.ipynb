{
 "cells": [
  {
   "cell_type": "code",
   "execution_count": 4,
   "metadata": {},
   "outputs": [
    {
     "name": "stdout",
     "output_type": "stream",
     "text": [
      "The cython extension is already loaded. To reload it, use:\n",
      "  %reload_ext cython\n"
     ]
    }
   ],
   "source": [
    "%load_ext cython"
   ]
  },
  {
   "cell_type": "code",
   "execution_count": 5,
   "metadata": {},
   "outputs": [],
   "source": [
    "%%cython\n",
    "import numpy as np\n",
    "from mpire import WorkerPool\n",
    "\n",
    "pool = WorkerPool(n_jobs=4)\n",
    "\n",
    "cdef float epsilon, delta, LB, UB, mu, sig\n",
    "cdef int n_max\n",
    "cdef int n, t\n",
    "cdef list X_t\n",
    "\n",
    "epsilon = 0.01\n",
    "delta = 0.05\n",
    "n_max = 213\n",
    "\n",
    "def eB_n(n, sig, delta = 0.05, epsilon = 0.01):\n",
    "    return sig * np.sqrt(2*np.log(3*n_max/delta)/n**2) + 3*np.log(3*n_max/delta)/n**2\n",
    "\n",
    "def ILEBR_star(symulation, p1, p2, delta = 0.05, epsilon = 0.01, n_max = n_max):\n",
    "    LB = 0\n",
    "    UB = 1\n",
    "    t = 1\n",
    "    sumx=0\n",
    "    sumx2=0\n",
    "    for n in range(1, n_max+1):\n",
    "        for i in range(2*n - 1):\n",
    "            Xt = np.random.choice([1, 0],p=[0.1, 0.9])\n",
    "            # Xt= symulation(p1, p2)\n",
    "            t+=1\n",
    "            sumx += Xt\n",
    "            sumx2 += Xt**2\n",
    "            mu = sumx/(t)\n",
    "            sig = np.sqrt(sumx2/t - mu**2)\n",
    "        e_n = eB_n(n, sig)\n",
    "        LB = max(LB, mu - e_n)\n",
    "        UB = min(UB, mu + e_n)\n",
    "        if UB - LB < 2*epsilon:\n",
    "            break\n",
    "        elif UB < 0.5:\n",
    "            break\n",
    "        elif LB > 0.5:\n",
    "            break\n",
    "    if LB > 0.5:\n",
    "        return 1\n",
    "    elif UB < 0.5:\n",
    "        return 0\n",
    "    elif mu > 0.5:\n",
    "        return 1\n",
    "    else:\n",
    "        return 0\n"
   ]
  },
  {
   "cell_type": "code",
   "execution_count": 42,
   "metadata": {
    "tags": []
   },
   "outputs": [],
   "source": [
    "%%cython\n",
    "import numpy as np\n",
    "from mpire import WorkerPool\n",
    "\n",
    "pool = WorkerPool(n_jobs=4)\n",
    "\n",
    "cdef float epsilon, delta, LB, UB, mu, sig\n",
    "cdef int n_max\n",
    "cdef int n, t\n",
    "cdef list X_t\n",
    "\n",
    "epsilon = 0.01\n",
    "delta = 0.05\n",
    "n_max = 213\n",
    "\n",
    "def eB_n(n, sig, delta = 0.05, epsilon = 0.01):\n",
    "    return sig * np.sqrt(2*np.log(3*n_max/delta)/n**2) + 3*np.log(3*n_max/delta)/n**2\n",
    "\n",
    "def ILEBR_star_test(p, delta = 0.05, epsilon = 0.01, n_max = n_max):\n",
    "    np.random.seed()\n",
    "    LB = 0\n",
    "    UB = 1\n",
    "    t = 1\n",
    "    sumx=0\n",
    "    sumx2=0\n",
    "    for n in range(1, n_max+1):\n",
    "        for i in range(2*n - 1):\n",
    "            Xt = np.random.choice([1, 0],p=[p, 1-p])\n",
    "            # Xt= symulation(p1, p2)\n",
    "            t+=1\n",
    "            sumx += Xt\n",
    "            sumx2 += Xt**2\n",
    "            mu = sumx/(t)\n",
    "            sig = np.sqrt(sumx2/t - mu**2)\n",
    "        e_n = eB_n(n, sig)\n",
    "        LB = max(LB, mu - e_n)\n",
    "        UB = min(UB, mu + e_n)\n",
    "        if UB - LB < 2*epsilon:\n",
    "            break\n",
    "        elif UB < 0.5:\n",
    "            break\n",
    "        elif LB > 0.5:\n",
    "            break\n",
    "    if LB > 0.5:\n",
    "        return 1, n**2\n",
    "    elif UB < 0.5:\n",
    "        return 0, n**2\n",
    "    elif mu > 0.5:\n",
    "        return 1, n**2\n",
    "    else:\n",
    "        return 0, n**2\n",
    "\n",
    "\n",
    "# ps1 = np.arange(0.495, 0.5+0.0005, 0.0005)\n",
    "# # ps1 = np.linspace(0.495, 0.5+0.0005,3)\n",
    "\n",
    "# x1_ILEBR2_star = np.array([pool.map(ILEBR_star_test, [p]*100) for p in ps1])\n",
    "\n",
    "# ps2_star = np.arange(0, 0.5+0.05, 0.02)\n",
    "# x2_ILEBR2_star = np.array([pool.map(ILEBR_star_test, [p]*100) for p in ps2_star])\n"
   ]
  },
  {
   "cell_type": "code",
   "execution_count": 67,
   "metadata": {},
   "outputs": [],
   "source": [
    "from mpire import WorkerPool\n",
    "\n",
    "pool = WorkerPool(n_jobs=4)\n",
    "# x = pool.map(ILEBR_star_test, [0.49]*100)\n",
    "x = [ILEBR_star_test(p=0.495, delta = 1, n_max = 171) for i in range(1000)]\n",
    "# print(x)\n",
    "x = np.array(x)\n",
    "t = x[:,1]\n",
    "winer = x[:,0]\n"
   ]
  },
  {
   "cell_type": "code",
   "execution_count": 70,
   "metadata": {},
   "outputs": [
    {
     "data": {
      "text/plain": [
       "0"
      ]
     },
     "execution_count": 70,
     "metadata": {},
     "output_type": "execute_result"
    }
   ],
   "source": [
    "sum(winer)"
   ]
  },
  {
   "cell_type": "code",
   "execution_count": 5,
   "metadata": {},
   "outputs": [
    {
     "data": {
      "text/plain": [
       "211.9999999983712"
      ]
     },
     "execution_count": 5,
     "metadata": {},
     "output_type": "execute_result"
    }
   ],
   "source": [
    "from scipy.stats import binom\n",
    "import numpy as np\n",
    "\n",
    "np.sum(np.array([binom.cdf(n**2*(0.5 + np.sqrt(0.49*(1-0.49))*np.sqrt(2*np.log(3/0.05*213)/n**2) + 3*np.log(3/0.05*213)/n**2), n = n**2, p=0.49) for n in range(1, 213)]))"
   ]
  },
  {
   "cell_type": "code",
   "execution_count": 8,
   "metadata": {},
   "outputs": [
    {
     "data": {
      "text/plain": [
       "1.617001532672191e-09"
      ]
     },
     "execution_count": 8,
     "metadata": {},
     "output_type": "execute_result"
    }
   ],
   "source": [
    "sum(1-np.array([binom.cdf(n**2*(0.5 + np.sqrt(0.5*(1-0.5))*np.sqrt(2*np.log(3/0.05*213)/n**2) + 3*np.log(3/0.05*213)/n**2), n = n**2, p=0.49) for n in range(1, 213)]))"
   ]
  },
  {
   "cell_type": "code",
   "execution_count": 94,
   "metadata": {},
   "outputs": [
    {
     "data": {
      "text/plain": [
       "0.0"
      ]
     },
     "execution_count": 94,
     "metadata": {},
     "output_type": "execute_result"
    }
   ],
   "source": [
    "binom.cdf(1, n = 213**2, p=0.49)"
   ]
  },
  {
   "cell_type": "code",
   "execution_count": 71,
   "metadata": {},
   "outputs": [
    {
     "data": {
      "text/plain": [
       "(28416.217, 29241, 7056, 29241)"
      ]
     },
     "execution_count": 71,
     "metadata": {},
     "output_type": "execute_result"
    }
   ],
   "source": [
    "np.mean(t), np.max(t), np.min(t), 171**2"
   ]
  },
  {
   "cell_type": "code",
   "execution_count": 34,
   "metadata": {},
   "outputs": [
    {
     "data": {
      "text/plain": [
       "0"
      ]
     },
     "execution_count": 34,
     "metadata": {},
     "output_type": "execute_result"
    }
   ],
   "source": [
    "x[:,0]"
   ]
  },
  {
   "cell_type": "code",
   "execution_count": 100,
   "metadata": {},
   "outputs": [],
   "source": [
    "symulation_p_ILEBR2_star = x1_ILEBR2_star[:, :, 0]\n",
    "symulation_n_ILEBR2_star = x2_ILEBR2_star[:, :, 1]"
   ]
  },
  {
   "cell_type": "code",
   "execution_count": 102,
   "metadata": {},
   "outputs": [
    {
     "data": {
      "image/png": "[encoded data removed]",
      "text/plain": [
       "<Figure size 640x480 with 1 Axes>"
      ]
     },
     "metadata": {},
     "output_type": "display_data"
    }
   ],
   "source": [
    "import matplotlib.pyplot as plt\n",
    "import seaborn as sns\n",
    "import pandas as pd\n",
    "import numpy as np\n",
    "\n",
    "sns.set_theme(style=\"darkgrid\")\n",
    "\n",
    "ILEBR2_df_star = pd.DataFrame(symulation_p_ILEBR2_star).T.astype(int)\n",
    "ILEBR2_df_star.columns = ps1\n",
    "ILEBR2_df_star = pd.melt(ILEBR2_df_star)\n",
    "sns.lineplot(data=ILEBR2_df, x=\"variable\", y=\"value\", marker=\"o\")\n",
    "xs = np.linspace(min(ps1), max(ps1),10)\n",
    "plt.xticks(xs,np.round(xs, 3))\n",
    "plt.ylabel(\"power\")\n",
    "plt.xlabel(\"$\\mu$\")\n",
    "plt.show()"
   ]
  },
  {
   "cell_type": "code",
   "execution_count": null,
   "metadata": {},
   "outputs": [],
   "source": []
  },
  {
   "cell_type": "code",
   "execution_count": 104,
   "metadata": {},
   "outputs": [
    {
     "data": {
      "image/png": "[encoded data removed]",
      "text/plain": [
       "<Figure size 640x480 with 1 Axes>"
      ]
     },
     "metadata": {},
     "output_type": "display_data"
    }
   ],
   "source": [
    "sns.set(style=\"darkgrid\")\n",
    "\n",
    "ILEBR2_df_n_df = pd.DataFrame(symulation_n_ILEBR2_star.T)\n",
    "ILEBR2_df_n_df.columns = ps2_star\n",
    "# LEBR_n_df = pd.melt(LEBR_df)\n",
    "ILEBR2_df_n_df = pd.melt(ILEBR2_df_n_df)\n",
    "\n",
    "# sns.boxplot(data=LEBR_n_df, x=\"variable\", y=\"value\", color= \"black\", medianprops={\"color\": \"red\"})\n",
    "sns.lineplot(data=ILEBR2_df_n_df, x=\"variable\", y=\"value\", marker= 'o')\n",
    "xs = np.linspace(min(ps2_star),max(ps2_star),10)\n",
    "plt.xticks(xs, np.round(xs, 3))\n",
    "# xs = np.linspace(min(ps2),max(ps2),len(ps))\n",
    "# plt.xticks(range(len(ps)), np.round(xs, 3))\n",
    "\n",
    "plt.ylabel(\"n\")\n",
    "plt.xlabel(\"$\\mu$\")\n",
    "plt.legend([\"$t=k$\"])\n",
    "# plt.xticks(range(len(ps)),(np.linspace(min(ps2),max(ps2),len(ps)))\n",
    "\n",
    "# df1 = LEBR_df.assign(type = 1)\n",
    "# df2 = (LEBR_df+0.01).assign(type = 2)\n",
    "# df = pd.concat([df1,df2])\n",
    "# df = pd.melt(LEBR_df, id_vars=\"type\")\n",
    "\n",
    "# sns.boxplot(data = df, x=\"variable\", y=\"value\",hue=\"type\")\n",
    "plt.show()"
   ]
  }
 ],
 "metadata": {
  "kernelspec": {
   "display_name": "Python 3.10.6 64-bit",
   "language": "python",
   "name": "python3"
  },
  "language_info": {
   "codemirror_mode": {
    "name": "ipython",
    "version": 3
   },
   "file_extension": ".py",
   "mimetype": "text/x-python",
   "name": "python",
   "nbconvert_exporter": "python",
   "pygments_lexer": "ipython3",
   "version": "3.10.6 (main, Nov 14 2022, 16:10:14) [GCC 11.3.0]"
  },
  "orig_nbformat": 4,
  "vscode": {
   "interpreter": {
    "hash": "916dbcbb3f70747c44a77c7bcd40155683ae19c65e1c03b4aa3499c5328201f1"
   }
  }
 },
 "nbformat": 4,
 "nbformat_minor": 2
}
