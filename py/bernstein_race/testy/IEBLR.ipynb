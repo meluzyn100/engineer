{
 "cells": [
  {
   "cell_type": "code",
   "execution_count": 2,
   "metadata": {},
   "outputs": [],
   "source": [
    "%load_ext cython"
   ]
  },
  {
   "cell_type": "code",
   "execution_count": 11,
   "metadata": {},
   "outputs": [],
   "source": [
    "%%cython\n",
    "import numpy as np\n",
    "from mpire import WorkerPool\n",
    "\n",
    "pool = WorkerPool(n_jobs=5)\n",
    "\n",
    "cdef float epsilon, delta, LB, UB, mu, sig\n",
    "cdef short n_max\n",
    "cdef int n, t\n",
    "cdef list X_t\n",
    "\n",
    "epsilon = 0.01\n",
    "delta = 0.05\n",
    "n_max = 208\n",
    "t0 = 6-1\n",
    "def cB_n(n, sig, delta = 0.05, epsilon = 0.01):\n",
    "    return sig * np.sqrt(2*np.log(3*n_max/delta)/(n+t0)**2) + 3*np.log(3*n_max/delta)/(n+t0)**2\n",
    "# def cB_n(n, sig, delta = 0.05, epsilon = 0.01):\n",
    "    # return sig * np.sqrt(2*np.log(3*n**2*np.pi**2/6/delta)/n**2) + 3*np.log(3*n**2*np.pi**2/6/delta)/n**2\n",
    "\n",
    "def IEBLR(symulation, p1, p2, delta = 0.05, epsilon = 0.01, n_max = 191):\n",
    "    LB = 0\n",
    "    UB = 1\n",
    "    t = 1\n",
    "    X_t = []\n",
    "    for n in range(1, n_max):\n",
    "        X_t.extend(np.random.random(size=2*n - 1)/2)\n",
    "        # X_t.extend(pool.map(symulation, [[p1,p2]]*t))\n",
    "        mu = np.mean(X_t)  \n",
    "        sig = np.std(X_t)\n",
    "        cn = cB_n(n, sig)\n",
    "        LB = max(LB, mu - cn)\n",
    "        UB = min(UB, mu + cn)\n",
    "        if UB - LB < 2*epsilon:\n",
    "            break\n",
    "    return mu"
   ]
  },
  {
   "cell_type": "code",
   "execution_count": 12,
   "metadata": {},
   "outputs": [],
   "source": [
    "%%cython\n",
    "import numpy as np\n",
    "from mpire import WorkerPool\n",
    "\n",
    "\n",
    "cdef float epsilon, delta, LB, UB, mu, sig\n",
    "cdef short n_max\n",
    "cdef int n, t\n",
    "cdef list X_t\n",
    "\n",
    "epsilon = 0.01\n",
    "delta = 0.05\n",
    "n_max = 208\n",
    "t0 = 6-1\n",
    "def cB_n(n, sig, delta = 0.05, epsilon = 0.01):\n",
    "    return sig * np.sqrt(2*np.log(3*n_max/delta)/(n+t0)**2) + 3*np.log(3*n_max/delta)/(n+t0)**2\n",
    "# def cB_n(n, sig, delta = 0.05, epsilon = 0.01):\n",
    "    # return sig * np.sqrt(2*np.log(3*n**2*np.pi**2/6/delta)/n**2) + 3*np.log(3*n**2*np.pi**2/6/delta)/n**2\n",
    "\n",
    "def IEBLR2(symulation, p1, p2, delta = 0.05, epsilon = 0.01, n_max = 191, n_jobs = 4):\n",
    "    LB = 0\n",
    "    UB = 1\n",
    "    t = 1\n",
    "    X_t = []\n",
    "    # with WorkerPool(n_jobs=n_jobs) as pool:\n",
    "    #  pool = WorkerPool(n_jobs=n_jobs)\n",
    "    for n in range(1, n_max):\n",
    "        X_t.extend(np.random.random(size=2*n - 1)/2)\n",
    "            # X_t.extend(pool.map(symulation, [[p1, p2]]*t))\n",
    "        mu = np.mean(X_t)  \n",
    "        sig = np.std(X_t)\n",
    "        cn = cB_n(n, sig)\n",
    "        LB = max(LB, mu - cn)\n",
    "        UB = min(UB, mu + cn)\n",
    "        if UB - LB < 2*epsilon:\n",
    "            break\n",
    "        elif UB < 0.5:\n",
    "            break\n",
    "        elif LB > 0.5:\n",
    "            break\n",
    "    if LB > 0.5:\n",
    "        return 1\n",
    "    elif UB < 0.5:\n",
    "        return 2\n",
    "    elif mu > 0.5:\n",
    "        return 1\n",
    "    else:\n",
    "        return 2"
   ]
  },
  {
   "cell_type": "code",
   "execution_count": 15,
   "metadata": {},
   "outputs": [
    {
     "name": "stdout",
     "output_type": "stream",
     "text": [
      "0.24998819459352878\n"
     ]
    }
   ],
   "source": [
    "x = np.array([IEBLR(1,2,3) for i in range(10)])\n",
    "print(np.mean(x))"
   ]
  },
  {
   "cell_type": "code",
   "execution_count": 6,
   "metadata": {},
   "outputs": [
    {
     "name": "stderr",
     "output_type": "stream",
     "text": [
      "Process ForkWorker-17:\n",
      "Traceback (most recent call last):\n",
      "  File \"/usr/lib/python3.10/multiprocessing/process.py\", line 314, in _bootstrap\n",
      "    self.run()\n",
      "Process ForkWorker-18:\n",
      "  File \"/home/olek/.local/lib/python3.10/site-packages/mpire/worker.py\", line 164, in run\n",
      "    func = self._get_func(additional_args)\n",
      "  File \"/home/olek/.local/lib/python3.10/site-packages/mpire/worker.py\", line 251, in _get_func\n",
      "    partial(self.map_params.func, *additional_args))\n",
      "Traceback (most recent call last):\n",
      "TypeError: the first argument must be callable\n",
      "  File \"/usr/lib/python3.10/multiprocessing/process.py\", line 314, in _bootstrap\n",
      "    self.run()\n",
      "Process ForkWorker-19:\n",
      "  File \"/home/olek/.local/lib/python3.10/site-packages/mpire/worker.py\", line 164, in run\n",
      "    func = self._get_func(additional_args)\n",
      "  File \"/home/olek/.local/lib/python3.10/site-packages/mpire/worker.py\", line 251, in _get_func\n",
      "    partial(self.map_params.func, *additional_args))\n",
      "Traceback (most recent call last):\n",
      "TypeError: the first argument must be callable\n",
      "  File \"/usr/lib/python3.10/multiprocessing/process.py\", line 314, in _bootstrap\n",
      "    self.run()\n",
      "  File \"/home/olek/.local/lib/python3.10/site-packages/mpire/worker.py\", line 164, in run\n",
      "    func = self._get_func(additional_args)\n",
      "Process ForkWorker-20:\n",
      "  File \"/home/olek/.local/lib/python3.10/site-packages/mpire/worker.py\", line 251, in _get_func\n",
      "    partial(self.map_params.func, *additional_args))\n",
      "Traceback (most recent call last):\n",
      "TypeError: the first argument must be callable\n",
      "  File \"/usr/lib/python3.10/multiprocessing/process.py\", line 314, in _bootstrap\n",
      "    self.run()\n",
      "  File \"/home/olek/.local/lib/python3.10/site-packages/mpire/worker.py\", line 164, in run\n",
      "    func = self._get_func(additional_args)\n",
      "Process ForkWorker-21:\n",
      "  File \"/home/olek/.local/lib/python3.10/site-packages/mpire/worker.py\", line 251, in _get_func\n",
      "    partial(self.map_params.func, *additional_args))\n",
      "TypeError: the first argument must be callable\n",
      "Traceback (most recent call last):\n",
      "  File \"/usr/lib/python3.10/multiprocessing/process.py\", line 314, in _bootstrap\n",
      "    self.run()\n",
      "  File \"/home/olek/.local/lib/python3.10/site-packages/mpire/worker.py\", line 164, in run\n",
      "    func = self._get_func(additional_args)\n",
      "  File \"/home/olek/.local/lib/python3.10/site-packages/mpire/worker.py\", line 251, in _get_func\n",
      "    partial(self.map_params.func, *additional_args))\n",
      "TypeError: the first argument must be callable\n"
     ]
    },
    {
     "ename": "KeyboardInterrupt",
     "evalue": "",
     "output_type": "error",
     "traceback": [
      "\u001b[0;31m---------------------------------------------------------------------------\u001b[0m",
      "\u001b[0;31mException\u001b[0m                                 Traceback (most recent call last)",
      "\u001b[0;31mException\u001b[0m: \n",
      "\nThe above exception was the direct cause of the following exception:\n",
      "\u001b[0;31mKeyboardInterrupt\u001b[0m                         Traceback (most recent call last)",
      "Cell \u001b[0;32mIn [6], line 1\u001b[0m\n\u001b[0;32m----> 1\u001b[0m IEBLR(\u001b[39m1\u001b[39;49m,\u001b[39m2\u001b[39;49m,\u001b[39m3\u001b[39;49m)\n",
      "File \u001b[0;32m_cython_magic_65de9cf0500975c224109baf87e73592.pyx:27\u001b[0m, in \u001b[0;36m_cython_magic_65de9cf0500975c224109baf87e73592.IEBLR\u001b[0;34m()\u001b[0m\n",
      "File \u001b[0;32m~/.local/lib/python3.10/site-packages/mpire/pool.py:370\u001b[0m, in \u001b[0;36mWorkerPool.map\u001b[0;34m(self, func, iterable_of_args, iterable_len, max_tasks_active, chunk_size, n_splits, worker_lifespan, progress_bar, progress_bar_position, concatenate_numpy_output, worker_init, worker_exit, task_timeout, worker_init_timeout, worker_exit_timeout, progress_bar_options)\u001b[0m\n\u001b[1;32m    368\u001b[0m \u001b[39mif\u001b[39;00m iterable_len \u001b[39mis\u001b[39;00m \u001b[39mNone\u001b[39;00m \u001b[39mand\u001b[39;00m \u001b[39mhasattr\u001b[39m(iterable_of_args, \u001b[39m'\u001b[39m\u001b[39m__len__\u001b[39m\u001b[39m'\u001b[39m):\n\u001b[1;32m    369\u001b[0m     iterable_len \u001b[39m=\u001b[39m \u001b[39mlen\u001b[39m(iterable_of_args)\n\u001b[0;32m--> 370\u001b[0m results \u001b[39m=\u001b[39m \u001b[39mself\u001b[39;49m\u001b[39m.\u001b[39;49mmap_unordered(func, ((args_idx, args) \u001b[39mfor\u001b[39;49;00m args_idx, args \u001b[39min\u001b[39;49;00m \u001b[39menumerate\u001b[39;49m(iterable_of_args)),\n\u001b[1;32m    371\u001b[0m                              iterable_len, max_tasks_active, chunk_size, n_splits, worker_lifespan,\n\u001b[1;32m    372\u001b[0m                              progress_bar, progress_bar_position, worker_init, worker_exit, task_timeout,\n\u001b[1;32m    373\u001b[0m                              worker_init_timeout, worker_exit_timeout, progress_bar_options)\n\u001b[1;32m    375\u001b[0m \u001b[39m# Notify workers to forget about order\u001b[39;00m\n\u001b[1;32m    376\u001b[0m \u001b[39mself\u001b[39m\u001b[39m.\u001b[39m_worker_comms\u001b[39m.\u001b[39mclear_keep_order()\n",
      "File \u001b[0;32m~/.local/lib/python3.10/site-packages/mpire/pool.py:439\u001b[0m, in \u001b[0;36mWorkerPool.map_unordered\u001b[0;34m(self, func, iterable_of_args, iterable_len, max_tasks_active, chunk_size, n_splits, worker_lifespan, progress_bar, progress_bar_position, worker_init, worker_exit, task_timeout, worker_init_timeout, worker_exit_timeout, progress_bar_options)\u001b[0m\n\u001b[1;32m    393\u001b[0m \u001b[39m\"\"\"\u001b[39;00m\n\u001b[1;32m    394\u001b[0m \u001b[39mSame as ``multiprocessing.map()``, but unordered. Also allows a user to set the maximum number of tasks\u001b[39;00m\n\u001b[1;32m    395\u001b[0m \u001b[39mavailable in the queue.\u001b[39;00m\n\u001b[0;32m   (...)\u001b[0m\n\u001b[1;32m    436\u001b[0m \u001b[39m:return: List with unordered results\u001b[39;00m\n\u001b[1;32m    437\u001b[0m \u001b[39m\"\"\"\u001b[39;00m\n\u001b[1;32m    438\u001b[0m \u001b[39m# Simply call imap and cast it to a list. This make sure all elements are there before returning\u001b[39;00m\n\u001b[0;32m--> 439\u001b[0m \u001b[39mreturn\u001b[39;00m \u001b[39mlist\u001b[39;49m(\u001b[39mself\u001b[39;49m\u001b[39m.\u001b[39;49mimap_unordered(func, iterable_of_args, iterable_len, max_tasks_active, chunk_size,\n\u001b[1;32m    440\u001b[0m                                 n_splits, worker_lifespan, progress_bar, progress_bar_position, worker_init,\n\u001b[1;32m    441\u001b[0m                                 worker_exit, task_timeout, worker_init_timeout, worker_exit_timeout,\n\u001b[1;32m    442\u001b[0m                                 progress_bar_options))\n",
      "File \u001b[0;32m~/.local/lib/python3.10/site-packages/mpire/pool.py:693\u001b[0m, in \u001b[0;36mWorkerPool.imap_unordered\u001b[0;34m(self, func, iterable_of_args, iterable_len, max_tasks_active, chunk_size, n_splits, worker_lifespan, progress_bar, progress_bar_position, worker_init, worker_exit, task_timeout, worker_init_timeout, worker_exit_timeout, progress_bar_options)\u001b[0m\n\u001b[1;32m    690\u001b[0m         \u001b[39mself\u001b[39m\u001b[39m.\u001b[39mstop_and_join(progress_bar_handler, keep_alive\u001b[39m=\u001b[39m\u001b[39mself\u001b[39m\u001b[39m.\u001b[39mpool_params\u001b[39m.\u001b[39mkeep_alive)\n\u001b[1;32m    692\u001b[0m     \u001b[39mexcept\u001b[39;00m \u001b[39mKeyboardInterrupt\u001b[39;00m:\n\u001b[0;32m--> 693\u001b[0m         \u001b[39mself\u001b[39;49m\u001b[39m.\u001b[39;49m_handle_exception(progress_bar_handler)\n\u001b[1;32m    695\u001b[0m \u001b[39m# Join exception queue, if it hasn't already\u001b[39;00m\n\u001b[1;32m    696\u001b[0m logger\u001b[39m.\u001b[39mdebug(\u001b[39m\"\u001b[39m\u001b[39mJoining exception queue\u001b[39m\u001b[39m\"\u001b[39m)\n",
      "File \u001b[0;32m~/.local/lib/python3.10/site-packages/mpire/pool.py:756\u001b[0m, in \u001b[0;36mWorkerPool._handle_exception\u001b[0;34m(self, progress_bar_handler)\u001b[0m\n\u001b[1;32m    754\u001b[0m traceback_err \u001b[39m=\u001b[39m \u001b[39mException\u001b[39;00m(highlight_traceback(traceback_str))\n\u001b[1;32m    755\u001b[0m logger\u001b[39m.\u001b[39mdebug(\u001b[39m\"\u001b[39m\u001b[39mRe-raising obtained exception\u001b[39m\u001b[39m\"\u001b[39m)\n\u001b[0;32m--> 756\u001b[0m \u001b[39mraise\u001b[39;00m err \u001b[39mfrom\u001b[39;00m \u001b[39mtraceback_err\u001b[39;00m\n",
      "\u001b[0;31mKeyboardInterrupt\u001b[0m: "
     ]
    }
   ],
   "source": [
    "IEBLR(1,2,3)"
   ]
  }
 ],
 "metadata": {
  "kernelspec": {
   "display_name": "Python 3.10.6 64-bit",
   "language": "python",
   "name": "python3"
  },
  "language_info": {
   "codemirror_mode": {
    "name": "ipython",
    "version": 3
   },
   "file_extension": ".py",
   "mimetype": "text/x-python",
   "name": "python",
   "nbconvert_exporter": "python",
   "pygments_lexer": "ipython3",
   "version": "3.10.6"
  },
  "orig_nbformat": 4,
  "vscode": {
   "interpreter": {
    "hash": "31f2aee4e71d21fbe5cf8b01ff0e069b9275f58929596ceb00d14d90e3e16cd6"
   }
  }
 },
 "nbformat": 4,
 "nbformat_minor": 2
}
