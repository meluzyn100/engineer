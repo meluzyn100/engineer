{
 "cells": [
  {
   "cell_type": "code",
   "execution_count": 5,
   "metadata": {},
   "outputs": [],
   "source": [
    "from ILEBR_star_all.ILEBR_star_all import ILEBR_star_all\n",
    "from mpire import WorkerPool\n",
    "import sys\n",
    "sys.path.append(\"../..\")\n",
    "from games.war3par.war import symulation"
   ]
  },
  {
   "cell_type": "code",
   "execution_count": 7,
   "metadata": {},
   "outputs": [
    {
     "name": "stdout",
     "output_type": "stream",
     "text": [
      "(0, 576)\n"
     ]
    }
   ],
   "source": [
    "with WorkerPool(n_jobs = 4) as pool:\n",
    "    print(ILEBR_star_all(symulation,[0,1,0],[[0,0,1],[1,0,0]],pool))\n",
    "    # pool.map(symulation, [[[0,1,0],[0,0,1]]])"
   ]
  },
  {
   "cell_type": "code",
   "execution_count": 19,
   "metadata": {},
   "outputs": [
    {
     "data": {
      "text/plain": [
       "array([[0.6239125 , 0.6239125 , 0.6239125 ],\n",
       "       [0.22952458, 0.22952458, 0.22952458],\n",
       "       [0.08443737, 0.08443737, 0.08443737],\n",
       "       [0.03106277, 0.03106277, 0.03106277]])"
      ]
     },
     "execution_count": 19,
     "metadata": {},
     "output_type": "execute_result"
    }
   ],
   "source": [
    "import numpy as np\n",
    "x = [[3,3,3],[2,2,2,],[1,1,1],[0,0,0]]\n",
    "x = np.exp(x)\n",
    "x = x/sum(x,1)\n",
    "x"
   ]
  }
 ],
 "metadata": {
  "kernelspec": {
   "display_name": "Python 3",
   "language": "python",
   "name": "python3"
  },
  "language_info": {
   "codemirror_mode": {
    "name": "ipython",
    "version": 3
   },
   "file_extension": ".py",
   "mimetype": "text/x-python",
   "name": "python",
   "nbconvert_exporter": "python",
   "pygments_lexer": "ipython3",
   "version": "3.10.6"
  },
  "orig_nbformat": 4,
  "vscode": {
   "interpreter": {
    "hash": "31f2aee4e71d21fbe5cf8b01ff0e069b9275f58929596ceb00d14d90e3e16cd6"
   }
  }
 },
 "nbformat": 4,
 "nbformat_minor": 2
}
