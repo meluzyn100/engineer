{
 "cells": [
  {
   "cell_type": "code",
   "execution_count": 2,
   "metadata": {},
   "outputs": [],
   "source": [
    "import sys\n",
    "sys.path.append(\"../../..\")\n",
    "from games.rrrats.rrrats import symulation\n",
    "import numpy as np"
   ]
  },
  {
   "cell_type": "code",
   "execution_count": 11,
   "metadata": {},
   "outputs": [],
   "source": [
    "# file0 =  open(\"x_itteration_rrrats\", \"w+\")\n",
    "# file1 =  open(\"x_coev_rrrats\", \"w+\")\n",
    "file2 =  open(\"x_aprox_coev_rrrats\", \"w+\")\n",
    "# file3 =  open(\"x_aprox_coev_2_rrrats\", \"w+\")\n",
    "\n",
    "# x0 = np.random.normal(size = 6)\n",
    "# x1 = np.random.normal(size = 6)\n",
    "# x2 = np.random.normal(size = 6)\n",
    "# x3 = np.random.normal(size = 6)\n",
    "\n",
    "x0 = [0, 0, 0, 0, 0, 0]\n",
    "x1 = [0, 0, 0, 0, 0, 0]\n",
    "x2 = [0, 0, 0, 0, 0, 0]\n",
    "x3 = [0, 0, 0, 0, 0, 0]\n",
    "for i in range(1000000):\n",
    "    # file0.write(str(symulation(x0, [434.0503540595365, -480.8016186169829, 77.08063361834101, -0.36579298195647425, -205.92791206919406, 208.56060758020175]))+\",\")\n",
    "    # file1.write(str(symulation(x1, [ -2.12737386,  -6.32759945, -15.51990319, -20.24871649, -5.35415929,  -4.77582695]))+\",\")\n",
    "    file2.write(str(symulation(x2, [32.82931113, -114.13133596,  453.63195904,   96.32289166, 92.46192604,  563.30676932]))+\",\")\n",
    "    # file3.write(str(symulation(x3, [ -2.12592171, -39.12762391,  14.43082267, -11.05705534, 14.18533282, -64.26992796]))+\",\")\n",
    "# file0.close()\n",
    "# file1.close()\n",
    "file2.close()\n",
    "# file3.close()"
   ]
  }
 ],
 "metadata": {
  "kernelspec": {
   "display_name": "Python 3",
   "language": "python",
   "name": "python3"
  },
  "language_info": {
   "codemirror_mode": {
    "name": "ipython",
    "version": 3
   },
   "file_extension": ".py",
   "mimetype": "text/x-python",
   "name": "python",
   "nbconvert_exporter": "python",
   "pygments_lexer": "ipython3",
   "version": "3.10.6"
  },
  "orig_nbformat": 4,
  "vscode": {
   "interpreter": {
    "hash": "31f2aee4e71d21fbe5cf8b01ff0e069b9275f58929596ceb00d14d90e3e16cd6"
   }
  }
 },
 "nbformat": 4,
 "nbformat_minor": 2
}
