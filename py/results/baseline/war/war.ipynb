{
 "cells": [
  {
   "cell_type": "code",
   "execution_count": 1,
   "metadata": {},
   "outputs": [],
   "source": [
    "import sys\n",
    "sys.path.append(\"../../..\")\n",
    "from games.war3par.war import symulation\n",
    "import numpy as np"
   ]
  },
  {
   "cell_type": "code",
   "execution_count": 3,
   "metadata": {},
   "outputs": [
    {
     "name": "stdout",
     "output_type": "stream",
     "text": [
      "[-0.50456258, 0.15, 0.3]\n"
     ]
    }
   ],
   "source": [
    "# file0 =  open(\"x_itteration_war\", \"w+\")\n",
    "# file1 =  open(\"x_coev_war\", \"w+\")\n",
    "file2 =  open(\"x_aprox_coev_war\", \"w+\")\n",
    "# file3 =  open(\"x_aprox_coev_2_war\", \"w+\")\n",
    "\n",
    "# x0 = np.random.normal(size = 3)\n",
    "# x1 = np.random.normal(size = 3)\n",
    "# x2 = np.random.normal(size = 3)\n",
    "x2 = [-0.50456258,  0.15, 0.3 ]\n",
    "print(x3)\n",
    "for i in range(1000000):\n",
    "    # file0.write(str(symulation(x0, [0,1,0]))+\",\")\n",
    "    # file1.write(str(symulation(x1, [0,1,0]))+\",\")\n",
    "    file2.write(str(symulation(x2, [0,1,0]))+\",\")\n",
    "    # file3.write(str(symulation(x3, [0,1,0]))+\",\")\n",
    "# file0.close()\n",
    "# file1.close()\n",
    "file2.close()\n",
    "# file3.close()"
   ]
  },
  {
   "cell_type": "code",
   "execution_count": null,
   "metadata": {},
   "outputs": [],
   "source": []
  }
 ],
 "metadata": {
  "kernelspec": {
   "display_name": "Python 3",
   "language": "python",
   "name": "python3"
  },
  "language_info": {
   "codemirror_mode": {
    "name": "ipython",
    "version": 3
   },
   "file_extension": ".py",
   "mimetype": "text/x-python",
   "name": "python",
   "nbconvert_exporter": "python",
   "pygments_lexer": "ipython3",
   "version": "3.10.6"
  },
  "orig_nbformat": 4,
  "vscode": {
   "interpreter": {
    "hash": "31f2aee4e71d21fbe5cf8b01ff0e069b9275f58929596ceb00d14d90e3e16cd6"
   }
  }
 },
 "nbformat": 4,
 "nbformat_minor": 2
}
