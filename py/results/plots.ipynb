{
 "cells": [
  {
   "cell_type": "code",
   "execution_count": 1,
   "metadata": {},
   "outputs": [],
   "source": [
    "import matplotlib.pyplot as plt\n",
    "import seaborn as sns\n",
    "import numpy as np\n",
    "import pandas as pd\n",
    "sns.set_theme(style=\"darkgrid\")\n"
   ]
  },
  {
   "attachments": {},
   "cell_type": "markdown",
   "metadata": {},
   "source": [
    "# war"
   ]
  },
  {
   "attachments": {},
   "cell_type": "markdown",
   "metadata": {},
   "source": [
    "## baseline"
   ]
  },
  {
   "cell_type": "code",
   "execution_count": 2,
   "metadata": {},
   "outputs": [],
   "source": [
    "# np.loadtxt(\"baseline/war/x_itteration_war\")\n",
    "file_names = [\"x_itteration_war\",\"x_coev_war\", \"x_aprox_coev_war\",\"x_aprox_coev_2_war\"]\n",
    "results = {}\n",
    "for file_name in file_names: \n",
    "    with open(F\"baseline/war/{file_name}\", \"r\") as file:\n",
    "        X_t = file.readline()\n",
    "    X_t = np.array(X_t.split(\",\")[:-1], dtype=int)\n",
    "    X_t = -1*X_t+1\n",
    "    X_t = X_t.reshape((10000,100))\n",
    "    results[file_name] = X_t"
   ]
  },
  {
   "cell_type": "code",
   "execution_count": 3,
   "metadata": {},
   "outputs": [
    {
     "name": "stdout",
     "output_type": "stream",
     "text": [
      "0.541617 0.005594659149581857\n",
      "0.545225 0.005131673703578586\n",
      "0.530655 0.004875005128202439\n",
      "0.5287499999999999 0.0052181126856364465\n"
     ]
    }
   ],
   "source": [
    "\n",
    "for file_name in file_names: \n",
    "    print(np.mean(np.mean(results[file_name], 0)), np.std(np.mean(results[file_name], 0)))"
   ]
  },
  {
   "cell_type": "code",
   "execution_count": 4,
   "metadata": {},
   "outputs": [],
   "source": [
    "p_results = {file_name:np.mean(results[file_name], 0) for file_name in file_names }"
   ]
  },
  {
   "cell_type": "code",
   "execution_count": 5,
   "metadata": {},
   "outputs": [
    {
     "data": {
      "text/html": [
       "<div>\n",
       "<style scoped>\n",
       "    .dataframe tbody tr th:only-of-type {\n",
       "        vertical-align: middle;\n",
       "    }\n",
       "\n",
       "    .dataframe tbody tr th {\n",
       "        vertical-align: top;\n",
       "    }\n",
       "\n",
       "    .dataframe thead th {\n",
       "        text-align: right;\n",
       "    }\n",
       "</style>\n",
       "<table border=\"1\" class=\"dataframe\">\n",
       "  <thead>\n",
       "    <tr style=\"text-align: right;\">\n",
       "      <th></th>\n",
       "      <th>variable</th>\n",
       "      <th>value</th>\n",
       "    </tr>\n",
       "  </thead>\n",
       "  <tbody>\n",
       "    <tr>\n",
       "      <th>0</th>\n",
       "      <td>iterawtive</td>\n",
       "      <td>0.5398</td>\n",
       "    </tr>\n",
       "    <tr>\n",
       "      <th>1</th>\n",
       "      <td>iterawtive</td>\n",
       "      <td>0.5325</td>\n",
       "    </tr>\n",
       "    <tr>\n",
       "      <th>2</th>\n",
       "      <td>iterawtive</td>\n",
       "      <td>0.5472</td>\n",
       "    </tr>\n",
       "    <tr>\n",
       "      <th>3</th>\n",
       "      <td>iterawtive</td>\n",
       "      <td>0.5495</td>\n",
       "    </tr>\n",
       "    <tr>\n",
       "      <th>4</th>\n",
       "      <td>iterawtive</td>\n",
       "      <td>0.5425</td>\n",
       "    </tr>\n",
       "  </tbody>\n",
       "</table>\n",
       "</div>"
      ],
      "text/plain": [
       "     variable   value\n",
       "0  iterawtive  0.5398\n",
       "1  iterawtive  0.5325\n",
       "2  iterawtive  0.5472\n",
       "3  iterawtive  0.5495\n",
       "4  iterawtive  0.5425"
      ]
     },
     "execution_count": 5,
     "metadata": {},
     "output_type": "execute_result"
    }
   ],
   "source": [
    "df = pd.DataFrame.from_dict(p_results)\n",
    "df.columns  = [\"iterawtive\", \"coevolution\", \"approx\\ncoevolution\", \"approx\\ncoevolution 2\"]\n",
    "melt_df = df.melt()\n",
    "melt_df.head()"
   ]
  },
  {
   "cell_type": "code",
   "execution_count": 6,
   "metadata": {},
   "outputs": [
    {
     "name": "stdout",
     "output_type": "stream",
     "text": [
      "\\begin{tabular}{lrrrr}\n",
      "\\toprule\n",
      "{} &  iterawtive &  coevolution &  approx\\textbackslash ncoevolution &  approx\\textbackslash ncoevolution 2 \\\\\n",
      "\\midrule\n",
      "count &  100.000000 &   100.000000 &           100.000000 &             100.000000 \\\\\n",
      "mean  &    0.541617 &     0.545225 &             0.530655 &               0.528750 \\\\\n",
      "std   &    0.005623 &     0.005158 &             0.004900 &               0.005244 \\\\\n",
      "min   &    0.525300 &     0.532900 &             0.517400 &               0.514000 \\\\\n",
      "25\\%   &    0.538300 &     0.541100 &             0.527600 &               0.525800 \\\\\n",
      "50\\%   &    0.540600 &     0.544600 &             0.530600 &               0.529200 \\\\\n",
      "75\\%   &    0.545575 &     0.548800 &             0.534700 &               0.532500 \\\\\n",
      "max   &    0.556100 &     0.556700 &             0.542200 &               0.540100 \\\\\n",
      "\\bottomrule\n",
      "\\end{tabular}\n",
      "\n"
     ]
    },
    {
     "name": "stderr",
     "output_type": "stream",
     "text": [
      "/tmp/ipykernel_289312/707640075.py:1: FutureWarning: In future versions `DataFrame.to_latex` is expected to utilise the base implementation of `Styler.to_latex` for formatting and rendering. The arguments signature may therefore change. It is recommended instead to use `DataFrame.style.to_latex` which also contains additional functionality.\n",
      "  print(df.describe().to_latex())\n"
     ]
    }
   ],
   "source": [
    "print(df.describe().to_latex())"
   ]
  },
  {
   "cell_type": "code",
   "execution_count": 7,
   "metadata": {},
   "outputs": [],
   "source": [
    "ps = [np.mean(results[file_name], 0) for file_name in file_names]"
   ]
  },
  {
   "cell_type": "code",
   "execution_count": 8,
   "metadata": {},
   "outputs": [
    {
     "data": {
      "image/png": "[encoded data removed]",
      "text/plain": [
       "<Figure size 640x480 with 1 Axes>"
      ]
     },
     "metadata": {},
     "output_type": "display_data"
    }
   ],
   "source": [
    "\n",
    "sns.boxplot(melt_df, x = \"variable\", y =\"value\", palette=\"Blues\")\n",
    "plt.xlabel(\"methods\")\n",
    "plt.ylabel(\"score against baseline\")\n",
    "plt.savefig(\"war_results.pdf\",transparent=True)\n",
    "plt.show()"
   ]
  },
  {
   "attachments": {},
   "cell_type": "markdown",
   "metadata": {},
   "source": [
    "# Rrrats!"
   ]
  },
  {
   "cell_type": "code",
   "execution_count": 9,
   "metadata": {},
   "outputs": [],
   "source": [
    "# np.loadtxt(\"baseline/war/x_itteration_war\")\n",
    "file_names = [\"x_itteration_rrrats\",\"x_coev_rrrats\", \"x_aprox_coev_rrrats\",\"x_aprox_coev_2_rrrats\"]\n",
    "results = {}\n",
    "for file_name in file_names: \n",
    "    with open(F\"baseline/rrrats/{file_name}\", \"r\") as file:\n",
    "        X_t = file.readline()\n",
    "    X_t = np.array(X_t.split(\",\")[:-1], dtype=int)\n",
    "    X_t = -1*X_t+1\n",
    "    X_t = X_t.reshape((10000,100))\n",
    "    results[file_name] = X_t"
   ]
  },
  {
   "cell_type": "code",
   "execution_count": 10,
   "metadata": {},
   "outputs": [
    {
     "data": {
      "text/html": [
       "<div>\n",
       "<style scoped>\n",
       "    .dataframe tbody tr th:only-of-type {\n",
       "        vertical-align: middle;\n",
       "    }\n",
       "\n",
       "    .dataframe tbody tr th {\n",
       "        vertical-align: top;\n",
       "    }\n",
       "\n",
       "    .dataframe thead th {\n",
       "        text-align: right;\n",
       "    }\n",
       "</style>\n",
       "<table border=\"1\" class=\"dataframe\">\n",
       "  <thead>\n",
       "    <tr style=\"text-align: right;\">\n",
       "      <th></th>\n",
       "      <th>variable</th>\n",
       "      <th>value</th>\n",
       "    </tr>\n",
       "  </thead>\n",
       "  <tbody>\n",
       "    <tr>\n",
       "      <th>0</th>\n",
       "      <td>iterawtive</td>\n",
       "      <td>0.7809</td>\n",
       "    </tr>\n",
       "    <tr>\n",
       "      <th>1</th>\n",
       "      <td>iterawtive</td>\n",
       "      <td>0.7880</td>\n",
       "    </tr>\n",
       "    <tr>\n",
       "      <th>2</th>\n",
       "      <td>iterawtive</td>\n",
       "      <td>0.7908</td>\n",
       "    </tr>\n",
       "    <tr>\n",
       "      <th>3</th>\n",
       "      <td>iterawtive</td>\n",
       "      <td>0.7883</td>\n",
       "    </tr>\n",
       "    <tr>\n",
       "      <th>4</th>\n",
       "      <td>iterawtive</td>\n",
       "      <td>0.7866</td>\n",
       "    </tr>\n",
       "  </tbody>\n",
       "</table>\n",
       "</div>"
      ],
      "text/plain": [
       "     variable   value\n",
       "0  iterawtive  0.7809\n",
       "1  iterawtive  0.7880\n",
       "2  iterawtive  0.7908\n",
       "3  iterawtive  0.7883\n",
       "4  iterawtive  0.7866"
      ]
     },
     "execution_count": 10,
     "metadata": {},
     "output_type": "execute_result"
    }
   ],
   "source": [
    "p_results = {file_name:np.mean(results[file_name], 0) for file_name in file_names }\n",
    "df = pd.DataFrame.from_dict(p_results)\n",
    "df.columns  = [\"iterawtive\", \"coevolution\", \"approx\\ncoevolution\", \"approx\\ncoevolution 2\"]\n",
    "melt_df = df.melt()\n",
    "melt_df.head()"
   ]
  },
  {
   "cell_type": "code",
   "execution_count": 11,
   "metadata": {},
   "outputs": [
    {
     "name": "stdout",
     "output_type": "stream",
     "text": [
      "\\begin{tabular}{lrrrr}\n",
      "\\toprule\n",
      "{} &  iterawtive &  coevolution &  approx\\textbackslash ncoevolution &  approx\\textbackslash ncoevolution 2 \\\\\n",
      "\\midrule\n",
      "count &  100.000000 &   100.000000 &           100.000000 &             100.000000 \\\\\n",
      "mean  &    0.786629 &     0.780805 &             0.787310 &               0.759073 \\\\\n",
      "std   &    0.003581 &     0.004265 &             0.003586 &               0.004170 \\\\\n",
      "min   &    0.778600 &     0.768400 &             0.778500 &               0.748300 \\\\\n",
      "25\\%   &    0.784550 &     0.777925 &             0.785575 &               0.756525 \\\\\n",
      "50\\%   &    0.786600 &     0.780700 &             0.787350 &               0.758700 \\\\\n",
      "75\\%   &    0.788800 &     0.783300 &             0.789125 &               0.761500 \\\\\n",
      "max   &    0.798400 &     0.789700 &             0.796700 &               0.772200 \\\\\n",
      "\\bottomrule\n",
      "\\end{tabular}\n",
      "\n"
     ]
    },
    {
     "name": "stderr",
     "output_type": "stream",
     "text": [
      "/tmp/ipykernel_289312/707640075.py:1: FutureWarning: In future versions `DataFrame.to_latex` is expected to utilise the base implementation of `Styler.to_latex` for formatting and rendering. The arguments signature may therefore change. It is recommended instead to use `DataFrame.style.to_latex` which also contains additional functionality.\n",
      "  print(df.describe().to_latex())\n"
     ]
    }
   ],
   "source": [
    "print(df.describe().to_latex())"
   ]
  },
  {
   "cell_type": "code",
   "execution_count": 12,
   "metadata": {},
   "outputs": [],
   "source": [
    "ps = [np.mean(results[file_name], 0) for file_name in file_names]"
   ]
  },
  {
   "cell_type": "code",
   "execution_count": 13,
   "metadata": {},
   "outputs": [
    {
     "data": {
      "image/png": "[encoded data removed]",
      "text/plain": [
       "<Figure size 640x480 with 1 Axes>"
      ]
     },
     "metadata": {},
     "output_type": "display_data"
    }
   ],
   "source": [
    "\n",
    "sns.boxplot(melt_df, x = \"variable\", y =\"value\", palette=\"Blues\")\n",
    "plt.xlabel(\"methods\")\n",
    "plt.ylabel(\"score against baseline\")\n",
    "plt.savefig(\"rrrats_results.pdf\",transparent=True)\n",
    "plt.show()"
   ]
  },
  {
   "cell_type": "code",
   "execution_count": null,
   "metadata": {},
   "outputs": [],
   "source": []
  }
 ],
 "metadata": {
  "kernelspec": {
   "display_name": "Python 3",
   "language": "python",
   "name": "python3"
  },
  "language_info": {
   "codemirror_mode": {
    "name": "ipython",
    "version": 3
   },
   "file_extension": ".py",
   "mimetype": "text/x-python",
   "name": "python",
   "nbconvert_exporter": "python",
   "pygments_lexer": "ipython3",
   "version": "3.10.6"
  },
  "orig_nbformat": 4,
  "vscode": {
   "interpreter": {
    "hash": "31f2aee4e71d21fbe5cf8b01ff0e069b9275f58929596ceb00d14d90e3e16cd6"
   }
  }
 },
 "nbformat": 4,
 "nbformat_minor": 2
}
