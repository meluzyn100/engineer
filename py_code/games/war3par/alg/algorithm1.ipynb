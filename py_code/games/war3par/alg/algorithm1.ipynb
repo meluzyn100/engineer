{
 "cells": [
  {
   "cell_type": "code",
   "execution_count": 49,
   "metadata": {},
   "outputs": [],
   "source": [
    "import imp\n",
    "import numpy as np\n",
    "import random \n",
    "import math\n",
    "from numba import jit, njit"
   ]
  },
  {
   "cell_type": "code",
   "execution_count": 33,
   "metadata": {},
   "outputs": [],
   "source": [
    "sigma = 1\n",
    "epsilon = 0.01\n",
    "delta = 0.05\n",
    "p = 0.1\n",
    "number_of_parameters = 3 #war 3\n",
    "x = np.random.normal(size=number_of_parameters)\n",
    "max_n = math.ceil(np.log(2/delta)/(2*epsilon**2)) #from Hoeffding Bounds\n",
    "def simulation(x):\n",
    "    return np.random.choice([0, 1], p=[1-p, p])\n"
   ]
  },
  {
   "cell_type": "code",
   "execution_count": 36,
   "metadata": {},
   "outputs": [
    {
     "name": "stdout",
     "output_type": "stream",
     "text": [
      "mu: 0.091, ct: 0.03830917776689647, t: 1000\n",
      "mu: 0.092, ct: 0.024635439286930277, t: 2000\n",
      "mu: 0.09533333333333334, ct: 0.019437449242428805, t: 3000\n",
      "mu: 0.09925, ct: 0.016599100906868513, t: 4000\n",
      "mu: 0.098, ct: 0.014488625386291292, t: 5000\n",
      "mu: 0.09966666666666667, ct: 0.01311361902274441, t: 6000\n",
      "mu: 0.09971428571428571, ct: 0.01200243419090809, t: 7000\n",
      "mu: 0.1005, ct: 0.011154731122978117, t: 8000\n",
      "mu: 0.09988888888888889, ct: 0.010409448682649005, t: 9000\n",
      "0.1000516795865633 111111111111111111\n",
      "mu: 0.1000516795865633, ct: 0.009999331805625565, t: 9675\n"
     ]
    }
   ],
   "source": [
    "while 1:\n",
    "    x = x + sigma * np.random.normal(size=number_of_parameters) \n",
    "    Xt = np.zeros(max_n)\n",
    "    ct = np.zeros(max_n)\n",
    "    mt = np.zeros(max_n)\n",
    "    UB = np.Inf\n",
    "    LB = 0\n",
    "    for i in range(max_n):\n",
    "        t = i + 1\n",
    "        Xt[i] = simulation(x)\n",
    "        Xi = Xt[:t]\n",
    "        mt = np.mean(Xi)\n",
    "        sig = np.sqrt( np.sum( (Xi - mt)**2 ) / t )\n",
    "        ct = sig*np.sqrt(2*np.log(3/delta)/t) + 3*np.log(3/delta)/t\n",
    "        LB = max(LB, mt - ct)\n",
    "        UB = min(UB, mt + ct)\n",
    "        if (1 + epsilon)*LB > (1-epsilon)*UB:\n",
    "            mt = 1/2*((1+epsilon)*LB + (1-epsilon)*UB)\n",
    "            print(mt,2222222222222222222)\n",
    "            break\n",
    "        elif ct < epsilon:\n",
    "            mt = mt\n",
    "            print(mt,111111111111111111)\n",
    "            break\n",
    "        if t % 1000 == 0:\n",
    "            print(f\"mu: {mt}, ct: {ct}, t: {t}\")\n",
    "    break\n",
    "print(f\"mu: {mt}, ct: {ct}, t: {t}\")"
   ]
  },
  {
   "cell_type": "code",
   "execution_count": 87,
   "metadata": {},
   "outputs": [],
   "source": [
    "def limited_EBStop(plat_game, x, max_n, epsilon, delta):\n",
    "    ct = np.zeros(max_n)\n",
    "    mt = np.zeros(max_n)\n",
    "    UB = np.Inf\n",
    "    LB = 0\n",
    "    for i in range(max_n):\n",
    "        t = i + 1\n",
    "        Xt[i] = plat_game(x)\n",
    "        Xi = Xt[:t]\n",
    "        mt = np.mean(Xi)\n",
    "        sig = np.sqrt( np.sum( (Xi - mt)**2 ) / t )\n",
    "        ct = sig*np.sqrt(2*np.log(3/delta)/t) + 3*np.log(3/delta)/t\n",
    "        LB = max(LB, mt - ct)\n",
    "        UB = min(UB, mt + ct)\n",
    "        if (1 + epsilon)*LB > (1-epsilon)*UB: #clasic EBStop\n",
    "            return  1/2*((1+epsilon)*LB + (1-epsilon)*UB)\n",
    "        elif ct < epsilon: #limit\n",
    "            return mt\n",
    "    return mt\n"
   ]
  }
 ],
 "metadata": {
  "kernelspec": {
   "display_name": "Python 3.8.11 ('venv': venv)",
   "language": "python",
   "name": "python3"
  },
  "language_info": {
   "codemirror_mode": {
    "name": "ipython",
    "version": 3
   },
   "file_extension": ".py",
   "mimetype": "text/x-python",
   "name": "python",
   "nbconvert_exporter": "python",
   "pygments_lexer": "ipython3",
   "version": "3.8.11"
  },
  "orig_nbformat": 4,
  "vscode": {
   "interpreter": {
    "hash": "dc844877c8cb8c5a0c97ec843d9407c27d8eb3b560f955ff23798ff6f93462af"
   }
  }
 },
 "nbformat": 4,
 "nbformat_minor": 2
}
